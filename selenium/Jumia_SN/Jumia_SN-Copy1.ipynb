{
 "cells": [
  {
   "cell_type": "code",
   "execution_count": 1,
   "id": "46a386f4-6492-49c4-a3bf-ac35d8ee892d",
   "metadata": {},
   "outputs": [],
   "source": [
    "from selenium import webdriver\n",
    "from selenium.webdriver.support.ui import WebDriverWait\n",
    "from selenium.webdriver.chrome.service import Service\n",
    "from webdriver_manager.chrome import ChromeDriverManager\n",
    "from selenium.webdriver.chrome.options import Options\n",
    "from selenium.webdriver.common.by import By\n",
    "from selenium.webdriver.support import expected_conditions as EC\n",
    "import pandas as pd"
   ]
  },
  {
   "cell_type": "code",
   "execution_count": 2,
   "id": "ed01d195-ff9f-43a0-aaa1-c6dee3e9362f",
   "metadata": {},
   "outputs": [
    {
     "name": "stdout",
     "output_type": "stream",
     "text": [
      "\n"
     ]
    },
    {
     "name": "stderr",
     "output_type": "stream",
     "text": [
      "[WDM] - ====== WebDriver manager ======\n",
      "[WDM] - Current google-chrome version is 102.0.5005\n",
      "[WDM] - Get LATEST chromedriver version for 102.0.5005 google-chrome\n",
      "[WDM] - Driver [C:\\Users\\emman\\.wdm\\drivers\\chromedriver\\win32\\102.0.5005.61\\chromedriver.exe] found in cache\n"
     ]
    }
   ],
   "source": [
    "driver_options = Options()\n",
    "driver_options.add_argument(\"accept-language=en-US\")\n",
    "\n",
    "s=Service(ChromeDriverManager().install())\n",
    "driver = webdriver.Chrome(service=s,options=driver_options)\n",
    "driver.maximize_window()\n"
   ]
  },
  {
   "cell_type": "code",
   "execution_count": 3,
   "id": "de477c49-f97d-44fe-adde-7033e422c5c5",
   "metadata": {},
   "outputs": [],
   "source": [
    "INITIAL_WEBSITE = \"https://www.jumia.sn/\"\n",
    "data = {}\n",
    "# go to the root page and get header/menu with its sub-items"
   ]
  },
  {
   "cell_type": "code",
   "execution_count": 4,
   "id": "032edd0a-01b8-477a-8e06-b4547b635d79",
   "metadata": {},
   "outputs": [],
   "source": [
    "driver.get(INITIAL_WEBSITE)"
   ]
  },
  {
   "cell_type": "code",
   "execution_count": 21,
   "id": "bc6f57ea-2e26-487a-a3a0-b2c22744f0af",
   "metadata": {},
   "outputs": [
    {
     "data": {
      "text/plain": [
       "12"
      ]
     },
     "execution_count": 21,
     "metadata": {},
     "output_type": "execute_result"
    }
   ],
   "source": [
    "menu_items = driver.find_elements(by=By.CSS_SELECTOR, value=\"#jm > main > div.row.-pvm > div.col16.-df.-j-bet.-pbs > div.flyout-w.-fsh0.-fs0 > div > a\")\n",
    "len(menu_items)"
   ]
  },
  {
   "cell_type": "code",
   "execution_count": 26,
   "id": "aabe2b9a-8366-4d43-9ec4-a273c595cc37",
   "metadata": {},
   "outputs": [
    {
     "name": "stdout",
     "output_type": "stream",
     "text": [
      " Téléphones & Tablettes -- https://www.jumia.sn/telephone-tablette/ \n",
      " Supermarché -- https://www.jumia.sn/epiceries/ \n",
      " Santé & Beauté -- https://www.jumia.sn/beaute-hygiene-sante/ \n",
      " Électronique -- https://www.jumia.sn/electronique/ \n",
      " Informatique -- https://www.jumia.sn/ordinateurs-accessoires-informatique/ \n"
     ]
    }
   ],
   "source": [
    "for item in menu_items[:5]:\n",
    "    print(f\" {item.find_element(by=By.CSS_SELECTOR, value='span').text} -- {item.get_attribute('href')} \" )"
   ]
  },
  {
   "cell_type": "code",
   "execution_count": 27,
   "id": "118b5f0c-fec5-4eaa-b644-daf531bbdfb6",
   "metadata": {},
   "outputs": [],
   "source": [
    "driver.get(item.get_attribute('href'))"
   ]
  },
  {
   "cell_type": "code",
   "execution_count": 34,
   "id": "610fe884-e274-4286-8584-a282bc5eefb7",
   "metadata": {},
   "outputs": [
    {
     "data": {
      "text/plain": [
       "'1455 résultats'"
      ]
     },
     "execution_count": 34,
     "metadata": {},
     "output_type": "execute_result"
    }
   ],
   "source": [
    "n_results_str = driver.find_element(by=By.CSS_SELECTOR, value='p.-gy5.-phs').text\n",
    "n_results_str"
   ]
  },
  {
   "cell_type": "code",
   "execution_count": 32,
   "id": "9a627672-b40d-41fd-bd89-13ca1c9f92ec",
   "metadata": {
    "collapsed": true,
    "jupyter": {
     "outputs_hidden": true
    },
    "tags": []
   },
   "outputs": [
    {
     "data": {
      "text/plain": [
       "[<selenium.webdriver.remote.webelement.WebElement (session=\"722a484e3210aaabaea03d507dad3272\", element=\"1a46e9c1-a814-4433-88e4-8d7137d8c60d\")>,\n",
       " <selenium.webdriver.remote.webelement.WebElement (session=\"722a484e3210aaabaea03d507dad3272\", element=\"4e3edf3e-1f05-4bb1-a0a0-fbdc742b6d6d\")>,\n",
       " <selenium.webdriver.remote.webelement.WebElement (session=\"722a484e3210aaabaea03d507dad3272\", element=\"32ec616f-83ad-419f-a349-44254f3550dc\")>,\n",
       " <selenium.webdriver.remote.webelement.WebElement (session=\"722a484e3210aaabaea03d507dad3272\", element=\"3e70b814-32b4-42d6-87a7-95fe535ebe8d\")>,\n",
       " <selenium.webdriver.remote.webelement.WebElement (session=\"722a484e3210aaabaea03d507dad3272\", element=\"6fc76061-eca4-4e0a-88f0-c7fce04725fa\")>,\n",
       " <selenium.webdriver.remote.webelement.WebElement (session=\"722a484e3210aaabaea03d507dad3272\", element=\"10322530-5d17-4356-a53b-d39c48a6fed8\")>,\n",
       " <selenium.webdriver.remote.webelement.WebElement (session=\"722a484e3210aaabaea03d507dad3272\", element=\"b689f606-9655-4ad2-88fb-6108a8ef281a\")>,\n",
       " <selenium.webdriver.remote.webelement.WebElement (session=\"722a484e3210aaabaea03d507dad3272\", element=\"1b478fe5-f323-4cd3-9118-7636fcf710ae\")>,\n",
       " <selenium.webdriver.remote.webelement.WebElement (session=\"722a484e3210aaabaea03d507dad3272\", element=\"80181c23-f9b6-4f13-8597-79fff7dc03a3\")>,\n",
       " <selenium.webdriver.remote.webelement.WebElement (session=\"722a484e3210aaabaea03d507dad3272\", element=\"357fd4c7-f6cc-4615-9fa7-911aa2539522\")>,\n",
       " <selenium.webdriver.remote.webelement.WebElement (session=\"722a484e3210aaabaea03d507dad3272\", element=\"016d2b9b-467e-4498-9dae-68d1abecfebd\")>,\n",
       " <selenium.webdriver.remote.webelement.WebElement (session=\"722a484e3210aaabaea03d507dad3272\", element=\"64899506-beda-48a2-ad4b-153def33b94a\")>,\n",
       " <selenium.webdriver.remote.webelement.WebElement (session=\"722a484e3210aaabaea03d507dad3272\", element=\"a678bd8a-e4b8-40cb-a001-8bd2ea260dc2\")>,\n",
       " <selenium.webdriver.remote.webelement.WebElement (session=\"722a484e3210aaabaea03d507dad3272\", element=\"1a766abf-7bfa-45e6-b22b-f4fd5e90f39c\")>,\n",
       " <selenium.webdriver.remote.webelement.WebElement (session=\"722a484e3210aaabaea03d507dad3272\", element=\"b40e113c-93c0-43af-8671-31ee519f522e\")>,\n",
       " <selenium.webdriver.remote.webelement.WebElement (session=\"722a484e3210aaabaea03d507dad3272\", element=\"c374def0-e01f-43dd-9ed4-1ce875d4e05e\")>,\n",
       " <selenium.webdriver.remote.webelement.WebElement (session=\"722a484e3210aaabaea03d507dad3272\", element=\"a295db62-df29-4371-8313-7e9621b1a69c\")>,\n",
       " <selenium.webdriver.remote.webelement.WebElement (session=\"722a484e3210aaabaea03d507dad3272\", element=\"8f444066-c5d9-47bf-b98f-72f1dea17a41\")>,\n",
       " <selenium.webdriver.remote.webelement.WebElement (session=\"722a484e3210aaabaea03d507dad3272\", element=\"23b48c48-89bc-4609-9b81-46b05f950128\")>,\n",
       " <selenium.webdriver.remote.webelement.WebElement (session=\"722a484e3210aaabaea03d507dad3272\", element=\"bab0c6b2-19e1-4e44-b716-53a356f14db1\")>,\n",
       " <selenium.webdriver.remote.webelement.WebElement (session=\"722a484e3210aaabaea03d507dad3272\", element=\"d371cbfd-b1f6-411d-bf81-4e51dbb7d1e5\")>,\n",
       " <selenium.webdriver.remote.webelement.WebElement (session=\"722a484e3210aaabaea03d507dad3272\", element=\"41792cf6-a660-433e-a22b-db3ccabb6fa5\")>,\n",
       " <selenium.webdriver.remote.webelement.WebElement (session=\"722a484e3210aaabaea03d507dad3272\", element=\"b7999d91-6b84-4fda-bdaa-40129c32258a\")>,\n",
       " <selenium.webdriver.remote.webelement.WebElement (session=\"722a484e3210aaabaea03d507dad3272\", element=\"1c13ea90-8ff7-402a-8a0d-961acf7f1840\")>,\n",
       " <selenium.webdriver.remote.webelement.WebElement (session=\"722a484e3210aaabaea03d507dad3272\", element=\"6547296c-26b4-476e-932a-0950c7e67f7e\")>,\n",
       " <selenium.webdriver.remote.webelement.WebElement (session=\"722a484e3210aaabaea03d507dad3272\", element=\"6fb94ceb-b85c-4247-9b27-cd266c0a8235\")>,\n",
       " <selenium.webdriver.remote.webelement.WebElement (session=\"722a484e3210aaabaea03d507dad3272\", element=\"8930ce22-12f1-41ea-8e49-b51f2f26b7f1\")>,\n",
       " <selenium.webdriver.remote.webelement.WebElement (session=\"722a484e3210aaabaea03d507dad3272\", element=\"8a6856cf-6f04-49b4-af8d-25884adc8b47\")>,\n",
       " <selenium.webdriver.remote.webelement.WebElement (session=\"722a484e3210aaabaea03d507dad3272\", element=\"a9eb9100-8b67-4270-b27c-f9e9ce19e035\")>,\n",
       " <selenium.webdriver.remote.webelement.WebElement (session=\"722a484e3210aaabaea03d507dad3272\", element=\"b3dfbbfd-220d-4907-98f8-5841665d87e0\")>,\n",
       " <selenium.webdriver.remote.webelement.WebElement (session=\"722a484e3210aaabaea03d507dad3272\", element=\"22df23ff-7207-47a2-bc6f-3da6c398498b\")>,\n",
       " <selenium.webdriver.remote.webelement.WebElement (session=\"722a484e3210aaabaea03d507dad3272\", element=\"171ebeea-19e1-4893-81c1-1c36c6aa47bd\")>,\n",
       " <selenium.webdriver.remote.webelement.WebElement (session=\"722a484e3210aaabaea03d507dad3272\", element=\"3986f02a-7e26-4d0a-bbdc-472772868316\")>,\n",
       " <selenium.webdriver.remote.webelement.WebElement (session=\"722a484e3210aaabaea03d507dad3272\", element=\"168ee03f-2f23-46ac-8506-144d98b0c21f\")>,\n",
       " <selenium.webdriver.remote.webelement.WebElement (session=\"722a484e3210aaabaea03d507dad3272\", element=\"80119779-8493-45b2-a403-9206e4678599\")>,\n",
       " <selenium.webdriver.remote.webelement.WebElement (session=\"722a484e3210aaabaea03d507dad3272\", element=\"8d065690-8785-4efd-a448-6e4dc1ab7179\")>,\n",
       " <selenium.webdriver.remote.webelement.WebElement (session=\"722a484e3210aaabaea03d507dad3272\", element=\"7c0ce6ec-44c9-4e8a-9a24-cb0fd5331ef6\")>,\n",
       " <selenium.webdriver.remote.webelement.WebElement (session=\"722a484e3210aaabaea03d507dad3272\", element=\"499c3ef9-1340-4edd-88be-d35664c754b5\")>,\n",
       " <selenium.webdriver.remote.webelement.WebElement (session=\"722a484e3210aaabaea03d507dad3272\", element=\"bf829025-9c28-456c-b0b4-fa6a0ddc2799\")>,\n",
       " <selenium.webdriver.remote.webelement.WebElement (session=\"722a484e3210aaabaea03d507dad3272\", element=\"2caf7587-49af-42f4-a9f7-3bdb26966951\")>,\n",
       " <selenium.webdriver.remote.webelement.WebElement (session=\"722a484e3210aaabaea03d507dad3272\", element=\"0b54786f-403f-4998-a041-9ff8db53abc2\")>,\n",
       " <selenium.webdriver.remote.webelement.WebElement (session=\"722a484e3210aaabaea03d507dad3272\", element=\"46aff6fe-72c6-435a-9d7b-8e0d7d3eb930\")>,\n",
       " <selenium.webdriver.remote.webelement.WebElement (session=\"722a484e3210aaabaea03d507dad3272\", element=\"d42af65a-e718-4243-9597-4f821aa54afa\")>,\n",
       " <selenium.webdriver.remote.webelement.WebElement (session=\"722a484e3210aaabaea03d507dad3272\", element=\"9f8b59c2-16a2-4186-843f-5dfd9ac903d9\")>,\n",
       " <selenium.webdriver.remote.webelement.WebElement (session=\"722a484e3210aaabaea03d507dad3272\", element=\"2ad9d1aa-eb51-4a20-a82f-b08b3a1dd4f7\")>,\n",
       " <selenium.webdriver.remote.webelement.WebElement (session=\"722a484e3210aaabaea03d507dad3272\", element=\"231dd466-83aa-4f37-8760-0f2da82fd0f3\")>,\n",
       " <selenium.webdriver.remote.webelement.WebElement (session=\"722a484e3210aaabaea03d507dad3272\", element=\"8629b460-518b-4735-a411-360e87515f70\")>,\n",
       " <selenium.webdriver.remote.webelement.WebElement (session=\"722a484e3210aaabaea03d507dad3272\", element=\"7201dda4-c7cc-436c-8e4d-d8ff1eb8f73f\")>]"
      ]
     },
     "execution_count": 32,
     "metadata": {},
     "output_type": "execute_result"
    }
   ],
   "source": [
    "# driver.find_elements(by=By.CSS_SELECTOR, value='a.-db.-pvs.-phxl.-hov-bg-gy05') # get sub categories\n",
    "driver.find_elements(by=By.CSS_SELECTOR, value='article.prd._fb.col.c-prd') # get article boxes"
   ]
  },
  {
   "cell_type": "code",
   "execution_count": 39,
   "id": "53ee1cbb-04ea-4b76-9e53-5a70bd987d1d",
   "metadata": {},
   "outputs": [
    {
     "data": {
      "text/plain": [
       "'Page suivante'"
      ]
     },
     "execution_count": 39,
     "metadata": {},
     "output_type": "execute_result"
    }
   ],
   "source": [
    "next_page_btn = driver.find_elements(by=By.CSS_SELECTOR, value='div.pg-w.-ptm.-pbxl a')[-2] \n",
    "next_page_btn.get_attribute('aria-label')"
   ]
  },
  {
   "cell_type": "code",
   "execution_count": 48,
   "id": "261d5e59-3473-48c8-91b4-1896c761f78a",
   "metadata": {},
   "outputs": [
    {
     "data": {
      "text/plain": [
       "('link',\n",
       " 'Page suivante',\n",
       " True,\n",
       " 'https://www.jumia.sn/ordinateurs-accessoires-informatique/?page=36#catalog-listing')"
      ]
     },
     "execution_count": 48,
     "metadata": {},
     "output_type": "execute_result"
    }
   ],
   "source": [
    "next_page_btn.aria_role, next_page_btn.accessible_name, next_page_btn.is_enabled(), driver.current_url"
   ]
  },
  {
   "cell_type": "code",
   "execution_count": 47,
   "id": "ec1a7445-87fa-430e-99de-3f6b7a7c8be1",
   "metadata": {},
   "outputs": [
    {
     "data": {
      "text/plain": [
       "'Page suivante'"
      ]
     },
     "execution_count": 47,
     "metadata": {},
     "output_type": "execute_result"
    }
   ],
   "source": [
    "next_page_btn."
   ]
  },
  {
   "cell_type": "code",
   "execution_count": 49,
   "id": "1098dd19-e694-4cd1-b7e0-fb92a43ab535",
   "metadata": {},
   "outputs": [],
   "source": [
    "driver.find_elements(by=By.CSS_SELECTOR, value='div.pg-w.-ptm.-pbxl a')[-2] .click()"
   ]
  },
  {
   "cell_type": "code",
   "execution_count": 50,
   "id": "6121b493-fbf5-4f28-8388-7190d27ceaa5",
   "metadata": {},
   "outputs": [],
   "source": [
    "next_page_btn = driver.find_elements(by=By.CSS_SELECTOR, value='div.pg-w.-ptm.-pbxl a')[-2] \n",
    "next_page_btn.get_attribute('aria-label')"
   ]
  },
  {
   "cell_type": "code",
   "execution_count": 51,
   "id": "89a173b5-5427-4a13-81b7-730c1cc5b21c",
   "metadata": {},
   "outputs": [
    {
     "data": {
      "text/plain": [
       "('none',\n",
       " '',\n",
       " True,\n",
       " 'https://www.jumia.sn/ordinateurs-accessoires-informatique/?page=37#catalog-listing')"
      ]
     },
     "execution_count": 51,
     "metadata": {},
     "output_type": "execute_result"
    }
   ],
   "source": [
    "next_page_btn.aria_role, next_page_btn.accessible_name, next_page_btn.is_enabled(), driver.current_url"
   ]
  },
  {
   "cell_type": "code",
   "execution_count": null,
   "id": "8c9ef27e-1b27-482a-80bd-ebddec4150b2",
   "metadata": {},
   "outputs": [],
   "source": [
    "# Autres catégories -- None # issue to solve later"
   ]
  },
  {
   "cell_type": "code",
   "execution_count": 4,
   "id": "f835ec80-ab04-4280-83bd-658aaff12780",
   "metadata": {},
   "outputs": [],
   "source": [
    "def process_article(article):\n",
    "    \"\"\"retrive needed information from an article\"\"\"\n",
    "    \n",
    "    name = article.find_element(by=By.CSS_SELECTOR, value='h3.name').text\n",
    "    price = article.find_element(by=By.CSS_SELECTOR, value='div.prc').text\n",
    "    img_link = article.find_element(by=By.CSS_SELECTOR, value='img.img').get_attribute('data-src')\n",
    "    descrption_link = article.find_element(by=By.CSS_SELECTOR, value='a.core').get_attribute('href')\n",
    "    try:\n",
    "        old_price, decrease_percentage = article.find_element(by=By.CSS_SELECTOR, value='div.s-prc-w').text.split(\"\\n\")\n",
    "    except:\n",
    "        old_price, decrease_percentage = '', ''\n",
    "    try:\n",
    "        n_stars, n_votes = article.find_element(by=By.CSS_SELECTOR, value='div.rev').text.split(\"\\n\")\n",
    "        # n_votes = int(n_votes.replace(\"(\", \"\").replace(\")\", \"\")) # clean value and convert to int \n",
    "    except:\n",
    "        n_stars, n_votes = '', ''\n",
    "    try:\n",
    "        article.find_element(by=By.CSS_SELECTOR, value='svg.ic.xprss')\n",
    "        jumia_express = True\n",
    "    except:\n",
    "        jumia_express = False\n",
    "\n",
    "    article_data = dict(name=name , price=price , descrption_link=descrption_link , img_link=img_link , jumia_express=jumia_express ,\n",
    "                   old_price=old_price , decrease_percentage=decrease_percentage ,n_stars=n_stars, n_votes=n_votes  )\n",
    "    return article_data"
   ]
  },
  {
   "cell_type": "code",
   "execution_count": 5,
   "id": "7ac67399-be25-40a9-a75b-7e39dbe61279",
   "metadata": {},
   "outputs": [
    {
     "ename": "StaleElementReferenceException",
     "evalue": "Message: stale element reference: element is not attached to the page document\n  (Session info: chrome=102.0.5005.63)\nStacktrace:\nBacktrace:\n\tOrdinal0 [0x004DD953+2414931]\n\tOrdinal0 [0x0046F5E1+1963489]\n\tOrdinal0 [0x0035C6B8+837304]\n\tOrdinal0 [0x0035F0B4+848052]\n\tOrdinal0 [0x0035EF72+847730]\n\tOrdinal0 [0x0035F200+848384]\n\tOrdinal0 [0x00389215+1020437]\n\tOrdinal0 [0x0038979B+1021851]\n\tOrdinal0 [0x0037FCF1+982257]\n\tOrdinal0 [0x003A44E4+1131748]\n\tOrdinal0 [0x0037FC74+982132]\n\tOrdinal0 [0x003A46B4+1132212]\n\tOrdinal0 [0x003B4812+1198098]\n\tOrdinal0 [0x003A42B6+1131190]\n\tOrdinal0 [0x0037E860+976992]\n\tOrdinal0 [0x0037F756+980822]\n\tGetHandleVerifier [0x0074CC62+2510274]\n\tGetHandleVerifier [0x0073F760+2455744]\n\tGetHandleVerifier [0x0056EABA+551962]\n\tGetHandleVerifier [0x0056D916+547446]\n\tOrdinal0 [0x00475F3B+1990459]\n\tOrdinal0 [0x0047A898+2009240]\n\tOrdinal0 [0x0047A985+2009477]\n\tOrdinal0 [0x00483AD1+2046673]\n\tBaseThreadInitThunk [0x7675FA29+25]\n\tRtlGetAppContainerNamedObjectPath [0x77D77A9E+286]\n\tRtlGetAppContainerNamedObjectPath [0x77D77A6E+238]\n",
     "output_type": "error",
     "traceback": [
      "\u001b[1;31m---------------------------------------------------------------------------\u001b[0m",
      "\u001b[1;31mStaleElementReferenceException\u001b[0m            Traceback (most recent call last)",
      "\u001b[1;32m~\\AppData\\Local\\Temp/ipykernel_22532/2511472846.py\u001b[0m in \u001b[0;36m<module>\u001b[1;34m\u001b[0m\n\u001b[0;32m      2\u001b[0m \u001b[1;33m\u001b[0m\u001b[0m\n\u001b[0;32m      3\u001b[0m \u001b[0mmenu_items\u001b[0m \u001b[1;33m=\u001b[0m \u001b[0mdriver\u001b[0m\u001b[1;33m.\u001b[0m\u001b[0mfind_elements\u001b[0m\u001b[1;33m(\u001b[0m\u001b[0mby\u001b[0m\u001b[1;33m=\u001b[0m\u001b[0mBy\u001b[0m\u001b[1;33m.\u001b[0m\u001b[0mCSS_SELECTOR\u001b[0m\u001b[1;33m,\u001b[0m \u001b[0mvalue\u001b[0m\u001b[1;33m=\u001b[0m\u001b[1;34m\"#jm > main > div.row.-pvm > div.col16.-df.-j-bet.-pbs > div.flyout-w.-fsh0.-fs0 > div > a\"\u001b[0m\u001b[1;33m)\u001b[0m\u001b[1;33m\u001b[0m\u001b[1;33m\u001b[0m\u001b[0m\n\u001b[1;32m----> 4\u001b[1;33m \u001b[0mmenu_items\u001b[0m \u001b[1;33m=\u001b[0m \u001b[1;33m{\u001b[0m \u001b[0mcat\u001b[0m\u001b[1;33m.\u001b[0m\u001b[0mfind_element\u001b[0m\u001b[1;33m(\u001b[0m\u001b[0mby\u001b[0m\u001b[1;33m=\u001b[0m\u001b[0mBy\u001b[0m\u001b[1;33m.\u001b[0m\u001b[0mCSS_SELECTOR\u001b[0m\u001b[1;33m,\u001b[0m \u001b[0mvalue\u001b[0m\u001b[1;33m=\u001b[0m\u001b[1;34m'span'\u001b[0m\u001b[1;33m)\u001b[0m\u001b[1;33m.\u001b[0m\u001b[0mtext\u001b[0m\u001b[1;33m:\u001b[0m\u001b[0mcat\u001b[0m\u001b[1;33m.\u001b[0m\u001b[0mget_attribute\u001b[0m\u001b[1;33m(\u001b[0m\u001b[1;34m'href'\u001b[0m\u001b[1;33m)\u001b[0m \u001b[1;32mfor\u001b[0m \u001b[0mcat\u001b[0m \u001b[1;32min\u001b[0m \u001b[0mmenu_items\u001b[0m\u001b[1;33m}\u001b[0m\u001b[1;33m\u001b[0m\u001b[1;33m\u001b[0m\u001b[0m\n\u001b[0m\u001b[0;32m      5\u001b[0m \u001b[1;33m\u001b[0m\u001b[0m\n\u001b[0;32m      6\u001b[0m \u001b[0mprint\u001b[0m\u001b[1;33m(\u001b[0m\u001b[1;34mf\"Available categories : {len(menu_items)} \\n\"\u001b[0m \u001b[1;33m)\u001b[0m\u001b[1;33m\u001b[0m\u001b[1;33m\u001b[0m\u001b[0m\n",
      "\u001b[1;32m~\\AppData\\Local\\Temp/ipykernel_22532/2511472846.py\u001b[0m in \u001b[0;36m<dictcomp>\u001b[1;34m(.0)\u001b[0m\n\u001b[0;32m      2\u001b[0m \u001b[1;33m\u001b[0m\u001b[0m\n\u001b[0;32m      3\u001b[0m \u001b[0mmenu_items\u001b[0m \u001b[1;33m=\u001b[0m \u001b[0mdriver\u001b[0m\u001b[1;33m.\u001b[0m\u001b[0mfind_elements\u001b[0m\u001b[1;33m(\u001b[0m\u001b[0mby\u001b[0m\u001b[1;33m=\u001b[0m\u001b[0mBy\u001b[0m\u001b[1;33m.\u001b[0m\u001b[0mCSS_SELECTOR\u001b[0m\u001b[1;33m,\u001b[0m \u001b[0mvalue\u001b[0m\u001b[1;33m=\u001b[0m\u001b[1;34m\"#jm > main > div.row.-pvm > div.col16.-df.-j-bet.-pbs > div.flyout-w.-fsh0.-fs0 > div > a\"\u001b[0m\u001b[1;33m)\u001b[0m\u001b[1;33m\u001b[0m\u001b[1;33m\u001b[0m\u001b[0m\n\u001b[1;32m----> 4\u001b[1;33m \u001b[0mmenu_items\u001b[0m \u001b[1;33m=\u001b[0m \u001b[1;33m{\u001b[0m \u001b[0mcat\u001b[0m\u001b[1;33m.\u001b[0m\u001b[0mfind_element\u001b[0m\u001b[1;33m(\u001b[0m\u001b[0mby\u001b[0m\u001b[1;33m=\u001b[0m\u001b[0mBy\u001b[0m\u001b[1;33m.\u001b[0m\u001b[0mCSS_SELECTOR\u001b[0m\u001b[1;33m,\u001b[0m \u001b[0mvalue\u001b[0m\u001b[1;33m=\u001b[0m\u001b[1;34m'span'\u001b[0m\u001b[1;33m)\u001b[0m\u001b[1;33m.\u001b[0m\u001b[0mtext\u001b[0m\u001b[1;33m:\u001b[0m\u001b[0mcat\u001b[0m\u001b[1;33m.\u001b[0m\u001b[0mget_attribute\u001b[0m\u001b[1;33m(\u001b[0m\u001b[1;34m'href'\u001b[0m\u001b[1;33m)\u001b[0m \u001b[1;32mfor\u001b[0m \u001b[0mcat\u001b[0m \u001b[1;32min\u001b[0m \u001b[0mmenu_items\u001b[0m\u001b[1;33m}\u001b[0m\u001b[1;33m\u001b[0m\u001b[1;33m\u001b[0m\u001b[0m\n\u001b[0m\u001b[0;32m      5\u001b[0m \u001b[1;33m\u001b[0m\u001b[0m\n\u001b[0;32m      6\u001b[0m \u001b[0mprint\u001b[0m\u001b[1;33m(\u001b[0m\u001b[1;34mf\"Available categories : {len(menu_items)} \\n\"\u001b[0m \u001b[1;33m)\u001b[0m\u001b[1;33m\u001b[0m\u001b[1;33m\u001b[0m\u001b[0m\n",
      "\u001b[1;32m~\\anaconda3\\lib\\site-packages\\selenium\\webdriver\\remote\\webelement.py\u001b[0m in \u001b[0;36mfind_element\u001b[1;34m(self, by, value)\u001b[0m\n\u001b[0;32m    794\u001b[0m             \u001b[0mvalue\u001b[0m \u001b[1;33m=\u001b[0m \u001b[1;34m'[name=\"%s\"]'\u001b[0m \u001b[1;33m%\u001b[0m \u001b[0mvalue\u001b[0m\u001b[1;33m\u001b[0m\u001b[1;33m\u001b[0m\u001b[0m\n\u001b[0;32m    795\u001b[0m \u001b[1;33m\u001b[0m\u001b[0m\n\u001b[1;32m--> 796\u001b[1;33m         return self._execute(Command.FIND_CHILD_ELEMENT,\n\u001b[0m\u001b[0;32m    797\u001b[0m                              {\"using\": by, \"value\": value})['value']\n\u001b[0;32m    798\u001b[0m \u001b[1;33m\u001b[0m\u001b[0m\n",
      "\u001b[1;32m~\\anaconda3\\lib\\site-packages\\selenium\\webdriver\\remote\\webelement.py\u001b[0m in \u001b[0;36m_execute\u001b[1;34m(self, command, params)\u001b[0m\n\u001b[0;32m    771\u001b[0m             \u001b[0mparams\u001b[0m \u001b[1;33m=\u001b[0m \u001b[1;33m{\u001b[0m\u001b[1;33m}\u001b[0m\u001b[1;33m\u001b[0m\u001b[1;33m\u001b[0m\u001b[0m\n\u001b[0;32m    772\u001b[0m         \u001b[0mparams\u001b[0m\u001b[1;33m[\u001b[0m\u001b[1;34m'id'\u001b[0m\u001b[1;33m]\u001b[0m \u001b[1;33m=\u001b[0m \u001b[0mself\u001b[0m\u001b[1;33m.\u001b[0m\u001b[0m_id\u001b[0m\u001b[1;33m\u001b[0m\u001b[1;33m\u001b[0m\u001b[0m\n\u001b[1;32m--> 773\u001b[1;33m         \u001b[1;32mreturn\u001b[0m \u001b[0mself\u001b[0m\u001b[1;33m.\u001b[0m\u001b[0m_parent\u001b[0m\u001b[1;33m.\u001b[0m\u001b[0mexecute\u001b[0m\u001b[1;33m(\u001b[0m\u001b[0mcommand\u001b[0m\u001b[1;33m,\u001b[0m \u001b[0mparams\u001b[0m\u001b[1;33m)\u001b[0m\u001b[1;33m\u001b[0m\u001b[1;33m\u001b[0m\u001b[0m\n\u001b[0m\u001b[0;32m    774\u001b[0m \u001b[1;33m\u001b[0m\u001b[0m\n\u001b[0;32m    775\u001b[0m     \u001b[1;32mdef\u001b[0m \u001b[0mfind_element\u001b[0m\u001b[1;33m(\u001b[0m\u001b[0mself\u001b[0m\u001b[1;33m,\u001b[0m \u001b[0mby\u001b[0m\u001b[1;33m=\u001b[0m\u001b[0mBy\u001b[0m\u001b[1;33m.\u001b[0m\u001b[0mID\u001b[0m\u001b[1;33m,\u001b[0m \u001b[0mvalue\u001b[0m\u001b[1;33m=\u001b[0m\u001b[1;32mNone\u001b[0m\u001b[1;33m)\u001b[0m\u001b[1;33m:\u001b[0m\u001b[1;33m\u001b[0m\u001b[1;33m\u001b[0m\u001b[0m\n",
      "\u001b[1;32m~\\anaconda3\\lib\\site-packages\\selenium\\webdriver\\remote\\webdriver.py\u001b[0m in \u001b[0;36mexecute\u001b[1;34m(self, driver_command, params)\u001b[0m\n\u001b[0;32m    428\u001b[0m         \u001b[0mresponse\u001b[0m \u001b[1;33m=\u001b[0m \u001b[0mself\u001b[0m\u001b[1;33m.\u001b[0m\u001b[0mcommand_executor\u001b[0m\u001b[1;33m.\u001b[0m\u001b[0mexecute\u001b[0m\u001b[1;33m(\u001b[0m\u001b[0mdriver_command\u001b[0m\u001b[1;33m,\u001b[0m \u001b[0mparams\u001b[0m\u001b[1;33m)\u001b[0m\u001b[1;33m\u001b[0m\u001b[1;33m\u001b[0m\u001b[0m\n\u001b[0;32m    429\u001b[0m         \u001b[1;32mif\u001b[0m \u001b[0mresponse\u001b[0m\u001b[1;33m:\u001b[0m\u001b[1;33m\u001b[0m\u001b[1;33m\u001b[0m\u001b[0m\n\u001b[1;32m--> 430\u001b[1;33m             \u001b[0mself\u001b[0m\u001b[1;33m.\u001b[0m\u001b[0merror_handler\u001b[0m\u001b[1;33m.\u001b[0m\u001b[0mcheck_response\u001b[0m\u001b[1;33m(\u001b[0m\u001b[0mresponse\u001b[0m\u001b[1;33m)\u001b[0m\u001b[1;33m\u001b[0m\u001b[1;33m\u001b[0m\u001b[0m\n\u001b[0m\u001b[0;32m    431\u001b[0m             response['value'] = self._unwrap_value(\n\u001b[0;32m    432\u001b[0m                 response.get('value', None))\n",
      "\u001b[1;32m~\\anaconda3\\lib\\site-packages\\selenium\\webdriver\\remote\\errorhandler.py\u001b[0m in \u001b[0;36mcheck_response\u001b[1;34m(self, response)\u001b[0m\n\u001b[0;32m    245\u001b[0m                 \u001b[0malert_text\u001b[0m \u001b[1;33m=\u001b[0m \u001b[0mvalue\u001b[0m\u001b[1;33m[\u001b[0m\u001b[1;34m'alert'\u001b[0m\u001b[1;33m]\u001b[0m\u001b[1;33m.\u001b[0m\u001b[0mget\u001b[0m\u001b[1;33m(\u001b[0m\u001b[1;34m'text'\u001b[0m\u001b[1;33m)\u001b[0m\u001b[1;33m\u001b[0m\u001b[1;33m\u001b[0m\u001b[0m\n\u001b[0;32m    246\u001b[0m             \u001b[1;32mraise\u001b[0m \u001b[0mexception_class\u001b[0m\u001b[1;33m(\u001b[0m\u001b[0mmessage\u001b[0m\u001b[1;33m,\u001b[0m \u001b[0mscreen\u001b[0m\u001b[1;33m,\u001b[0m \u001b[0mstacktrace\u001b[0m\u001b[1;33m,\u001b[0m \u001b[0malert_text\u001b[0m\u001b[1;33m)\u001b[0m  \u001b[1;31m# type: ignore[call-arg]  # mypy is not smart enough here\u001b[0m\u001b[1;33m\u001b[0m\u001b[1;33m\u001b[0m\u001b[0m\n\u001b[1;32m--> 247\u001b[1;33m         \u001b[1;32mraise\u001b[0m \u001b[0mexception_class\u001b[0m\u001b[1;33m(\u001b[0m\u001b[0mmessage\u001b[0m\u001b[1;33m,\u001b[0m \u001b[0mscreen\u001b[0m\u001b[1;33m,\u001b[0m \u001b[0mstacktrace\u001b[0m\u001b[1;33m)\u001b[0m\u001b[1;33m\u001b[0m\u001b[1;33m\u001b[0m\u001b[0m\n\u001b[0m\u001b[0;32m    248\u001b[0m \u001b[1;33m\u001b[0m\u001b[0m\n\u001b[0;32m    249\u001b[0m     \u001b[1;32mdef\u001b[0m \u001b[0m_value_or_default\u001b[0m\u001b[1;33m(\u001b[0m\u001b[0mself\u001b[0m\u001b[1;33m,\u001b[0m \u001b[0mobj\u001b[0m\u001b[1;33m:\u001b[0m \u001b[0mMapping\u001b[0m\u001b[1;33m[\u001b[0m\u001b[0m_KT\u001b[0m\u001b[1;33m,\u001b[0m \u001b[0m_VT\u001b[0m\u001b[1;33m]\u001b[0m\u001b[1;33m,\u001b[0m \u001b[0mkey\u001b[0m\u001b[1;33m:\u001b[0m \u001b[0m_KT\u001b[0m\u001b[1;33m,\u001b[0m \u001b[0mdefault\u001b[0m\u001b[1;33m:\u001b[0m \u001b[0m_VT\u001b[0m\u001b[1;33m)\u001b[0m \u001b[1;33m->\u001b[0m \u001b[0m_VT\u001b[0m\u001b[1;33m:\u001b[0m\u001b[1;33m\u001b[0m\u001b[1;33m\u001b[0m\u001b[0m\n",
      "\u001b[1;31mStaleElementReferenceException\u001b[0m: Message: stale element reference: element is not attached to the page document\n  (Session info: chrome=102.0.5005.63)\nStacktrace:\nBacktrace:\n\tOrdinal0 [0x004DD953+2414931]\n\tOrdinal0 [0x0046F5E1+1963489]\n\tOrdinal0 [0x0035C6B8+837304]\n\tOrdinal0 [0x0035F0B4+848052]\n\tOrdinal0 [0x0035EF72+847730]\n\tOrdinal0 [0x0035F200+848384]\n\tOrdinal0 [0x00389215+1020437]\n\tOrdinal0 [0x0038979B+1021851]\n\tOrdinal0 [0x0037FCF1+982257]\n\tOrdinal0 [0x003A44E4+1131748]\n\tOrdinal0 [0x0037FC74+982132]\n\tOrdinal0 [0x003A46B4+1132212]\n\tOrdinal0 [0x003B4812+1198098]\n\tOrdinal0 [0x003A42B6+1131190]\n\tOrdinal0 [0x0037E860+976992]\n\tOrdinal0 [0x0037F756+980822]\n\tGetHandleVerifier [0x0074CC62+2510274]\n\tGetHandleVerifier [0x0073F760+2455744]\n\tGetHandleVerifier [0x0056EABA+551962]\n\tGetHandleVerifier [0x0056D916+547446]\n\tOrdinal0 [0x00475F3B+1990459]\n\tOrdinal0 [0x0047A898+2009240]\n\tOrdinal0 [0x0047A985+2009477]\n\tOrdinal0 [0x00483AD1+2046673]\n\tBaseThreadInitThunk [0x7675FA29+25]\n\tRtlGetAppContainerNamedObjectPath [0x77D77A9E+286]\n\tRtlGetAppContainerNamedObjectPath [0x77D77A6E+238]\n"
     ]
    }
   ],
   "source": [
    "driver.get(INITIAL_WEBSITE)\n",
    "\n",
    "menu_items = driver.find_elements(by=By.CSS_SELECTOR, value=\"#jm > main > div.row.-pvm > div.col16.-df.-j-bet.-pbs > div.flyout-w.-fsh0.-fs0 > div > a\")\n",
    "menu_items = { cat.find_element(by=By.CSS_SELECTOR, value='span').text:cat.get_attribute('href') for cat in menu_items}\n",
    "    \n",
    "print(f\"Available categories : {len(menu_items)} \\n\" ) \n",
    "\n",
    "for (category_name, category_link) in menu_items.items():\n",
    "    print(f\"{category_name} -- {category_link} \" )\n",
    "    if category_link is not None :\n",
    "        last_page_scraped = False\n",
    "        next_page = category_link\n",
    "\n",
    "        while not last_page_scraped:\n",
    "            # go to a page to scrape articles\n",
    "            driver.get(next_page)\n",
    "            articles_ = driver.find_elements(by=By.CSS_SELECTOR, value='article.prd._fb.col.c-prd') # get article boxes\n",
    "            articles = [process_article(article) for article in articles_]\n",
    "            data[category_name] = articles \n",
    "            next_page_btn = driver.find_elements(by=By.CSS_SELECTOR, value='div.pg-w.-ptm.-pbxl a')[-2] \n",
    "\n",
    "            if next_page_btn.accessible_name not in ['Page suivante']:\n",
    "                last_page_scraped = True\n",
    "\n",
    "            # break\n",
    "\n",
    "        n_results_str = driver.find_element(by=By.CSS_SELECTOR, value='p.-gy5.-phs').text\n",
    "        print(f\"Available articles in this category : {n_results_str.split()[0]} \\n\")\n",
    "    \n",
    "    # break"
   ]
  },
  {
   "cell_type": "code",
   "execution_count": 62,
   "id": "47471763-41d8-4d72-9273-b334f58f2526",
   "metadata": {},
   "outputs": [
    {
     "data": {
      "text/plain": [
       "{'name': 'Samsung Galaxy A03 Core - 4G - 6.5\" - RAM 2Go - ROM 32Go - Caméra 13+2MP - 5000mAh- Noir',\n",
       " 'price': '48 900 FCFA',\n",
       " 'descrption_link': 'https://www.jumia.sn/samsung-galaxy-a03-core-4g-6.5-ram-2go-rom-32go-camera-132mp-5000mah-noir-6100199.html',\n",
       " 'img_link': 'https://sn.jumia.is/unsafe/fit-in/300x300/filters:fill(white)/product/99/10016/1.jpg?8517',\n",
       " 'jumia_express': True,\n",
       " 'old_price': '75 000 FCFA',\n",
       " 'decrease_percentage': '35%',\n",
       " 'n_stars': '4 out of 5',\n",
       " 'n_votes': '(56)'}"
      ]
     },
     "execution_count": 62,
     "metadata": {},
     "output_type": "execute_result"
    }
   ],
   "source": [
    "articles[0]"
   ]
  },
  {
   "cell_type": "code",
   "execution_count": 64,
   "id": "44f290ca-6eb5-4c55-a567-146a2199ebfe",
   "metadata": {
    "tags": []
   },
   "outputs": [
    {
     "data": {
      "text/html": [
       "<div>\n",
       "<style scoped>\n",
       "    .dataframe tbody tr th:only-of-type {\n",
       "        vertical-align: middle;\n",
       "    }\n",
       "\n",
       "    .dataframe tbody tr th {\n",
       "        vertical-align: top;\n",
       "    }\n",
       "\n",
       "    .dataframe thead th {\n",
       "        text-align: right;\n",
       "    }\n",
       "</style>\n",
       "<table border=\"1\" class=\"dataframe\">\n",
       "  <thead>\n",
       "    <tr style=\"text-align: right;\">\n",
       "      <th></th>\n",
       "      <th>name</th>\n",
       "      <th>price</th>\n",
       "      <th>descrption_link</th>\n",
       "      <th>img_link</th>\n",
       "      <th>jumia_express</th>\n",
       "      <th>old_price</th>\n",
       "      <th>decrease_percentage</th>\n",
       "      <th>n_stars</th>\n",
       "      <th>n_votes</th>\n",
       "    </tr>\n",
       "  </thead>\n",
       "  <tbody>\n",
       "    <tr>\n",
       "      <th>0</th>\n",
       "      <td>Samsung Galaxy A03 Core - 4G - 6.5\" - RAM 2Go ...</td>\n",
       "      <td>48 900 FCFA</td>\n",
       "      <td>https://www.jumia.sn/samsung-galaxy-a03-core-4...</td>\n",
       "      <td>https://sn.jumia.is/unsafe/fit-in/300x300/filt...</td>\n",
       "      <td>True</td>\n",
       "      <td>75 000 FCFA</td>\n",
       "      <td>35%</td>\n",
       "      <td>4 out of 5</td>\n",
       "      <td>(56)</td>\n",
       "    </tr>\n",
       "    <tr>\n",
       "      <th>1</th>\n",
       "      <td>Generic Montres Bluetooth Intelligentes Pour L...</td>\n",
       "      <td>5 390 FCFA</td>\n",
       "      <td>https://www.jumia.sn/generic-montres-bluetooth...</td>\n",
       "      <td>https://sn.jumia.is/unsafe/fit-in/300x300/filt...</td>\n",
       "      <td>True</td>\n",
       "      <td>9 945 FCFA</td>\n",
       "      <td>46%</td>\n",
       "      <td></td>\n",
       "      <td></td>\n",
       "    </tr>\n",
       "    <tr>\n",
       "      <th>2</th>\n",
       "      <td>TWS Ecouteurs Pro 5 - Android / Ios - Qualité ...</td>\n",
       "      <td>4 900 FCFA</td>\n",
       "      <td>https://www.jumia.sn/ecouteurs-pro-5-android-i...</td>\n",
       "      <td>https://sn.jumia.is/unsafe/fit-in/300x300/filt...</td>\n",
       "      <td>False</td>\n",
       "      <td>50 000 FCFA</td>\n",
       "      <td>90%</td>\n",
       "      <td>3.5 out of 5</td>\n",
       "      <td>(180)</td>\n",
       "    </tr>\n",
       "    <tr>\n",
       "      <th>3</th>\n",
       "      <td>Samsung Galaxy A03 Core - 4G - 6.5\" - RAM 2Go ...</td>\n",
       "      <td>48 900 FCFA</td>\n",
       "      <td>https://www.jumia.sn/samsung-galaxy-a03-core-4...</td>\n",
       "      <td>https://sn.jumia.is/unsafe/fit-in/300x300/filt...</td>\n",
       "      <td>True</td>\n",
       "      <td>75 000 FCFA</td>\n",
       "      <td>35%</td>\n",
       "      <td>3.9 out of 5</td>\n",
       "      <td>(34)</td>\n",
       "    </tr>\n",
       "    <tr>\n",
       "      <th>4</th>\n",
       "      <td>ARHANORY Support De Trépied Téléphone Selfie A...</td>\n",
       "      <td>2 500 FCFA</td>\n",
       "      <td>https://www.jumia.sn/support-de-trepied-teleph...</td>\n",
       "      <td>https://sn.jumia.is/unsafe/fit-in/300x300/filt...</td>\n",
       "      <td>True</td>\n",
       "      <td>5 600 FCFA</td>\n",
       "      <td>55%</td>\n",
       "      <td>3.6 out of 5</td>\n",
       "      <td>(31)</td>\n",
       "    </tr>\n",
       "  </tbody>\n",
       "</table>\n",
       "</div>"
      ],
      "text/plain": [
       "                                                name        price  \\\n",
       "0  Samsung Galaxy A03 Core - 4G - 6.5\" - RAM 2Go ...  48 900 FCFA   \n",
       "1  Generic Montres Bluetooth Intelligentes Pour L...   5 390 FCFA   \n",
       "2  TWS Ecouteurs Pro 5 - Android / Ios - Qualité ...   4 900 FCFA   \n",
       "3  Samsung Galaxy A03 Core - 4G - 6.5\" - RAM 2Go ...  48 900 FCFA   \n",
       "4  ARHANORY Support De Trépied Téléphone Selfie A...   2 500 FCFA   \n",
       "\n",
       "                                     descrption_link  \\\n",
       "0  https://www.jumia.sn/samsung-galaxy-a03-core-4...   \n",
       "1  https://www.jumia.sn/generic-montres-bluetooth...   \n",
       "2  https://www.jumia.sn/ecouteurs-pro-5-android-i...   \n",
       "3  https://www.jumia.sn/samsung-galaxy-a03-core-4...   \n",
       "4  https://www.jumia.sn/support-de-trepied-teleph...   \n",
       "\n",
       "                                            img_link  jumia_express  \\\n",
       "0  https://sn.jumia.is/unsafe/fit-in/300x300/filt...           True   \n",
       "1  https://sn.jumia.is/unsafe/fit-in/300x300/filt...           True   \n",
       "2  https://sn.jumia.is/unsafe/fit-in/300x300/filt...          False   \n",
       "3  https://sn.jumia.is/unsafe/fit-in/300x300/filt...           True   \n",
       "4  https://sn.jumia.is/unsafe/fit-in/300x300/filt...           True   \n",
       "\n",
       "     old_price decrease_percentage       n_stars n_votes  \n",
       "0  75 000 FCFA                 35%    4 out of 5    (56)  \n",
       "1   9 945 FCFA                 46%                        \n",
       "2  50 000 FCFA                 90%  3.5 out of 5   (180)  \n",
       "3  75 000 FCFA                 35%  3.9 out of 5    (34)  \n",
       "4   5 600 FCFA                 55%  3.6 out of 5    (31)  "
      ]
     },
     "execution_count": 64,
     "metadata": {},
     "output_type": "execute_result"
    }
   ],
   "source": [
    "pd.DataFrame(articles).head()"
   ]
  },
  {
   "cell_type": "code",
   "execution_count": null,
   "id": "75f76f34-165b-4f60-8ecc-a93657c71ffc",
   "metadata": {},
   "outputs": [],
   "source": []
  },
  {
   "cell_type": "code",
   "execution_count": 60,
   "id": "94cb6691-0c01-4556-89aa-a7c4a3bdcbdd",
   "metadata": {},
   "outputs": [],
   "source": []
  },
  {
   "cell_type": "code",
   "execution_count": null,
   "id": "1c748719-2680-4baa-bc4d-38c713d5419d",
   "metadata": {},
   "outputs": [],
   "source": []
  }
 ],
 "metadata": {
  "kernelspec": {
   "display_name": "Python 3 (ipykernel)",
   "language": "python",
   "name": "python3"
  },
  "language_info": {
   "codemirror_mode": {
    "name": "ipython",
    "version": 3
   },
   "file_extension": ".py",
   "mimetype": "text/x-python",
   "name": "python",
   "nbconvert_exporter": "python",
   "pygments_lexer": "ipython3",
   "version": "3.9.7"
  }
 },
 "nbformat": 4,
 "nbformat_minor": 5
}
