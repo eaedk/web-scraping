{
 "cells": [
  {
   "cell_type": "code",
   "execution_count": 1,
   "id": "46a386f4-6492-49c4-a3bf-ac35d8ee892d",
   "metadata": {},
   "outputs": [],
   "source": [
    "from selenium import webdriver\n",
    "from selenium.webdriver.support.ui import WebDriverWait\n",
    "from selenium.webdriver.chrome.service import Service\n",
    "from webdriver_manager.chrome import ChromeDriverManager\n",
    "from selenium.webdriver.chrome.options import Options\n",
    "from selenium.webdriver.common.by import By\n",
    "from selenium.webdriver.support import expected_conditions as EC\n",
    "import pandas as pd\n",
    "import os"
   ]
  },
  {
   "cell_type": "code",
   "execution_count": 2,
   "id": "ed01d195-ff9f-43a0-aaa1-c6dee3e9362f",
   "metadata": {},
   "outputs": [
    {
     "name": "stdout",
     "output_type": "stream",
     "text": [
      "\n"
     ]
    },
    {
     "name": "stderr",
     "output_type": "stream",
     "text": [
      "[WDM] - ====== WebDriver manager ======\n",
      "[WDM] - Current google-chrome version is 102.0.5005\n",
      "[WDM] - Get LATEST chromedriver version for 102.0.5005 google-chrome\n",
      "[WDM] - Driver [C:\\Users\\emman\\.wdm\\drivers\\chromedriver\\win32\\102.0.5005.61\\chromedriver.exe] found in cache\n"
     ]
    }
   ],
   "source": [
    "driver_options = Options()\n",
    "driver_options.add_argument(\"accept-language=en-US\")\n",
    "\n",
    "s=Service(ChromeDriverManager().install())\n",
    "driver = webdriver.Chrome(service=s,options=driver_options)\n",
    "driver.maximize_window()\n"
   ]
  },
  {
   "cell_type": "code",
   "execution_count": 3,
   "id": "de477c49-f97d-44fe-adde-7033e422c5c5",
   "metadata": {},
   "outputs": [],
   "source": [
    "INITIAL_WEBSITE = \"https://www.jumia.sn/\"\n",
    "data = {}\n",
    "# go to the root page and get header/menu with its sub-items"
   ]
  },
  {
   "cell_type": "code",
   "execution_count": 4,
   "id": "8c9ef27e-1b27-482a-80bd-ebddec4150b2",
   "metadata": {},
   "outputs": [],
   "source": [
    "# Autres catégories -- None # issue to solve later"
   ]
  },
  {
   "cell_type": "code",
   "execution_count": 5,
   "id": "f835ec80-ab04-4280-83bd-658aaff12780",
   "metadata": {},
   "outputs": [],
   "source": [
    "def process_article(article):\n",
    "    \"\"\"retrive needed information from an article\"\"\"\n",
    "    \n",
    "    name = article.find_element(by=By.CSS_SELECTOR, value='h3.name').text\n",
    "    price = article.find_element(by=By.CSS_SELECTOR, value='div.prc').text\n",
    "    img_link = article.find_element(by=By.CSS_SELECTOR, value='img.img').get_attribute('data-src')\n",
    "    descrption_link = article.find_element(by=By.CSS_SELECTOR, value='a.core').get_attribute('href')\n",
    "    try:\n",
    "        old_price, decrease_percentage = article.find_element(by=By.CSS_SELECTOR, value='div.s-prc-w').text.split(\"\\n\")\n",
    "    except:\n",
    "        old_price, decrease_percentage = '', ''\n",
    "    try:\n",
    "        n_stars, n_votes = article.find_element(by=By.CSS_SELECTOR, value='div.rev').text.split(\"\\n\")\n",
    "        # n_votes = int(n_votes.replace(\"(\", \"\").replace(\")\", \"\")) # clean value and convert to int \n",
    "    except:\n",
    "        n_stars, n_votes = '', ''\n",
    "    try:\n",
    "        article.find_element(by=By.CSS_SELECTOR, value='svg.ic.xprss')\n",
    "        jumia_express = True\n",
    "    except:\n",
    "        jumia_express = False\n",
    "\n",
    "    article = dict(name=name , price=price , descrption_link=descrption_link , img_link=img_link , jumia_express=jumia_express ,\n",
    "                   old_price=old_price , decrease_percentage=decrease_percentage ,n_stars=n_stars, n_votes=n_votes  )\n",
    "    return article"
   ]
  },
  {
   "cell_type": "code",
   "execution_count": 8,
   "id": "38184442-59c1-41ca-9c27-b2efd9aa6524",
   "metadata": {},
   "outputs": [
    {
     "data": {
      "text/plain": [
       "True"
      ]
     },
     "execution_count": 8,
     "metadata": {},
     "output_type": "execute_result"
    }
   ],
   "source": [
    "\n",
    "driver.find_element(by=By.CSS_SELECTOR, value='div.-paxl.-tac.-fw').is_displayed()"
   ]
  },
  {
   "cell_type": "code",
   "execution_count": 13,
   "id": "5d1e1d5d-3651-466a-ad3f-43c6e01e6fff",
   "metadata": {},
   "outputs": [
    {
     "data": {
      "text/plain": [
       "[<selenium.webdriver.remote.webelement.WebElement (session=\"126ce3a72ab728513b57f3d83eca05ef\", element=\"863ec69c-8804-47fd-9b85-b7300a041771\")>]"
      ]
     },
     "execution_count": 13,
     "metadata": {},
     "output_type": "execute_result"
    }
   ],
   "source": [
    "def close_popup(driver):\n",
    "    try:\n",
    "    [btn.click() for btn in driver.find_elements(by=By.CSS_SELECTOR, value='div#pop button.cls')]\n",
    "except:\n",
    "    pass"
   ]
  },
  {
   "cell_type": "code",
   "execution_count": 6,
   "id": "7ac67399-be25-40a9-a75b-7e39dbe61279",
   "metadata": {},
   "outputs": [
    {
     "ename": "StaleElementReferenceException",
     "evalue": "Message: stale element reference: element is not attached to the page document\n  (Session info: chrome=102.0.5005.63)\nStacktrace:\nBacktrace:\n\tOrdinal0 [0x004DD953+2414931]\n\tOrdinal0 [0x0046F5E1+1963489]\n\tOrdinal0 [0x0035C6B8+837304]\n\tOrdinal0 [0x0035F0B4+848052]\n\tOrdinal0 [0x0035EF72+847730]\n\tOrdinal0 [0x0035F8EA+850154]\n\tOrdinal0 [0x003B5249+1200713]\n\tOrdinal0 [0x003A449C+1131676]\n\tOrdinal0 [0x003B4812+1198098]\n\tOrdinal0 [0x003A42B6+1131190]\n\tOrdinal0 [0x0037E860+976992]\n\tOrdinal0 [0x0037F756+980822]\n\tGetHandleVerifier [0x0074CC62+2510274]\n\tGetHandleVerifier [0x0073F760+2455744]\n\tGetHandleVerifier [0x0056EABA+551962]\n\tGetHandleVerifier [0x0056D916+547446]\n\tOrdinal0 [0x00475F3B+1990459]\n\tOrdinal0 [0x0047A898+2009240]\n\tOrdinal0 [0x0047A985+2009477]\n\tOrdinal0 [0x00483AD1+2046673]\n\tBaseThreadInitThunk [0x7675FA29+25]\n\tRtlGetAppContainerNamedObjectPath [0x77D77A9E+286]\n\tRtlGetAppContainerNamedObjectPath [0x77D77A6E+238]\n",
     "output_type": "error",
     "traceback": [
      "\u001b[1;31m---------------------------------------------------------------------------\u001b[0m",
      "\u001b[1;31mStaleElementReferenceException\u001b[0m            Traceback (most recent call last)",
      "\u001b[1;32m~\\AppData\\Local\\Temp/ipykernel_13688/2511472846.py\u001b[0m in \u001b[0;36m<module>\u001b[1;34m\u001b[0m\n\u001b[0;32m      2\u001b[0m \u001b[1;33m\u001b[0m\u001b[0m\n\u001b[0;32m      3\u001b[0m \u001b[0mmenu_items\u001b[0m \u001b[1;33m=\u001b[0m \u001b[0mdriver\u001b[0m\u001b[1;33m.\u001b[0m\u001b[0mfind_elements\u001b[0m\u001b[1;33m(\u001b[0m\u001b[0mby\u001b[0m\u001b[1;33m=\u001b[0m\u001b[0mBy\u001b[0m\u001b[1;33m.\u001b[0m\u001b[0mCSS_SELECTOR\u001b[0m\u001b[1;33m,\u001b[0m \u001b[0mvalue\u001b[0m\u001b[1;33m=\u001b[0m\u001b[1;34m\"#jm > main > div.row.-pvm > div.col16.-df.-j-bet.-pbs > div.flyout-w.-fsh0.-fs0 > div > a\"\u001b[0m\u001b[1;33m)\u001b[0m\u001b[1;33m\u001b[0m\u001b[1;33m\u001b[0m\u001b[0m\n\u001b[1;32m----> 4\u001b[1;33m \u001b[0mmenu_items\u001b[0m \u001b[1;33m=\u001b[0m \u001b[1;33m{\u001b[0m \u001b[0mcat\u001b[0m\u001b[1;33m.\u001b[0m\u001b[0mfind_element\u001b[0m\u001b[1;33m(\u001b[0m\u001b[0mby\u001b[0m\u001b[1;33m=\u001b[0m\u001b[0mBy\u001b[0m\u001b[1;33m.\u001b[0m\u001b[0mCSS_SELECTOR\u001b[0m\u001b[1;33m,\u001b[0m \u001b[0mvalue\u001b[0m\u001b[1;33m=\u001b[0m\u001b[1;34m'span'\u001b[0m\u001b[1;33m)\u001b[0m\u001b[1;33m.\u001b[0m\u001b[0mtext\u001b[0m\u001b[1;33m:\u001b[0m\u001b[0mcat\u001b[0m\u001b[1;33m.\u001b[0m\u001b[0mget_attribute\u001b[0m\u001b[1;33m(\u001b[0m\u001b[1;34m'href'\u001b[0m\u001b[1;33m)\u001b[0m \u001b[1;32mfor\u001b[0m \u001b[0mcat\u001b[0m \u001b[1;32min\u001b[0m \u001b[0mmenu_items\u001b[0m\u001b[1;33m}\u001b[0m\u001b[1;33m\u001b[0m\u001b[1;33m\u001b[0m\u001b[0m\n\u001b[0m\u001b[0;32m      5\u001b[0m \u001b[1;33m\u001b[0m\u001b[0m\n\u001b[0;32m      6\u001b[0m \u001b[0mprint\u001b[0m\u001b[1;33m(\u001b[0m\u001b[1;34mf\"Available categories : {len(menu_items)} \\n\"\u001b[0m \u001b[1;33m)\u001b[0m\u001b[1;33m\u001b[0m\u001b[1;33m\u001b[0m\u001b[0m\n",
      "\u001b[1;32m~\\AppData\\Local\\Temp/ipykernel_13688/2511472846.py\u001b[0m in \u001b[0;36m<dictcomp>\u001b[1;34m(.0)\u001b[0m\n\u001b[0;32m      2\u001b[0m \u001b[1;33m\u001b[0m\u001b[0m\n\u001b[0;32m      3\u001b[0m \u001b[0mmenu_items\u001b[0m \u001b[1;33m=\u001b[0m \u001b[0mdriver\u001b[0m\u001b[1;33m.\u001b[0m\u001b[0mfind_elements\u001b[0m\u001b[1;33m(\u001b[0m\u001b[0mby\u001b[0m\u001b[1;33m=\u001b[0m\u001b[0mBy\u001b[0m\u001b[1;33m.\u001b[0m\u001b[0mCSS_SELECTOR\u001b[0m\u001b[1;33m,\u001b[0m \u001b[0mvalue\u001b[0m\u001b[1;33m=\u001b[0m\u001b[1;34m\"#jm > main > div.row.-pvm > div.col16.-df.-j-bet.-pbs > div.flyout-w.-fsh0.-fs0 > div > a\"\u001b[0m\u001b[1;33m)\u001b[0m\u001b[1;33m\u001b[0m\u001b[1;33m\u001b[0m\u001b[0m\n\u001b[1;32m----> 4\u001b[1;33m \u001b[0mmenu_items\u001b[0m \u001b[1;33m=\u001b[0m \u001b[1;33m{\u001b[0m \u001b[0mcat\u001b[0m\u001b[1;33m.\u001b[0m\u001b[0mfind_element\u001b[0m\u001b[1;33m(\u001b[0m\u001b[0mby\u001b[0m\u001b[1;33m=\u001b[0m\u001b[0mBy\u001b[0m\u001b[1;33m.\u001b[0m\u001b[0mCSS_SELECTOR\u001b[0m\u001b[1;33m,\u001b[0m \u001b[0mvalue\u001b[0m\u001b[1;33m=\u001b[0m\u001b[1;34m'span'\u001b[0m\u001b[1;33m)\u001b[0m\u001b[1;33m.\u001b[0m\u001b[0mtext\u001b[0m\u001b[1;33m:\u001b[0m\u001b[0mcat\u001b[0m\u001b[1;33m.\u001b[0m\u001b[0mget_attribute\u001b[0m\u001b[1;33m(\u001b[0m\u001b[1;34m'href'\u001b[0m\u001b[1;33m)\u001b[0m \u001b[1;32mfor\u001b[0m \u001b[0mcat\u001b[0m \u001b[1;32min\u001b[0m \u001b[0mmenu_items\u001b[0m\u001b[1;33m}\u001b[0m\u001b[1;33m\u001b[0m\u001b[1;33m\u001b[0m\u001b[0m\n\u001b[0m\u001b[0;32m      5\u001b[0m \u001b[1;33m\u001b[0m\u001b[0m\n\u001b[0;32m      6\u001b[0m \u001b[0mprint\u001b[0m\u001b[1;33m(\u001b[0m\u001b[1;34mf\"Available categories : {len(menu_items)} \\n\"\u001b[0m \u001b[1;33m)\u001b[0m\u001b[1;33m\u001b[0m\u001b[1;33m\u001b[0m\u001b[0m\n",
      "\u001b[1;32m~\\anaconda3\\lib\\site-packages\\selenium\\webdriver\\remote\\webelement.py\u001b[0m in \u001b[0;36mget_attribute\u001b[1;34m(self, name)\u001b[0m\n\u001b[0;32m    171\u001b[0m         \u001b[1;32mif\u001b[0m \u001b[0mgetAttribute_js\u001b[0m \u001b[1;32mis\u001b[0m \u001b[1;32mNone\u001b[0m\u001b[1;33m:\u001b[0m\u001b[1;33m\u001b[0m\u001b[1;33m\u001b[0m\u001b[0m\n\u001b[0;32m    172\u001b[0m             \u001b[0m_load_js\u001b[0m\u001b[1;33m(\u001b[0m\u001b[1;33m)\u001b[0m\u001b[1;33m\u001b[0m\u001b[1;33m\u001b[0m\u001b[0m\n\u001b[1;32m--> 173\u001b[1;33m         attribute_value = self.parent.execute_script(\n\u001b[0m\u001b[0;32m    174\u001b[0m             \u001b[1;34m\"return (%s).apply(null, arguments);\"\u001b[0m \u001b[1;33m%\u001b[0m \u001b[0mgetAttribute_js\u001b[0m\u001b[1;33m,\u001b[0m\u001b[1;33m\u001b[0m\u001b[1;33m\u001b[0m\u001b[0m\n\u001b[0;32m    175\u001b[0m             self, name)\n",
      "\u001b[1;32m~\\anaconda3\\lib\\site-packages\\selenium\\webdriver\\remote\\webdriver.py\u001b[0m in \u001b[0;36mexecute_script\u001b[1;34m(self, script, *args)\u001b[0m\n\u001b[0;32m    882\u001b[0m         \u001b[0mcommand\u001b[0m \u001b[1;33m=\u001b[0m \u001b[0mCommand\u001b[0m\u001b[1;33m.\u001b[0m\u001b[0mW3C_EXECUTE_SCRIPT\u001b[0m\u001b[1;33m\u001b[0m\u001b[1;33m\u001b[0m\u001b[0m\n\u001b[0;32m    883\u001b[0m \u001b[1;33m\u001b[0m\u001b[0m\n\u001b[1;32m--> 884\u001b[1;33m         return self.execute(command, {\n\u001b[0m\u001b[0;32m    885\u001b[0m             \u001b[1;34m'script'\u001b[0m\u001b[1;33m:\u001b[0m \u001b[0mscript\u001b[0m\u001b[1;33m,\u001b[0m\u001b[1;33m\u001b[0m\u001b[1;33m\u001b[0m\u001b[0m\n\u001b[0;32m    886\u001b[0m             'args': converted_args})['value']\n",
      "\u001b[1;32m~\\anaconda3\\lib\\site-packages\\selenium\\webdriver\\remote\\webdriver.py\u001b[0m in \u001b[0;36mexecute\u001b[1;34m(self, driver_command, params)\u001b[0m\n\u001b[0;32m    428\u001b[0m         \u001b[0mresponse\u001b[0m \u001b[1;33m=\u001b[0m \u001b[0mself\u001b[0m\u001b[1;33m.\u001b[0m\u001b[0mcommand_executor\u001b[0m\u001b[1;33m.\u001b[0m\u001b[0mexecute\u001b[0m\u001b[1;33m(\u001b[0m\u001b[0mdriver_command\u001b[0m\u001b[1;33m,\u001b[0m \u001b[0mparams\u001b[0m\u001b[1;33m)\u001b[0m\u001b[1;33m\u001b[0m\u001b[1;33m\u001b[0m\u001b[0m\n\u001b[0;32m    429\u001b[0m         \u001b[1;32mif\u001b[0m \u001b[0mresponse\u001b[0m\u001b[1;33m:\u001b[0m\u001b[1;33m\u001b[0m\u001b[1;33m\u001b[0m\u001b[0m\n\u001b[1;32m--> 430\u001b[1;33m             \u001b[0mself\u001b[0m\u001b[1;33m.\u001b[0m\u001b[0merror_handler\u001b[0m\u001b[1;33m.\u001b[0m\u001b[0mcheck_response\u001b[0m\u001b[1;33m(\u001b[0m\u001b[0mresponse\u001b[0m\u001b[1;33m)\u001b[0m\u001b[1;33m\u001b[0m\u001b[1;33m\u001b[0m\u001b[0m\n\u001b[0m\u001b[0;32m    431\u001b[0m             response['value'] = self._unwrap_value(\n\u001b[0;32m    432\u001b[0m                 response.get('value', None))\n",
      "\u001b[1;32m~\\anaconda3\\lib\\site-packages\\selenium\\webdriver\\remote\\errorhandler.py\u001b[0m in \u001b[0;36mcheck_response\u001b[1;34m(self, response)\u001b[0m\n\u001b[0;32m    245\u001b[0m                 \u001b[0malert_text\u001b[0m \u001b[1;33m=\u001b[0m \u001b[0mvalue\u001b[0m\u001b[1;33m[\u001b[0m\u001b[1;34m'alert'\u001b[0m\u001b[1;33m]\u001b[0m\u001b[1;33m.\u001b[0m\u001b[0mget\u001b[0m\u001b[1;33m(\u001b[0m\u001b[1;34m'text'\u001b[0m\u001b[1;33m)\u001b[0m\u001b[1;33m\u001b[0m\u001b[1;33m\u001b[0m\u001b[0m\n\u001b[0;32m    246\u001b[0m             \u001b[1;32mraise\u001b[0m \u001b[0mexception_class\u001b[0m\u001b[1;33m(\u001b[0m\u001b[0mmessage\u001b[0m\u001b[1;33m,\u001b[0m \u001b[0mscreen\u001b[0m\u001b[1;33m,\u001b[0m \u001b[0mstacktrace\u001b[0m\u001b[1;33m,\u001b[0m \u001b[0malert_text\u001b[0m\u001b[1;33m)\u001b[0m  \u001b[1;31m# type: ignore[call-arg]  # mypy is not smart enough here\u001b[0m\u001b[1;33m\u001b[0m\u001b[1;33m\u001b[0m\u001b[0m\n\u001b[1;32m--> 247\u001b[1;33m         \u001b[1;32mraise\u001b[0m \u001b[0mexception_class\u001b[0m\u001b[1;33m(\u001b[0m\u001b[0mmessage\u001b[0m\u001b[1;33m,\u001b[0m \u001b[0mscreen\u001b[0m\u001b[1;33m,\u001b[0m \u001b[0mstacktrace\u001b[0m\u001b[1;33m)\u001b[0m\u001b[1;33m\u001b[0m\u001b[1;33m\u001b[0m\u001b[0m\n\u001b[0m\u001b[0;32m    248\u001b[0m \u001b[1;33m\u001b[0m\u001b[0m\n\u001b[0;32m    249\u001b[0m     \u001b[1;32mdef\u001b[0m \u001b[0m_value_or_default\u001b[0m\u001b[1;33m(\u001b[0m\u001b[0mself\u001b[0m\u001b[1;33m,\u001b[0m \u001b[0mobj\u001b[0m\u001b[1;33m:\u001b[0m \u001b[0mMapping\u001b[0m\u001b[1;33m[\u001b[0m\u001b[0m_KT\u001b[0m\u001b[1;33m,\u001b[0m \u001b[0m_VT\u001b[0m\u001b[1;33m]\u001b[0m\u001b[1;33m,\u001b[0m \u001b[0mkey\u001b[0m\u001b[1;33m:\u001b[0m \u001b[0m_KT\u001b[0m\u001b[1;33m,\u001b[0m \u001b[0mdefault\u001b[0m\u001b[1;33m:\u001b[0m \u001b[0m_VT\u001b[0m\u001b[1;33m)\u001b[0m \u001b[1;33m->\u001b[0m \u001b[0m_VT\u001b[0m\u001b[1;33m:\u001b[0m\u001b[1;33m\u001b[0m\u001b[1;33m\u001b[0m\u001b[0m\n",
      "\u001b[1;31mStaleElementReferenceException\u001b[0m: Message: stale element reference: element is not attached to the page document\n  (Session info: chrome=102.0.5005.63)\nStacktrace:\nBacktrace:\n\tOrdinal0 [0x004DD953+2414931]\n\tOrdinal0 [0x0046F5E1+1963489]\n\tOrdinal0 [0x0035C6B8+837304]\n\tOrdinal0 [0x0035F0B4+848052]\n\tOrdinal0 [0x0035EF72+847730]\n\tOrdinal0 [0x0035F8EA+850154]\n\tOrdinal0 [0x003B5249+1200713]\n\tOrdinal0 [0x003A449C+1131676]\n\tOrdinal0 [0x003B4812+1198098]\n\tOrdinal0 [0x003A42B6+1131190]\n\tOrdinal0 [0x0037E860+976992]\n\tOrdinal0 [0x0037F756+980822]\n\tGetHandleVerifier [0x0074CC62+2510274]\n\tGetHandleVerifier [0x0073F760+2455744]\n\tGetHandleVerifier [0x0056EABA+551962]\n\tGetHandleVerifier [0x0056D916+547446]\n\tOrdinal0 [0x00475F3B+1990459]\n\tOrdinal0 [0x0047A898+2009240]\n\tOrdinal0 [0x0047A985+2009477]\n\tOrdinal0 [0x00483AD1+2046673]\n\tBaseThreadInitThunk [0x7675FA29+25]\n\tRtlGetAppContainerNamedObjectPath [0x77D77A9E+286]\n\tRtlGetAppContainerNamedObjectPath [0x77D77A6E+238]\n"
     ]
    }
   ],
   "source": [
    "driver.get(INITIAL_WEBSITE)\n",
    "close_popup(driver)\n",
    "menu_items = driver.find_elements(by=By.CSS_SELECTOR, value=\"#jm > main > div.row.-pvm > div.col16.-df.-j-bet.-pbs > div.flyout-w.-fsh0.-fs0 > div > a\")\n",
    "menu_items = { cat.find_element(by=By.CSS_SELECTOR, value='span').text:cat.get_attribute('href') for cat in menu_items}\n",
    "    \n",
    "print(f\"Available categories : {len(menu_items)} \\n\" ) \n",
    "\n",
    "for (category_name, category_link) in menu_items.items():\n",
    "    print(f\"{category_name} -- {category_link} \" )\n",
    "    if category_link is not None :\n",
    "        last_page_scraped = False\n",
    "        next_page = category_link\n",
    "\n",
    "        while not last_page_scraped:\n",
    "            # go to a page to scrape articles\n",
    "            driver.get(next_page)\n",
    "            close_popup(driver)\n",
    "            articles_ = driver.find_elements(by=By.CSS_SELECTOR, value='article.prd._fb.col.c-prd') # get article boxes\n",
    "            articles = [process_article(article) for article in articles_]\n",
    "            data[category_name] = articles \n",
    "            next_page_btn = driver.find_elements(by=By.CSS_SELECTOR, value='div.pg-w.-ptm.-pbxl a')[-2] \n",
    "\n",
    "            if next_page_btn.accessible_name not in ['Page suivante']:\n",
    "                last_page_scraped = True\n",
    "\n",
    "            # break\n",
    "\n",
    "        n_results_str = driver.find_element(by=By.CSS_SELECTOR, value='p.-gy5.-phs').text\n",
    "        print(f\"Available articles in this category : {n_results_str.split()[0]} \\n\")\n",
    "    \n",
    "    # break"
   ]
  },
  {
   "cell_type": "code",
   "execution_count": null,
   "id": "47471763-41d8-4d72-9273-b334f58f2526",
   "metadata": {},
   "outputs": [],
   "source": [
    "articles[0]"
   ]
  },
  {
   "cell_type": "code",
   "execution_count": null,
   "id": "44f290ca-6eb5-4c55-a567-146a2199ebfe",
   "metadata": {
    "tags": []
   },
   "outputs": [],
   "source": [
    "list_of_dfs = []\n",
    "for category, articles in data:\n",
    "    df = pd.DataFrame(articles)\n",
    "    df.to_csv( os.path.join( \"data\", f\"{category}.csv\"), index=False  )\n",
    "    \n",
    "    df['main_category'] = category\n",
    "    list_of_dfs.append(df)\n",
    "    \n",
    "\n",
    "global_df = pd.concat( list_of_dfs, axis=0)\n",
    "global_df.to_csv( os.path.join( \"data\", f\"{category}.csv\"), index=False  )"
   ]
  },
  {
   "cell_type": "code",
   "execution_count": null,
   "id": "75f76f34-165b-4f60-8ecc-a93657c71ffc",
   "metadata": {},
   "outputs": [],
   "source": []
  },
  {
   "cell_type": "code",
   "execution_count": 60,
   "id": "94cb6691-0c01-4556-89aa-a7c4a3bdcbdd",
   "metadata": {},
   "outputs": [],
   "source": []
  },
  {
   "cell_type": "code",
   "execution_count": null,
   "id": "1c748719-2680-4baa-bc4d-38c713d5419d",
   "metadata": {},
   "outputs": [],
   "source": []
  }
 ],
 "metadata": {
  "kernelspec": {
   "display_name": "Python 3 (ipykernel)",
   "language": "python",
   "name": "python3"
  },
  "language_info": {
   "codemirror_mode": {
    "name": "ipython",
    "version": 3
   },
   "file_extension": ".py",
   "mimetype": "text/x-python",
   "name": "python",
   "nbconvert_exporter": "python",
   "pygments_lexer": "ipython3",
   "version": "3.9.7"
  }
 },
 "nbformat": 4,
 "nbformat_minor": 5
}
