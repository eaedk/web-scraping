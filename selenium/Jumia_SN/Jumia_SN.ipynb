{
 "cells": [
  {
   "cell_type": "code",
   "execution_count": 1,
   "id": "46a386f4-6492-49c4-a3bf-ac35d8ee892d",
   "metadata": {},
   "outputs": [],
   "source": [
    "from selenium import webdriver\n",
    "from selenium.webdriver.support.ui import WebDriverWait\n",
    "from selenium.webdriver.chrome.service import Service\n",
    "from webdriver_manager.chrome import ChromeDriverManager\n",
    "from selenium.webdriver.chrome.options import Options\n",
    "from selenium.webdriver.common.by import By\n",
    "from selenium.webdriver.support import expected_conditions as EC\n",
    "import pandas as pd\n",
    "import os"
   ]
  },
  {
   "cell_type": "code",
   "execution_count": 2,
   "id": "ed01d195-ff9f-43a0-aaa1-c6dee3e9362f",
   "metadata": {},
   "outputs": [
    {
     "name": "stdout",
     "output_type": "stream",
     "text": [
      "\n"
     ]
    },
    {
     "name": "stderr",
     "output_type": "stream",
     "text": [
      "[WDM] - ====== WebDriver manager ======\n",
      "[WDM] - Current google-chrome version is 102.0.5005\n",
      "[WDM] - Get LATEST chromedriver version for 102.0.5005 google-chrome\n",
      "[WDM] - Driver [C:\\Users\\emman\\.wdm\\drivers\\chromedriver\\win32\\102.0.5005.61\\chromedriver.exe] found in cache\n"
     ]
    }
   ],
   "source": [
    "driver_options = Options()\n",
    "driver_options.add_argument(\"accept-language=en-US\")\n",
    "\n",
    "s=Service(ChromeDriverManager().install())\n",
    "driver = webdriver.Chrome(service=s,options=driver_options)\n",
    "driver.maximize_window()\n"
   ]
  },
  {
   "cell_type": "code",
   "execution_count": 3,
   "id": "de477c49-f97d-44fe-adde-7033e422c5c5",
   "metadata": {},
   "outputs": [],
   "source": [
    "INITIAL_WEBSITE = \"https://www.jumia.sn/\"\n",
    "data = {}\n",
    "# go to the root page and get header/menu with its sub-items"
   ]
  },
  {
   "cell_type": "code",
   "execution_count": 4,
   "id": "8c9ef27e-1b27-482a-80bd-ebddec4150b2",
   "metadata": {},
   "outputs": [],
   "source": [
    "# Autres catégories -- None # issue to solve later"
   ]
  },
  {
   "cell_type": "code",
   "execution_count": 5,
   "id": "f835ec80-ab04-4280-83bd-658aaff12780",
   "metadata": {},
   "outputs": [],
   "source": [
    "def process_article(article):\n",
    "    \"\"\"retrive needed information from an article\"\"\"\n",
    "    \n",
    "    name = article.find_element(by=By.CSS_SELECTOR, value='h3.name').text\n",
    "    price = article.find_element(by=By.CSS_SELECTOR, value='div.prc').text\n",
    "    img_link = article.find_element(by=By.CSS_SELECTOR, value='img.img').get_attribute('data-src')\n",
    "    descrption_link = article.find_element(by=By.CSS_SELECTOR, value='a.core').get_attribute('href')\n",
    "    try:\n",
    "        old_price, decrease_percentage = article.find_element(by=By.CSS_SELECTOR, value='div.s-prc-w').text.split(\"\\n\")\n",
    "    except:\n",
    "        old_price, decrease_percentage = '', ''\n",
    "    try:\n",
    "        n_stars, n_votes = article.find_element(by=By.CSS_SELECTOR, value='div.rev').text.split(\"\\n\")\n",
    "        # n_votes = int(n_votes.replace(\"(\", \"\").replace(\")\", \"\")) # clean value and convert to int \n",
    "    except:\n",
    "        n_stars, n_votes = '', ''\n",
    "    try:\n",
    "        article.find_element(by=By.CSS_SELECTOR, value='svg.ic.xprss')\n",
    "        jumia_express = True\n",
    "    except:\n",
    "        jumia_express = False\n",
    "\n",
    "    article_data = dict(name=name , price=price , descrption_link=descrption_link , img_link=img_link , jumia_express=jumia_express ,\n",
    "                   old_price=old_price , decrease_percentage=decrease_percentage ,n_stars=n_stars, n_votes=n_votes  )\n",
    "    return article_data"
   ]
  },
  {
   "cell_type": "code",
   "execution_count": null,
   "id": "38184442-59c1-41ca-9c27-b2efd9aa6524",
   "metadata": {},
   "outputs": [],
   "source": []
  },
  {
   "cell_type": "code",
   "execution_count": 6,
   "id": "5d1e1d5d-3651-466a-ad3f-43c6e01e6fff",
   "metadata": {},
   "outputs": [],
   "source": [
    "def close_popup(driver):\n",
    "    try:\n",
    "        [btn.click() for btn in driver.find_elements(by=By.CSS_SELECTOR, value='div#pop button.cls')]\n",
    "    except:\n",
    "        pass"
   ]
  },
  {
   "cell_type": "code",
   "execution_count": 7,
   "id": "122bb5cc-1a24-49b5-becb-c0135f03685b",
   "metadata": {},
   "outputs": [],
   "source": [
    "# menu_items = driver.find_elements(by=By.CSS_SELECTOR, value=\"div.flyout-w a.itm\")\n",
    "# menu_items = { cat.find_element(by=By.CSS_SELECTOR, value='span').text:cat.get_attribute('href') for cat in menu_items}\n",
    "# menu_items"
   ]
  },
  {
   "cell_type": "code",
   "execution_count": 8,
   "id": "96eeb946-6dad-4f86-862e-bc2a233def66",
   "metadata": {},
   "outputs": [
    {
     "data": {
      "text/plain": [
       "12"
      ]
     },
     "execution_count": 8,
     "metadata": {},
     "output_type": "execute_result"
    }
   ],
   "source": [
    "driver.get(INITIAL_WEBSITE)\n",
    "close_popup(driver)\n",
    "menu_items = {}\n",
    "menu_items_ = driver.find_elements(by=By.CSS_SELECTOR, value=\"div.flyout-w a.itm\")\n",
    "len(menu_items_)"
   ]
  },
  {
   "cell_type": "code",
   "execution_count": 9,
   "id": "00733c74-297e-4216-8ecf-291e3ea67dbb",
   "metadata": {},
   "outputs": [],
   "source": [
    "for cat in menu_items_: \n",
    "    link = cat.get_attribute('href')"
   ]
  },
  {
   "cell_type": "code",
   "execution_count": null,
   "id": "060bf144-3eb2-40be-9fce-d0103a687559",
   "metadata": {},
   "outputs": [],
   "source": []
  },
  {
   "cell_type": "code",
   "execution_count": 11,
   "id": "a3baeaba-e0ad-4a46-a3bc-a32953bf0a26",
   "metadata": {},
   "outputs": [],
   "source": [
    "# a = menu_items_[0]\n",
    "# a.aria_role"
   ]
  },
  {
   "cell_type": "code",
   "execution_count": 11,
   "id": "b4e2a2a5-fc25-4d9e-9c1f-17143bfa146f",
   "metadata": {},
   "outputs": [],
   "source": [
    "# cat.get_attribute('href')"
   ]
  },
  {
   "cell_type": "code",
   "execution_count": null,
   "id": "7ac67399-be25-40a9-a75b-7e39dbe61279",
   "metadata": {},
   "outputs": [
    {
     "name": "stdout",
     "output_type": "stream",
     "text": [
      "Available categories : 12 \n",
      "\n",
      "Téléphones & Tablettes -- https://www.jumia.sn/telephone-tablette/ \n",
      "{'name': 'Samsung Galaxy A03 Core - 4G - 6.5\" - RAM 2Go - ROM 32Go - Caméra 13+2MP - 5000mAh- Noir', 'price': '48 900 FCFA', 'descrption_link': 'https://www.jumia.sn/samsung-galaxy-a03-core-4g-6.5-ram-2go-rom-32go-camera-132mp-5000mah-noir-6100199.html', 'img_link': 'https://sn.jumia.is/unsafe/fit-in/300x300/filters:fill(white)/product/99/10016/1.jpg?8517', 'jumia_express': True, 'old_price': '75 000 FCFA', 'decrease_percentage': '35%', 'n_stars': '4 out of 5', 'n_votes': '(56)'}\n",
      "{'name': 'Generic Montres Bluetooth Intelligentes Pour Les Bandes Ios Et Android', 'price': '5 390 FCFA', 'descrption_link': 'https://www.jumia.sn/generic-montres-bluetooth-intelligentes-pour-les-bandes-ios-et-android-9832502.html', 'img_link': 'https://sn.jumia.is/unsafe/fit-in/300x300/filters:fill(white)/product/20/52389/1.jpg?0039', 'jumia_express': True, 'old_price': '9 945 FCFA', 'decrease_percentage': '46%', 'n_stars': '', 'n_votes': ''}\n",
      "{'name': 'TWS Ecouteurs Pro 5 - Android / Ios - Qualité Garantie', 'price': '4 900 FCFA', 'descrption_link': 'https://www.jumia.sn/ecouteurs-pro-5-android-ios-qualite-garantie-blanc-tws-mpg38014.html', 'img_link': 'https://sn.jumia.is/unsafe/fit-in/300x300/filters:fill(white)/product/63/35965/1.jpg?3881', 'jumia_express': False, 'old_price': '50 000 FCFA', 'decrease_percentage': '90%', 'n_stars': '3.5 out of 5', 'n_votes': '(180)'}\n",
      "{'name': 'Samsung Galaxy A03 Core - 4G - 6.5\" - RAM 2Go - ROM 32Go - Caméra 13+2MP - 5000mAh- Bleu', 'price': '48 900 FCFA', 'descrption_link': 'https://www.jumia.sn/samsung-galaxy-a03-core-4g-6.5-ram-2go-rom-32go-camera-132mp-5000mah-bleu-9845388.html', 'img_link': 'https://sn.jumia.is/unsafe/fit-in/300x300/filters:fill(white)/product/88/35489/1.jpg?6701', 'jumia_express': True, 'old_price': '75 000 FCFA', 'decrease_percentage': '35%', 'n_stars': '3.9 out of 5', 'n_votes': '(34)'}\n",
      "{'name': 'ARHANORY Support De Trépied Téléphone Selfie Anneau Lumineux-Noir', 'price': '2 500 FCFA', 'descrption_link': 'https://www.jumia.sn/support-de-trepied-telephone-selfie-anneau-lumineux-noir-generic-mpg35576.html', 'img_link': 'https://sn.jumia.is/unsafe/fit-in/300x300/filters:fill(white)/product/83/03089/1.jpg?2238', 'jumia_express': True, 'old_price': '5 600 FCFA', 'decrease_percentage': '55%', 'n_stars': '3.6 out of 5', 'n_votes': '(32)'}\n",
      "{'name': 'TWS Bluetooth headset 5.0 model KJ10', 'price': '3 900 FCFA', 'descrption_link': 'https://www.jumia.sn/casque-sans-fil-bluetooth-noir-generic-mpg32865.html', 'img_link': 'https://sn.jumia.is/unsafe/fit-in/300x300/filters:fill(white)/product/23/36909/1.jpg?3853', 'jumia_express': True, 'old_price': '8 898 FCFA', 'decrease_percentage': '56%', 'n_stars': '3.6 out of 5', 'n_votes': '(7)'}\n",
      "{'name': 'Generic Carte Mémoire Micro Sd - 32GB - Noir', 'price': '1 798 FCFA', 'descrption_link': 'https://www.jumia.sn/generic-carte-memoire-micro-sd-32gb-noir-6094109.html', 'img_link': 'https://sn.jumia.is/unsafe/fit-in/300x300/filters:fill(white)/product/90/14906/1.jpg?4413', 'jumia_express': True, 'old_price': '3 525 FCFA', 'decrease_percentage': '49%', 'n_stars': '3.5 out of 5', 'n_votes': '(43)'}\n",
      "{'name': 'Samsung Galaxy A12- 4G - 6.5\" - RAM 4Go - ROM 64Go - Caméra 48+5+2+2MP - 5000mAh – Black', 'price': '82 600 FCFA', 'descrption_link': 'https://www.jumia.sn/galaxy-a12-4g-6.5-ram-4go-rom-64go-camera-48522mp-5000mah-black-samsung-mpg37591.html', 'img_link': 'https://sn.jumia.is/unsafe/fit-in/300x300/filters:fill(white)/product/69/10016/1.jpg?0980', 'jumia_express': True, 'old_price': '100 000 FCFA', 'decrease_percentage': '17%', 'n_stars': '4.2 out of 5', 'n_votes': '(172)'}\n",
      "{'name': 'Generic Écouteurs Bluetooth F9 + Capacité De Batterie 2000mAh', 'price': '7 690 FCFA', 'descrption_link': 'https://www.jumia.sn/ecouteurs-bluetooth-f9-capacite-de-batterie-2000mah-generic-mpg36271.html', 'img_link': 'https://sn.jumia.is/unsafe/fit-in/300x300/filters:fill(white)/product/43/57216/1.jpg?0506', 'jumia_express': True, 'old_price': '13 153 FCFA', 'decrease_percentage': '42%', 'n_stars': '3.9 out of 5', 'n_votes': '(220)'}\n",
      "{'name': 'Generic Écouteurs Stéréo Sans Fil Bluetooth 5.0 Micro', 'price': '4 500 FCFA', 'descrption_link': 'https://www.jumia.sn/generic-ecouteurs-stereo-sans-fil-bluetooth-5.0-micro-8359844.html', 'img_link': 'https://sn.jumia.is/unsafe/fit-in/300x300/filters:fill(white)/product/44/89538/1.jpg?8667', 'jumia_express': True, 'old_price': '8 824 FCFA', 'decrease_percentage': '49%', 'n_stars': '3.8 out of 5', 'n_votes': '(124)'}\n",
      "{'name': 'Mione AB1 -Écran1.44\" - RAM 32 Mo - ROM 32 Mo - Dual Sim - Batterie 800 mAh - Noir/Rouge', 'price': '3 900 FCFA', 'descrption_link': 'https://www.jumia.sn/mione-ab1-ecran1.44-ram-32-mo-rom-32-mo-dual-sim-batterie-800-mah-noirrouge-10003095.html', 'img_link': 'https://sn.jumia.is/unsafe/fit-in/300x300/filters:fill(white)/product/59/030001/1.jpg?5211', 'jumia_express': True, 'old_price': '10 000 FCFA', 'decrease_percentage': '61%', 'n_stars': '', 'n_votes': ''}\n",
      "{'name': 'Generic Powerbank - 20000mAh - Rouge/Noir', 'price': '5 398 FCFA', 'descrption_link': 'https://www.jumia.sn/generic-powerbank-20000mah-rougenoir-8841531.html', 'img_link': 'https://sn.jumia.is/unsafe/fit-in/300x300/filters:fill(white)/product/13/51488/1.jpg?9372', 'jumia_express': True, 'old_price': '10 584 FCFA', 'decrease_percentage': '49%', 'n_stars': '3.5 out of 5', 'n_votes': '(51)'}\n",
      "{'name': 'Tecno POP 2F - 5.5’’ - Double SIM - ROM 16 Go - RAM 1 Go - Caméra 8/5 Mp - Batterie : 2400mAh - Noir', 'price': '32 900 FCFA', 'descrption_link': 'https://www.jumia.sn/tecno-pop-2f-5.5-double-sim-rom-16-go-ram-1-go-camera-85-mp-batterie-2400mah-noir-5977478.html', 'img_link': 'https://sn.jumia.is/unsafe/fit-in/300x300/filters:fill(white)/product/87/47795/1.jpg?5803', 'jumia_express': True, 'old_price': '47 970 FCFA', 'decrease_percentage': '31%', 'n_stars': '3.7 out of 5', 'n_votes': '(64)'}\n",
      "{'name': 'Tecno Spark 8P- 6.6\" - ROM 64Go - RAM 4Go - Caméra 50MP/8MP - 5000mAh - Tahiti Gold', 'price': '73 550 FCFA', 'descrption_link': 'https://www.jumia.sn/tecno-spark-8p-6.6-rom-64go-ram-4go-camera-50mp8mp-5000mah-tahiti-gold-9790229.html', 'img_link': 'https://sn.jumia.is/unsafe/fit-in/300x300/filters:fill(white)/product/92/20979/1.jpg?6263', 'jumia_express': True, 'old_price': '95 000 FCFA', 'decrease_percentage': '23%', 'n_stars': '4.7 out of 5', 'n_votes': '(19)'}\n",
      "{'name': 'Generic Casque Audio Sans Fil Bleutooth multicolore', 'price': '5 900 FCFA', 'descrption_link': 'https://www.jumia.sn/casque-audio-sans-fil-bleutooth-multicolore-generic-mpg32862.html', 'img_link': 'https://sn.jumia.is/unsafe/fit-in/300x300/filters:fill(white)/product/75/70835/1.jpg?2865', 'jumia_express': False, 'old_price': '25 000 FCFA', 'decrease_percentage': '76%', 'n_stars': '4 out of 5', 'n_votes': '(67)'}\n",
      "{'name': 'Generic Portable 20000mAh Banques De Puissance De Charge', 'price': '3 325 FCFA', 'descrption_link': 'https://www.jumia.sn/generic-portable-20000mah-banques-de-puissance-de-charge-9096338.html', 'img_link': 'https://sn.jumia.is/unsafe/fit-in/300x300/filters:fill(white)/product/83/36909/1.jpg?5310', 'jumia_express': True, 'old_price': '6 520 FCFA', 'decrease_percentage': '49%', 'n_stars': '4.4 out of 5', 'n_votes': '(10)'}\n",
      "{'name': 'Generic Oreillette Bluetooth F9 5.0 - Noir', 'price': '6 610 FCFA', 'descrption_link': 'https://www.jumia.sn/generic-oreillette-bluetooth-f9-5.0-noir-8852766.html', 'img_link': 'https://sn.jumia.is/unsafe/fit-in/300x300/filters:fill(white)/product/66/72588/1.jpg?0208', 'jumia_express': True, 'old_price': '12 961 FCFA', 'decrease_percentage': '49%', 'n_stars': '3.9 out of 5', 'n_votes': '(20)'}\n",
      "{'name': 'TWS Ecouteurs Pro8s qualité garantie blanc', 'price': '8 990 FCFA', 'descrption_link': 'https://www.jumia.sn/tws-ecouteurs-pro8s-qualite-garantie-blanc-9847069.html', 'img_link': 'https://sn.jumia.is/unsafe/fit-in/300x300/filters:fill(white)/product/96/07489/1.jpg?8600', 'jumia_express': False, 'old_price': '35 000 FCFA', 'decrease_percentage': '74%', 'n_stars': '', 'n_votes': ''}\n",
      "{'name': 'Generic Câble De Charge Magnétique - 3 En 1', 'price': '1 998 FCFA', 'descrption_link': 'https://www.jumia.sn/generic-cable-de-charge-magnetique-3-en-1-8360321.html', 'img_link': 'https://sn.jumia.is/unsafe/fit-in/300x300/filters:fill(white)/product/12/30638/1.jpg?3447', 'jumia_express': True, 'old_price': '3 918 FCFA', 'decrease_percentage': '49%', 'n_stars': '3.9 out of 5', 'n_votes': '(32)'}\n",
      "{'name': 'Mione F6 -Écran1.77\" - RAM 64 Mo - ROM 32 Mo - Dual Sim - Batterie 10000 mAh - Noir', 'price': '4 900 FCFA', 'descrption_link': 'https://www.jumia.sn/mione-f6-ecran1.77-ram-64-mo-rom-32-mo-dual-sim-batterie-10000-mah-noir-10003104.html', 'img_link': 'https://sn.jumia.is/unsafe/fit-in/300x300/filters:fill(white)/product/40/130001/1.jpg?7228', 'jumia_express': True, 'old_price': '10 000 FCFA', 'decrease_percentage': '51%', 'n_stars': '', 'n_votes': ''}\n",
      "{'name': 'Tecno Pova Neo- Ecran 6.8\" - ROM 64Go - RAM 4Go - Caméra13MP/8MP Dual flash Batterie 6000mAh - Bleu', 'price': '60 900 FCFA', 'descrption_link': 'https://www.jumia.sn/tecno-pova-neo-ecran-6.8-rom-64go-ram-4go-camera13mp8mp-dual-flash-batterie-6000mah-bleu-9844854.html', 'img_link': 'https://sn.jumia.is/unsafe/fit-in/300x300/filters:fill(white)/product/45/84489/1.jpg?0177', 'jumia_express': True, 'old_price': '100 000 FCFA', 'decrease_percentage': '39%', 'n_stars': '4 out of 5', 'n_votes': '(1)'}\n",
      "{'name': 'Tecno T101-Écran1.77\" - RAM 32 Mo - ROM 32 Mo - Dual Sim - Batterie 1000 mAh - Noir', 'price': '5 900 FCFA', 'descrption_link': 'https://www.jumia.sn/tecno-t101-ecran1.77-ram-32-mo-rom-32-mo-dual-sim-batterie-1000-mah-noir-8841036.html', 'img_link': 'https://sn.jumia.is/unsafe/fit-in/300x300/filters:fill(white)/product/63/01488/1.jpg?3376', 'jumia_express': True, 'old_price': '10 000 FCFA', 'decrease_percentage': '41%', 'n_stars': '3.8 out of 5', 'n_votes': '(96)'}\n",
      "{'name': 'White Support multi-angles pour tablette & téléphone portable', 'price': '1 900 FCFA', 'descrption_link': 'https://www.jumia.sn/white-support-multi-angles-pour-tablette-telephone-portable-9733649.html', 'img_link': 'https://sn.jumia.is/unsafe/fit-in/300x300/filters:fill(white)/product/94/63379/1.jpg?8495', 'jumia_express': False, 'old_price': '4 500 FCFA', 'decrease_percentage': '58%', 'n_stars': '4.3 out of 5', 'n_votes': '(21)'}\n",
      "{'name': 'Generic Casque De Sport Bluetooth Intra-auriculaire Intelligent Casque Stéréo Sans Fil Casque De Jeu', 'price': '4 870 FCFA', 'descrption_link': 'https://www.jumia.sn/generic-casque-de-sport-bluetooth-intra-auriculaire-intelligent-casque-stereo-sans-fil-casque-de-jeu-9832499.html', 'img_link': 'https://sn.jumia.is/unsafe/fit-in/300x300/filters:fill(white)/product/99/42389/1.jpg?0035', 'jumia_express': True, 'old_price': '10 660 FCFA', 'decrease_percentage': '54%', 'n_stars': '', 'n_votes': ''}\n",
      "{'name': 'Tecno POP 5 Go - 3G - Ecran 5.71\" - ROM 16Go Ram 1Go - Caméra front 5MP arrière 5MP - Batterie 4000mAh - Bleu', 'price': '35 750 FCFA', 'descrption_link': 'https://www.jumia.sn/tecno-pop-5-go-3g-ecran-5.71-rom-16go-ram-1go-camera-front-5mp-arriere-5mp-batterie-4000mah-bleu-9844336.html', 'img_link': 'https://sn.jumia.is/unsafe/fit-in/300x300/filters:fill(white)/product/63/34489/1.jpg?2473', 'jumia_express': True, 'old_price': '50 000 FCFA', 'decrease_percentage': '29%', 'n_stars': '4 out of 5', 'n_votes': '(3)'}\n",
      "{'name': 'Samsung Galaxy A12 – Ecran 6.5″ - ROM 128GB - RAM 4GB - Caméra 48MP - Bleu', 'price': '87 700 FCFA', 'descrption_link': 'https://www.jumia.sn/samsung-galaxy-a12-ecran-6.5-rom-128gb-ram-4gb-camera-48mp-bleu-10001120.html', 'img_link': 'https://sn.jumia.is/unsafe/fit-in/300x300/filters:fill(white)/product/02/110001/1.jpg?4777', 'jumia_express': True, 'old_price': '95 000 FCFA', 'decrease_percentage': '8%', 'n_stars': '5 out of 5', 'n_votes': '(1)'}\n",
      "{'name': 'Tecno Spark 8C – Écran 6.6″ – ROM 64GB – RAM 2GB – Caméra 13/8MP – Gris', 'price': '63 900 FCFA', 'descrption_link': 'https://www.jumia.sn/tecno-spark-8c-ecran-6.6-rom-64gb-ram-2gb-camera-138mp-gris-9979136.html', 'img_link': 'https://sn.jumia.is/unsafe/fit-in/300x300/filters:fill(white)/product/63/19799/1.jpg?8434', 'jumia_express': True, 'old_price': '100 000 FCFA', 'decrease_percentage': '36%', 'n_stars': '4 out of 5', 'n_votes': '(7)'}\n",
      "{'name': 'Generic Montres Bluetooth Intelligentes Pour Bandes Ios Et Android', 'price': '5 390 FCFA', 'descrption_link': 'https://www.jumia.sn/generic-montres-bluetooth-intelligentes-pour-bandes-ios-et-android-9832503.html', 'img_link': 'https://sn.jumia.is/unsafe/fit-in/300x300/filters:fill(white)/product/30/52389/1.jpg?0035', 'jumia_express': True, 'old_price': '9 945 FCFA', 'decrease_percentage': '46%', 'n_stars': '', 'n_votes': ''}\n",
      "{'name': 'Samsung Galaxy A03S - 4G - 6.5\" - RAM 4Go - ROM 64Go - Caméra 13+2+2MP - Empreinte digitale', 'price': '74 500 FCFA', 'descrption_link': 'https://www.jumia.sn/samsung-galaxy-a03s-4g-6.5-ram-4go-rom-64go-camera-1322mp-empreinte-digitale-9795740.html', 'img_link': 'https://sn.jumia.is/unsafe/fit-in/300x300/filters:fill(white)/product/04/75979/1.jpg?0977', 'jumia_express': True, 'old_price': '80 000 FCFA', 'decrease_percentage': '7%', 'n_stars': '4.5 out of 5', 'n_votes': '(13)'}\n",
      "{'name': 'Generic Etui Pour Airpods - Noir', 'price': '1 000 FCFA', 'descrption_link': 'https://www.jumia.sn/etui-pour-airpods-noir-generic-mpg33451.html', 'img_link': 'https://sn.jumia.is/unsafe/fit-in/300x300/filters:fill(white)/product/04/283/1.jpg?7747', 'jumia_express': False, 'old_price': '', 'decrease_percentage': '', 'n_stars': '3.3 out of 5', 'n_votes': '(92)'}\n",
      "{'name': 'Samsung Galaxy A13 - 6.6\" - RAM 4Go - ROM 64Go - Caméra 50+5+2+2MP - 5000mAh – Black', 'price': '96 960 FCFA', 'descrption_link': 'https://www.jumia.sn/samsung-galaxy-a13-6.6-ram-4go-rom-64go-camera-50522mp-5000mah-black-9961272.html', 'img_link': 'https://sn.jumia.is/unsafe/fit-in/300x300/filters:fill(white)/product/27/21699/1.jpg?6949', 'jumia_express': True, 'old_price': '104 900 FCFA', 'decrease_percentage': '8%', 'n_stars': '5 out of 5', 'n_votes': '(3)'}\n",
      "{'name': 'XIAOMI Redmi Power Bank 10000mAh PB100LZM Powerbank - Noir', 'price': '9 800 FCFA', 'descrption_link': 'https://www.jumia.sn/xiaomi-redmi-power-bank-10000mah-pb100lzm-powerbank-noir-8909821.html', 'img_link': 'https://sn.jumia.is/unsafe/fit-in/300x300/filters:fill(white)/product/12/89098/1.jpg?8203', 'jumia_express': True, 'old_price': '20 000 FCFA', 'decrease_percentage': '51%', 'n_stars': '4.3 out of 5', 'n_votes': '(17)'}\n",
      "{'name': 'Apple IPhone X - 4G LTE - 5.8 Pouces - 3Go Ram - 64Go Rom - 12 Mpx - Blanc - Reconditionné', 'price': '169 900 FCFA', 'descrption_link': 'https://www.jumia.sn/apple-iphone-x-4g-lte-5.8-pouces-3go-ram-64go-rom-12-mpx-blanc-reconditionne-9842231.html', 'img_link': 'https://sn.jumia.is/unsafe/fit-in/300x300/filters:fill(white)/product/13/22489/1.jpg?8232', 'jumia_express': True, 'old_price': '229 000 FCFA', 'decrease_percentage': '26%', 'n_stars': '4.8 out of 5', 'n_votes': '(4)'}\n",
      "{'name': 'Infinix Smart HD 2021 - 3G - 6,1\" HD - Rom 32Go - Ram 2Go - Caméra 8MP Camera front 8MP - 5000mAh - Noir', 'price': '45 900 FCFA', 'descrption_link': 'https://www.jumia.sn/infinix-smart-hd-2021-3g-61-hd-rom-32go-ram-2go-camera-8mp-camera-front-8mp-5000mah-noir-6482125.html', 'img_link': 'https://sn.jumia.is/unsafe/fit-in/300x300/filters:fill(white)/product/52/12846/1.jpg?3376', 'jumia_express': True, 'old_price': '100 000 FCFA', 'decrease_percentage': '54%', 'n_stars': '4 out of 5', 'n_votes': '(59)'}\n",
      "{'name': 'Generic Oreillettes sans fil p47 pour casque Bluetooth', 'price': '3 500 FCFA', 'descrption_link': 'https://www.jumia.sn/oreillettes-sans-fil-p47-pour-casque-bluetooth-generic-mpg34696.html', 'img_link': 'https://sn.jumia.is/unsafe/fit-in/300x300/filters:fill(white)/product/68/96016/1.jpg?2046', 'jumia_express': False, 'old_price': '15 000 FCFA', 'decrease_percentage': '77%', 'n_stars': '3.9 out of 5', 'n_votes': '(23)'}\n",
      "{'name': 'Tecno Spark 8C – Écran 6.6″ – ROM 64GB – RAM 2GB – Caméra 13/8MP – Noir', 'price': '63 750 FCFA', 'descrption_link': 'https://www.jumia.sn/spark-8c-ecran-6.6-rom-64gb-ram-2gb-camera-138mp-noir-tecno-mpg46405.html', 'img_link': 'https://sn.jumia.is/unsafe/fit-in/300x300/filters:fill(white)/product/17/76299/1.jpg?6263', 'jumia_express': True, 'old_price': '100 000 FCFA', 'decrease_percentage': '36%', 'n_stars': '4.1 out of 5', 'n_votes': '(9)'}\n",
      "{'name': 'TWS Ecouteurs Pro 5 - Sans clignotant - Qualité Garantie - Blanc', 'price': '5 900 FCFA', 'descrption_link': 'https://www.jumia.sn/ecouteurs-pro-5-sans-clignotant-qualite-garantie-blanc-tws-mpg38017.html', 'img_link': 'https://sn.jumia.is/unsafe/fit-in/300x300/filters:fill(white)/product/84/07306/1.jpg?1096', 'jumia_express': False, 'old_price': '50 000 FCFA', 'decrease_percentage': '88%', 'n_stars': '3.5 out of 5', 'n_votes': '(199)'}\n",
      "{'name': 'Generic P40 Generic Étui - Silicone - Rouge-Protection de coque', 'price': '6 600 FCFA', 'descrption_link': 'https://www.jumia.sn/generic-p40-generic-etui-silicone-rouge-protection-de-coque-9251674.html', 'img_link': 'https://sn.jumia.is/unsafe/fit-in/300x300/filters:fill(white)/product/47/61529/1.jpg?3600', 'jumia_express': True, 'old_price': '12 941 FCFA', 'decrease_percentage': '49%', 'n_stars': '3.3 out of 5', 'n_votes': '(7)'}\n",
      "{'name': 'TWS Ecouteurs Pro 5 - Android / Ios + Etui Offert couleur Aléatoire', 'price': '5 900 FCFA', 'descrption_link': 'https://www.jumia.sn/ecouteurs-pro-5-android-ios-etui-offert-couleur-aleatoire-tws-mpg38013.html', 'img_link': 'https://sn.jumia.is/unsafe/fit-in/300x300/filters:fill(white)/product/77/14706/1.jpg?0365', 'jumia_express': False, 'old_price': '30 000 FCFA', 'decrease_percentage': '80%', 'n_stars': '3.7 out of 5', 'n_votes': '(50)'}\n",
      "{'name': 'TWS Ecouteurs bluetooth -blanc', 'price': '7 900 FCFA', 'descrption_link': 'https://www.jumia.sn/ecouteurs-pro5s-tws-mpg38022.html', 'img_link': 'https://sn.jumia.is/unsafe/fit-in/300x300/filters:fill(white)/product/32/82388/1.jpg?0174', 'jumia_express': False, 'old_price': '30 000 FCFA', 'decrease_percentage': '74%', 'n_stars': '4 out of 5', 'n_votes': '(17)'}\n",
      "{'name': 'ARHANORY Support De Trépied Téléphone Selfie Anneau Lumineux-Noir', 'price': '2 500 FCFA', 'descrption_link': 'https://www.jumia.sn/support-de-trepied-telephone-selfie-anneau-lumineux-noir-generic-mpg35576.html', 'img_link': 'https://sn.jumia.is/unsafe/fit-in/300x300/filters:fill(white)/product/83/03089/1.jpg?2238', 'jumia_express': True, 'old_price': '5 600 FCFA', 'decrease_percentage': '55%', 'n_stars': '3.6 out of 5', 'n_votes': '(32)'}\n",
      "{'name': 'IOOIOO Carte mémoire Micro SD Carte TF - 64 Go - Noir', 'price': '2 790 FCFA', 'descrption_link': 'https://www.jumia.sn/iooioo-carte-memoire-micro-sd-carte-tf-64-go-noir-9797593.html', 'img_link': 'https://sn.jumia.is/unsafe/fit-in/300x300/filters:fill(white)/product/39/57979/1.jpg?6116', 'jumia_express': True, 'old_price': '4 990 FCFA', 'decrease_percentage': '44%', 'n_stars': '4.2 out of 5', 'n_votes': '(15)'}\n",
      "{'name': 'Listo Batterie externe Listo 2 000 mAH Noir', 'price': '2 900 FCFA', 'descrption_link': 'https://www.jumia.sn/listo-batterie-externe-listo-2-000-mah-noir-9927217.html', 'img_link': 'https://sn.jumia.is/unsafe/fit-in/300x300/filters:fill(white)/product/71/27299/1.jpg?2462', 'jumia_express': False, 'old_price': '5 000 FCFA', 'decrease_percentage': '42%', 'n_stars': '', 'n_votes': ''}\n",
      "{'name': \"Generic Agrandisseur d'amplificateur de loupe d'écran de téléphone incurvée grossissement de l'écran de Smartphone\", 'price': '7 500 FCFA', 'descrption_link': 'https://www.jumia.sn/generic-agrandisseur-damplificateur-de-loupe-decran-de-telephone-incurvee-grossissement-de-lecran-de-smartphone-9735919.html', 'img_link': 'https://sn.jumia.is/unsafe/fit-in/300x300/filters:fill(white)/product/91/95379/1.jpg?1796', 'jumia_express': False, 'old_price': '', 'decrease_percentage': '', 'n_stars': '3.7 out of 5', 'n_votes': '(3)'}\n",
      "{'name': 'Generic Carte Mémoire - 32GB - Rouge / Blanc', 'price': '3 990 FCFA', 'descrption_link': 'https://www.jumia.sn/generic-carte-memoire-32gb-rouge-blanc-9795781.html', 'img_link': 'https://sn.jumia.is/unsafe/fit-in/300x300/filters:fill(white)/product/18/75979/1.jpg?5454', 'jumia_express': True, 'old_price': '4 950 FCFA', 'decrease_percentage': '19%', 'n_stars': '', 'n_votes': ''}\n",
      "{'name': \"Nokia C2-05 GSM 2.0 '' Slide Touch & Type Téléphone portable avec lecteur MP3\", 'price': '14 560 FCFA', 'descrption_link': 'https://www.jumia.sn/nokia-c2-05-gsm-2.0-slide-touch-type-telephone-portable-avec-lecteur-mp3-6062367.html', 'img_link': 'https://sn.jumia.is/unsafe/fit-in/300x300/filters:fill(white)/product/76/32606/1.jpg?8538', 'jumia_express': True, 'old_price': '24 847 FCFA', 'decrease_percentage': '41%', 'n_stars': '2.8 out of 5', 'n_votes': '(35)'}\n",
      "{'name': 'Generic Tablette enfant - 7\"- RAM 1Go - RAM 8Go - 2500mAh + Pochette Hello kitty', 'price': '28 900 FCFA', 'descrption_link': 'https://www.jumia.sn/generic-tablette-enfant-7-ram-1go-ram-8go-2500mah-pochette-hello-kitty-78268.html', 'img_link': 'https://sn.jumia.is/unsafe/fit-in/300x300/filters:fill(white)/product/86/287/1.jpg?0023', 'jumia_express': False, 'old_price': '35 000 FCFA', 'decrease_percentage': '17%', 'n_stars': '3.2 out of 5', 'n_votes': '(12)'}\n",
      "{'name': 'Idea Tablette Tab Dual SIM 4G LTE Écran7” pouces Stockage 16GB', 'price': '29 500 FCFA', 'descrption_link': 'https://www.jumia.sn/idea-tablette-tab-dual-sim-4g-lte-ecran7-pouces-stockage-16gb-9827334.html', 'img_link': 'https://sn.jumia.is/unsafe/fit-in/300x300/filters:fill(white)/product/43/37289/1.jpg?5679', 'jumia_express': False, 'old_price': '33 500 FCFA', 'decrease_percentage': '12%', 'n_stars': '3.5 out of 5', 'n_votes': '(4)'}\n",
      "{'name': 'Samsung Galaxy A03 Core - 4G - 6.5\" - RAM 2Go - ROM 32Go - Caméra 13+2MP - 5000mAh- Noir', 'price': '48 900 FCFA', 'descrption_link': 'https://www.jumia.sn/samsung-galaxy-a03-core-4g-6.5-ram-2go-rom-32go-camera-132mp-5000mah-noir-6100199.html', 'img_link': 'https://sn.jumia.is/unsafe/fit-in/300x300/filters:fill(white)/product/99/10016/1.jpg?8517', 'jumia_express': True, 'old_price': '75 000 FCFA', 'decrease_percentage': '35%', 'n_stars': '4 out of 5', 'n_votes': '(56)'}\n",
      "{'name': 'Generic Montres Bluetooth Intelligentes Pour Les Bandes Ios Et Android', 'price': '5 390 FCFA', 'descrption_link': 'https://www.jumia.sn/generic-montres-bluetooth-intelligentes-pour-les-bandes-ios-et-android-9832502.html', 'img_link': 'https://sn.jumia.is/unsafe/fit-in/300x300/filters:fill(white)/product/20/52389/1.jpg?0039', 'jumia_express': True, 'old_price': '9 945 FCFA', 'decrease_percentage': '46%', 'n_stars': '', 'n_votes': ''}\n",
      "{'name': 'TWS Ecouteurs Pro 5 - Android / Ios - Qualité Garantie', 'price': '4 900 FCFA', 'descrption_link': 'https://www.jumia.sn/ecouteurs-pro-5-android-ios-qualite-garantie-blanc-tws-mpg38014.html', 'img_link': 'https://sn.jumia.is/unsafe/fit-in/300x300/filters:fill(white)/product/63/35965/1.jpg?3881', 'jumia_express': False, 'old_price': '50 000 FCFA', 'decrease_percentage': '90%', 'n_stars': '3.5 out of 5', 'n_votes': '(180)'}\n",
      "{'name': 'Samsung Galaxy A03 Core - 4G - 6.5\" - RAM 2Go - ROM 32Go - Caméra 13+2MP - 5000mAh- Bleu', 'price': '48 900 FCFA', 'descrption_link': 'https://www.jumia.sn/samsung-galaxy-a03-core-4g-6.5-ram-2go-rom-32go-camera-132mp-5000mah-bleu-9845388.html', 'img_link': 'https://sn.jumia.is/unsafe/fit-in/300x300/filters:fill(white)/product/88/35489/1.jpg?6701', 'jumia_express': True, 'old_price': '75 000 FCFA', 'decrease_percentage': '35%', 'n_stars': '3.9 out of 5', 'n_votes': '(34)'}\n",
      "{'name': 'ARHANORY Support De Trépied Téléphone Selfie Anneau Lumineux-Noir', 'price': '2 500 FCFA', 'descrption_link': 'https://www.jumia.sn/support-de-trepied-telephone-selfie-anneau-lumineux-noir-generic-mpg35576.html', 'img_link': 'https://sn.jumia.is/unsafe/fit-in/300x300/filters:fill(white)/product/83/03089/1.jpg?2238', 'jumia_express': True, 'old_price': '5 600 FCFA', 'decrease_percentage': '55%', 'n_stars': '3.6 out of 5', 'n_votes': '(32)'}\n",
      "{'name': 'TWS Bluetooth headset 5.0 model KJ10', 'price': '3 900 FCFA', 'descrption_link': 'https://www.jumia.sn/casque-sans-fil-bluetooth-noir-generic-mpg32865.html', 'img_link': 'https://sn.jumia.is/unsafe/fit-in/300x300/filters:fill(white)/product/23/36909/1.jpg?3853', 'jumia_express': True, 'old_price': '8 898 FCFA', 'decrease_percentage': '56%', 'n_stars': '3.6 out of 5', 'n_votes': '(7)'}\n",
      "{'name': 'Generic Carte Mémoire Micro Sd - 32GB - Noir', 'price': '1 798 FCFA', 'descrption_link': 'https://www.jumia.sn/generic-carte-memoire-micro-sd-32gb-noir-6094109.html', 'img_link': 'https://sn.jumia.is/unsafe/fit-in/300x300/filters:fill(white)/product/90/14906/1.jpg?4413', 'jumia_express': True, 'old_price': '3 525 FCFA', 'decrease_percentage': '49%', 'n_stars': '3.5 out of 5', 'n_votes': '(43)'}\n",
      "{'name': 'Samsung Galaxy A12- 4G - 6.5\" - RAM 4Go - ROM 64Go - Caméra 48+5+2+2MP - 5000mAh – Black', 'price': '82 600 FCFA', 'descrption_link': 'https://www.jumia.sn/galaxy-a12-4g-6.5-ram-4go-rom-64go-camera-48522mp-5000mah-black-samsung-mpg37591.html', 'img_link': 'https://sn.jumia.is/unsafe/fit-in/300x300/filters:fill(white)/product/69/10016/1.jpg?0980', 'jumia_express': True, 'old_price': '100 000 FCFA', 'decrease_percentage': '17%', 'n_stars': '4.2 out of 5', 'n_votes': '(172)'}\n",
      "{'name': 'Generic Écouteurs Bluetooth F9 + Capacité De Batterie 2000mAh', 'price': '7 690 FCFA', 'descrption_link': 'https://www.jumia.sn/ecouteurs-bluetooth-f9-capacite-de-batterie-2000mah-generic-mpg36271.html', 'img_link': 'https://sn.jumia.is/unsafe/fit-in/300x300/filters:fill(white)/product/43/57216/1.jpg?0506', 'jumia_express': True, 'old_price': '13 153 FCFA', 'decrease_percentage': '42%', 'n_stars': '3.9 out of 5', 'n_votes': '(220)'}\n",
      "{'name': 'Generic Écouteurs Stéréo Sans Fil Bluetooth 5.0 Micro', 'price': '4 500 FCFA', 'descrption_link': 'https://www.jumia.sn/generic-ecouteurs-stereo-sans-fil-bluetooth-5.0-micro-8359844.html', 'img_link': 'https://sn.jumia.is/unsafe/fit-in/300x300/filters:fill(white)/product/44/89538/1.jpg?8667', 'jumia_express': True, 'old_price': '8 824 FCFA', 'decrease_percentage': '49%', 'n_stars': '3.8 out of 5', 'n_votes': '(124)'}\n",
      "{'name': 'Mione AB1 -Écran1.44\" - RAM 32 Mo - ROM 32 Mo - Dual Sim - Batterie 800 mAh - Noir/Rouge', 'price': '3 900 FCFA', 'descrption_link': 'https://www.jumia.sn/mione-ab1-ecran1.44-ram-32-mo-rom-32-mo-dual-sim-batterie-800-mah-noirrouge-10003095.html', 'img_link': 'https://sn.jumia.is/unsafe/fit-in/300x300/filters:fill(white)/product/59/030001/1.jpg?5211', 'jumia_express': True, 'old_price': '10 000 FCFA', 'decrease_percentage': '61%', 'n_stars': '', 'n_votes': ''}\n",
      "{'name': 'Generic Powerbank - 20000mAh - Rouge/Noir', 'price': '5 398 FCFA', 'descrption_link': 'https://www.jumia.sn/generic-powerbank-20000mah-rougenoir-8841531.html', 'img_link': 'https://sn.jumia.is/unsafe/fit-in/300x300/filters:fill(white)/product/13/51488/1.jpg?9372', 'jumia_express': True, 'old_price': '10 584 FCFA', 'decrease_percentage': '49%', 'n_stars': '3.5 out of 5', 'n_votes': '(51)'}\n",
      "{'name': 'Tecno POP 2F - 5.5’’ - Double SIM - ROM 16 Go - RAM 1 Go - Caméra 8/5 Mp - Batterie : 2400mAh - Noir', 'price': '32 900 FCFA', 'descrption_link': 'https://www.jumia.sn/tecno-pop-2f-5.5-double-sim-rom-16-go-ram-1-go-camera-85-mp-batterie-2400mah-noir-5977478.html', 'img_link': 'https://sn.jumia.is/unsafe/fit-in/300x300/filters:fill(white)/product/87/47795/1.jpg?5803', 'jumia_express': True, 'old_price': '47 970 FCFA', 'decrease_percentage': '31%', 'n_stars': '3.7 out of 5', 'n_votes': '(64)'}\n",
      "{'name': 'Tecno Spark 8P- 6.6\" - ROM 64Go - RAM 4Go - Caméra 50MP/8MP - 5000mAh - Tahiti Gold', 'price': '73 550 FCFA', 'descrption_link': 'https://www.jumia.sn/tecno-spark-8p-6.6-rom-64go-ram-4go-camera-50mp8mp-5000mah-tahiti-gold-9790229.html', 'img_link': 'https://sn.jumia.is/unsafe/fit-in/300x300/filters:fill(white)/product/92/20979/1.jpg?6263', 'jumia_express': True, 'old_price': '95 000 FCFA', 'decrease_percentage': '23%', 'n_stars': '4.7 out of 5', 'n_votes': '(19)'}\n",
      "{'name': 'Generic Casque Audio Sans Fil Bleutooth multicolore', 'price': '5 900 FCFA', 'descrption_link': 'https://www.jumia.sn/casque-audio-sans-fil-bleutooth-multicolore-generic-mpg32862.html', 'img_link': 'https://sn.jumia.is/unsafe/fit-in/300x300/filters:fill(white)/product/75/70835/1.jpg?2865', 'jumia_express': False, 'old_price': '25 000 FCFA', 'decrease_percentage': '76%', 'n_stars': '4 out of 5', 'n_votes': '(67)'}\n",
      "{'name': 'Generic Portable 20000mAh Banques De Puissance De Charge', 'price': '3 325 FCFA', 'descrption_link': 'https://www.jumia.sn/generic-portable-20000mah-banques-de-puissance-de-charge-9096338.html', 'img_link': 'https://sn.jumia.is/unsafe/fit-in/300x300/filters:fill(white)/product/83/36909/1.jpg?5310', 'jumia_express': True, 'old_price': '6 520 FCFA', 'decrease_percentage': '49%', 'n_stars': '4.4 out of 5', 'n_votes': '(10)'}\n",
      "{'name': 'Generic Oreillette Bluetooth F9 5.0 - Noir', 'price': '6 610 FCFA', 'descrption_link': 'https://www.jumia.sn/generic-oreillette-bluetooth-f9-5.0-noir-8852766.html', 'img_link': 'https://sn.jumia.is/unsafe/fit-in/300x300/filters:fill(white)/product/66/72588/1.jpg?0208', 'jumia_express': True, 'old_price': '12 961 FCFA', 'decrease_percentage': '49%', 'n_stars': '3.9 out of 5', 'n_votes': '(20)'}\n",
      "{'name': 'TWS Ecouteurs Pro8s qualité garantie blanc', 'price': '8 990 FCFA', 'descrption_link': 'https://www.jumia.sn/tws-ecouteurs-pro8s-qualite-garantie-blanc-9847069.html', 'img_link': 'https://sn.jumia.is/unsafe/fit-in/300x300/filters:fill(white)/product/96/07489/1.jpg?8600', 'jumia_express': False, 'old_price': '35 000 FCFA', 'decrease_percentage': '74%', 'n_stars': '', 'n_votes': ''}\n",
      "{'name': 'Generic Câble De Charge Magnétique - 3 En 1', 'price': '1 998 FCFA', 'descrption_link': 'https://www.jumia.sn/generic-cable-de-charge-magnetique-3-en-1-8360321.html', 'img_link': 'https://sn.jumia.is/unsafe/fit-in/300x300/filters:fill(white)/product/12/30638/1.jpg?3447', 'jumia_express': True, 'old_price': '3 918 FCFA', 'decrease_percentage': '49%', 'n_stars': '3.9 out of 5', 'n_votes': '(32)'}\n",
      "{'name': 'Mione F6 -Écran1.77\" - RAM 64 Mo - ROM 32 Mo - Dual Sim - Batterie 10000 mAh - Noir', 'price': '4 900 FCFA', 'descrption_link': 'https://www.jumia.sn/mione-f6-ecran1.77-ram-64-mo-rom-32-mo-dual-sim-batterie-10000-mah-noir-10003104.html', 'img_link': 'https://sn.jumia.is/unsafe/fit-in/300x300/filters:fill(white)/product/40/130001/1.jpg?7228', 'jumia_express': True, 'old_price': '10 000 FCFA', 'decrease_percentage': '51%', 'n_stars': '', 'n_votes': ''}\n",
      "{'name': 'Tecno Pova Neo- Ecran 6.8\" - ROM 64Go - RAM 4Go - Caméra13MP/8MP Dual flash Batterie 6000mAh - Bleu', 'price': '60 900 FCFA', 'descrption_link': 'https://www.jumia.sn/tecno-pova-neo-ecran-6.8-rom-64go-ram-4go-camera13mp8mp-dual-flash-batterie-6000mah-bleu-9844854.html', 'img_link': 'https://sn.jumia.is/unsafe/fit-in/300x300/filters:fill(white)/product/45/84489/1.jpg?0177', 'jumia_express': True, 'old_price': '100 000 FCFA', 'decrease_percentage': '39%', 'n_stars': '4 out of 5', 'n_votes': '(1)'}\n",
      "{'name': 'Tecno T101-Écran1.77\" - RAM 32 Mo - ROM 32 Mo - Dual Sim - Batterie 1000 mAh - Noir', 'price': '5 900 FCFA', 'descrption_link': 'https://www.jumia.sn/tecno-t101-ecran1.77-ram-32-mo-rom-32-mo-dual-sim-batterie-1000-mah-noir-8841036.html', 'img_link': 'https://sn.jumia.is/unsafe/fit-in/300x300/filters:fill(white)/product/63/01488/1.jpg?3376', 'jumia_express': True, 'old_price': '10 000 FCFA', 'decrease_percentage': '41%', 'n_stars': '3.8 out of 5', 'n_votes': '(96)'}\n",
      "{'name': 'White Support multi-angles pour tablette & téléphone portable', 'price': '1 900 FCFA', 'descrption_link': 'https://www.jumia.sn/white-support-multi-angles-pour-tablette-telephone-portable-9733649.html', 'img_link': 'https://sn.jumia.is/unsafe/fit-in/300x300/filters:fill(white)/product/94/63379/1.jpg?8495', 'jumia_express': False, 'old_price': '4 500 FCFA', 'decrease_percentage': '58%', 'n_stars': '4.3 out of 5', 'n_votes': '(21)'}\n",
      "{'name': 'Generic Casque De Sport Bluetooth Intra-auriculaire Intelligent Casque Stéréo Sans Fil Casque De Jeu', 'price': '4 870 FCFA', 'descrption_link': 'https://www.jumia.sn/generic-casque-de-sport-bluetooth-intra-auriculaire-intelligent-casque-stereo-sans-fil-casque-de-jeu-9832499.html', 'img_link': 'https://sn.jumia.is/unsafe/fit-in/300x300/filters:fill(white)/product/99/42389/1.jpg?0035', 'jumia_express': True, 'old_price': '10 660 FCFA', 'decrease_percentage': '54%', 'n_stars': '', 'n_votes': ''}\n",
      "{'name': 'Tecno POP 5 Go - 3G - Ecran 5.71\" - ROM 16Go Ram 1Go - Caméra front 5MP arrière 5MP - Batterie 4000mAh - Bleu', 'price': '35 750 FCFA', 'descrption_link': 'https://www.jumia.sn/tecno-pop-5-go-3g-ecran-5.71-rom-16go-ram-1go-camera-front-5mp-arriere-5mp-batterie-4000mah-bleu-9844336.html', 'img_link': 'https://sn.jumia.is/unsafe/fit-in/300x300/filters:fill(white)/product/63/34489/1.jpg?2473', 'jumia_express': True, 'old_price': '50 000 FCFA', 'decrease_percentage': '29%', 'n_stars': '4 out of 5', 'n_votes': '(3)'}\n",
      "{'name': 'Samsung Galaxy A12 – Ecran 6.5″ - ROM 128GB - RAM 4GB - Caméra 48MP - Bleu', 'price': '87 700 FCFA', 'descrption_link': 'https://www.jumia.sn/samsung-galaxy-a12-ecran-6.5-rom-128gb-ram-4gb-camera-48mp-bleu-10001120.html', 'img_link': 'https://sn.jumia.is/unsafe/fit-in/300x300/filters:fill(white)/product/02/110001/1.jpg?4777', 'jumia_express': True, 'old_price': '95 000 FCFA', 'decrease_percentage': '8%', 'n_stars': '5 out of 5', 'n_votes': '(1)'}\n",
      "{'name': 'Tecno Spark 8C – Écran 6.6″ – ROM 64GB – RAM 2GB – Caméra 13/8MP – Gris', 'price': '63 900 FCFA', 'descrption_link': 'https://www.jumia.sn/tecno-spark-8c-ecran-6.6-rom-64gb-ram-2gb-camera-138mp-gris-9979136.html', 'img_link': 'https://sn.jumia.is/unsafe/fit-in/300x300/filters:fill(white)/product/63/19799/1.jpg?8434', 'jumia_express': True, 'old_price': '100 000 FCFA', 'decrease_percentage': '36%', 'n_stars': '4 out of 5', 'n_votes': '(7)'}\n",
      "{'name': 'Generic Montres Bluetooth Intelligentes Pour Bandes Ios Et Android', 'price': '5 390 FCFA', 'descrption_link': 'https://www.jumia.sn/generic-montres-bluetooth-intelligentes-pour-bandes-ios-et-android-9832503.html', 'img_link': 'https://sn.jumia.is/unsafe/fit-in/300x300/filters:fill(white)/product/30/52389/1.jpg?0035', 'jumia_express': True, 'old_price': '9 945 FCFA', 'decrease_percentage': '46%', 'n_stars': '', 'n_votes': ''}\n",
      "{'name': 'Samsung Galaxy A03S - 4G - 6.5\" - RAM 4Go - ROM 64Go - Caméra 13+2+2MP - Empreinte digitale', 'price': '74 500 FCFA', 'descrption_link': 'https://www.jumia.sn/samsung-galaxy-a03s-4g-6.5-ram-4go-rom-64go-camera-1322mp-empreinte-digitale-9795740.html', 'img_link': 'https://sn.jumia.is/unsafe/fit-in/300x300/filters:fill(white)/product/04/75979/1.jpg?0977', 'jumia_express': True, 'old_price': '80 000 FCFA', 'decrease_percentage': '7%', 'n_stars': '4.5 out of 5', 'n_votes': '(13)'}\n",
      "{'name': 'Generic Etui Pour Airpods - Noir', 'price': '1 000 FCFA', 'descrption_link': 'https://www.jumia.sn/etui-pour-airpods-noir-generic-mpg33451.html', 'img_link': 'https://sn.jumia.is/unsafe/fit-in/300x300/filters:fill(white)/product/04/283/1.jpg?7747', 'jumia_express': False, 'old_price': '', 'decrease_percentage': '', 'n_stars': '3.3 out of 5', 'n_votes': '(92)'}\n",
      "{'name': 'Samsung Galaxy A13 - 6.6\" - RAM 4Go - ROM 64Go - Caméra 50+5+2+2MP - 5000mAh – Black', 'price': '96 960 FCFA', 'descrption_link': 'https://www.jumia.sn/samsung-galaxy-a13-6.6-ram-4go-rom-64go-camera-50522mp-5000mah-black-9961272.html', 'img_link': 'https://sn.jumia.is/unsafe/fit-in/300x300/filters:fill(white)/product/27/21699/1.jpg?6949', 'jumia_express': True, 'old_price': '104 900 FCFA', 'decrease_percentage': '8%', 'n_stars': '5 out of 5', 'n_votes': '(3)'}\n",
      "{'name': 'XIAOMI Redmi Power Bank 10000mAh PB100LZM Powerbank - Noir', 'price': '9 800 FCFA', 'descrption_link': 'https://www.jumia.sn/xiaomi-redmi-power-bank-10000mah-pb100lzm-powerbank-noir-8909821.html', 'img_link': 'https://sn.jumia.is/unsafe/fit-in/300x300/filters:fill(white)/product/12/89098/1.jpg?8203', 'jumia_express': True, 'old_price': '20 000 FCFA', 'decrease_percentage': '51%', 'n_stars': '4.3 out of 5', 'n_votes': '(17)'}\n",
      "{'name': 'Apple IPhone X - 4G LTE - 5.8 Pouces - 3Go Ram - 64Go Rom - 12 Mpx - Blanc - Reconditionné', 'price': '169 900 FCFA', 'descrption_link': 'https://www.jumia.sn/apple-iphone-x-4g-lte-5.8-pouces-3go-ram-64go-rom-12-mpx-blanc-reconditionne-9842231.html', 'img_link': 'https://sn.jumia.is/unsafe/fit-in/300x300/filters:fill(white)/product/13/22489/1.jpg?8232', 'jumia_express': True, 'old_price': '229 000 FCFA', 'decrease_percentage': '26%', 'n_stars': '4.8 out of 5', 'n_votes': '(4)'}\n",
      "{'name': 'Infinix Smart HD 2021 - 3G - 6,1\" HD - Rom 32Go - Ram 2Go - Caméra 8MP Camera front 8MP - 5000mAh - Noir', 'price': '45 900 FCFA', 'descrption_link': 'https://www.jumia.sn/infinix-smart-hd-2021-3g-61-hd-rom-32go-ram-2go-camera-8mp-camera-front-8mp-5000mah-noir-6482125.html', 'img_link': 'https://sn.jumia.is/unsafe/fit-in/300x300/filters:fill(white)/product/52/12846/1.jpg?3376', 'jumia_express': True, 'old_price': '100 000 FCFA', 'decrease_percentage': '54%', 'n_stars': '4 out of 5', 'n_votes': '(59)'}\n",
      "{'name': 'Generic Oreillettes sans fil p47 pour casque Bluetooth', 'price': '3 500 FCFA', 'descrption_link': 'https://www.jumia.sn/oreillettes-sans-fil-p47-pour-casque-bluetooth-generic-mpg34696.html', 'img_link': 'https://sn.jumia.is/unsafe/fit-in/300x300/filters:fill(white)/product/68/96016/1.jpg?2046', 'jumia_express': False, 'old_price': '15 000 FCFA', 'decrease_percentage': '77%', 'n_stars': '3.9 out of 5', 'n_votes': '(23)'}\n",
      "{'name': 'Tecno Spark 8C – Écran 6.6″ – ROM 64GB – RAM 2GB – Caméra 13/8MP – Noir', 'price': '63 750 FCFA', 'descrption_link': 'https://www.jumia.sn/spark-8c-ecran-6.6-rom-64gb-ram-2gb-camera-138mp-noir-tecno-mpg46405.html', 'img_link': 'https://sn.jumia.is/unsafe/fit-in/300x300/filters:fill(white)/product/17/76299/1.jpg?6263', 'jumia_express': True, 'old_price': '100 000 FCFA', 'decrease_percentage': '36%', 'n_stars': '4.1 out of 5', 'n_votes': '(9)'}\n",
      "{'name': 'TWS Ecouteurs Pro 5 - Sans clignotant - Qualité Garantie - Blanc', 'price': '5 900 FCFA', 'descrption_link': 'https://www.jumia.sn/ecouteurs-pro-5-sans-clignotant-qualite-garantie-blanc-tws-mpg38017.html', 'img_link': 'https://sn.jumia.is/unsafe/fit-in/300x300/filters:fill(white)/product/84/07306/1.jpg?1096', 'jumia_express': False, 'old_price': '50 000 FCFA', 'decrease_percentage': '88%', 'n_stars': '3.5 out of 5', 'n_votes': '(199)'}\n",
      "{'name': 'Generic P40 Generic Étui - Silicone - Rouge-Protection de coque', 'price': '6 600 FCFA', 'descrption_link': 'https://www.jumia.sn/generic-p40-generic-etui-silicone-rouge-protection-de-coque-9251674.html', 'img_link': 'https://sn.jumia.is/unsafe/fit-in/300x300/filters:fill(white)/product/47/61529/1.jpg?3600', 'jumia_express': True, 'old_price': '12 941 FCFA', 'decrease_percentage': '49%', 'n_stars': '3.3 out of 5', 'n_votes': '(7)'}\n",
      "{'name': 'TWS Ecouteurs Pro 5 - Android / Ios + Etui Offert couleur Aléatoire', 'price': '5 900 FCFA', 'descrption_link': 'https://www.jumia.sn/ecouteurs-pro-5-android-ios-etui-offert-couleur-aleatoire-tws-mpg38013.html', 'img_link': 'https://sn.jumia.is/unsafe/fit-in/300x300/filters:fill(white)/product/77/14706/1.jpg?0365', 'jumia_express': False, 'old_price': '30 000 FCFA', 'decrease_percentage': '80%', 'n_stars': '3.7 out of 5', 'n_votes': '(50)'}\n",
      "{'name': 'TWS Ecouteurs bluetooth -blanc', 'price': '7 900 FCFA', 'descrption_link': 'https://www.jumia.sn/ecouteurs-pro5s-tws-mpg38022.html', 'img_link': 'https://sn.jumia.is/unsafe/fit-in/300x300/filters:fill(white)/product/32/82388/1.jpg?0174', 'jumia_express': False, 'old_price': '30 000 FCFA', 'decrease_percentage': '74%', 'n_stars': '4 out of 5', 'n_votes': '(17)'}\n"
     ]
    },
    {
     "ename": "StaleElementReferenceException",
     "evalue": "Message: stale element reference: element is not attached to the page document\n  (Session info: chrome=102.0.5005.63)\nStacktrace:\nBacktrace:\n\tOrdinal0 [0x004DD953+2414931]\n\tOrdinal0 [0x0046F5E1+1963489]\n\tOrdinal0 [0x0035C6B8+837304]\n\tOrdinal0 [0x0035F0B4+848052]\n\tOrdinal0 [0x0035EF72+847730]\n\tOrdinal0 [0x0035F200+848384]\n\tOrdinal0 [0x00389215+1020437]\n\tOrdinal0 [0x0038979B+1021851]\n\tOrdinal0 [0x0037FCF1+982257]\n\tOrdinal0 [0x003A44E4+1131748]\n\tOrdinal0 [0x0037FC74+982132]\n\tOrdinal0 [0x003A46B4+1132212]\n\tOrdinal0 [0x003B4812+1198098]\n\tOrdinal0 [0x003A42B6+1131190]\n\tOrdinal0 [0x0037E860+976992]\n\tOrdinal0 [0x0037F756+980822]\n\tGetHandleVerifier [0x0074CC62+2510274]\n\tGetHandleVerifier [0x0073F760+2455744]\n\tGetHandleVerifier [0x0056EABA+551962]\n\tGetHandleVerifier [0x0056D916+547446]\n\tOrdinal0 [0x00475F3B+1990459]\n\tOrdinal0 [0x0047A898+2009240]\n\tOrdinal0 [0x0047A985+2009477]\n\tOrdinal0 [0x00483AD1+2046673]\n\tBaseThreadInitThunk [0x7675FA29+25]\n\tRtlGetAppContainerNamedObjectPath [0x77D77A9E+286]\n\tRtlGetAppContainerNamedObjectPath [0x77D77A6E+238]\n",
     "output_type": "error",
     "traceback": [
      "\u001b[1;31m---------------------------------------------------------------------------\u001b[0m",
      "\u001b[1;31mStaleElementReferenceException\u001b[0m            Traceback (most recent call last)",
      "\u001b[1;32m~\\AppData\\Local\\Temp/ipykernel_14788/926755330.py\u001b[0m in \u001b[0;36m<module>\u001b[1;34m\u001b[0m\n\u001b[0;32m     25\u001b[0m             \u001b[1;32mfor\u001b[0m \u001b[0mitem\u001b[0m \u001b[1;32min\u001b[0m \u001b[0mdriver\u001b[0m\u001b[1;33m.\u001b[0m\u001b[0mfind_elements\u001b[0m\u001b[1;33m(\u001b[0m\u001b[0mby\u001b[0m\u001b[1;33m=\u001b[0m\u001b[0mBy\u001b[0m\u001b[1;33m.\u001b[0m\u001b[0mCSS_SELECTOR\u001b[0m\u001b[1;33m,\u001b[0m \u001b[0mvalue\u001b[0m\u001b[1;33m=\u001b[0m\u001b[1;34m'article.prd._fb.col.c-prd'\u001b[0m\u001b[1;33m)\u001b[0m\u001b[1;33m:\u001b[0m\u001b[1;33m\u001b[0m\u001b[1;33m\u001b[0m\u001b[0m\n\u001b[0;32m     26\u001b[0m                 \u001b[1;31m# articles.append(process_article(article))\u001b[0m\u001b[1;33m\u001b[0m\u001b[1;33m\u001b[0m\u001b[0m\n\u001b[1;32m---> 27\u001b[1;33m                 \u001b[0mname\u001b[0m \u001b[1;33m=\u001b[0m \u001b[0mitem\u001b[0m\u001b[1;33m.\u001b[0m\u001b[0mfind_element\u001b[0m\u001b[1;33m(\u001b[0m\u001b[0mby\u001b[0m\u001b[1;33m=\u001b[0m\u001b[0mBy\u001b[0m\u001b[1;33m.\u001b[0m\u001b[0mCSS_SELECTOR\u001b[0m\u001b[1;33m,\u001b[0m \u001b[0mvalue\u001b[0m\u001b[1;33m=\u001b[0m\u001b[1;34m'h3.name'\u001b[0m\u001b[1;33m)\u001b[0m\u001b[1;33m.\u001b[0m\u001b[0mtext\u001b[0m\u001b[1;33m\u001b[0m\u001b[1;33m\u001b[0m\u001b[0m\n\u001b[0m\u001b[0;32m     28\u001b[0m                 \u001b[0mprice\u001b[0m \u001b[1;33m=\u001b[0m \u001b[0mitem\u001b[0m\u001b[1;33m.\u001b[0m\u001b[0mfind_element\u001b[0m\u001b[1;33m(\u001b[0m\u001b[0mby\u001b[0m\u001b[1;33m=\u001b[0m\u001b[0mBy\u001b[0m\u001b[1;33m.\u001b[0m\u001b[0mCSS_SELECTOR\u001b[0m\u001b[1;33m,\u001b[0m \u001b[0mvalue\u001b[0m\u001b[1;33m=\u001b[0m\u001b[1;34m'div.prc'\u001b[0m\u001b[1;33m)\u001b[0m\u001b[1;33m.\u001b[0m\u001b[0mtext\u001b[0m\u001b[1;33m\u001b[0m\u001b[1;33m\u001b[0m\u001b[0m\n\u001b[0;32m     29\u001b[0m                 \u001b[0mimg_link\u001b[0m \u001b[1;33m=\u001b[0m \u001b[0mitem\u001b[0m\u001b[1;33m.\u001b[0m\u001b[0mfind_element\u001b[0m\u001b[1;33m(\u001b[0m\u001b[0mby\u001b[0m\u001b[1;33m=\u001b[0m\u001b[0mBy\u001b[0m\u001b[1;33m.\u001b[0m\u001b[0mCSS_SELECTOR\u001b[0m\u001b[1;33m,\u001b[0m \u001b[0mvalue\u001b[0m\u001b[1;33m=\u001b[0m\u001b[1;34m'img.img'\u001b[0m\u001b[1;33m)\u001b[0m\u001b[1;33m.\u001b[0m\u001b[0mget_attribute\u001b[0m\u001b[1;33m(\u001b[0m\u001b[1;34m'data-src'\u001b[0m\u001b[1;33m)\u001b[0m\u001b[1;33m\u001b[0m\u001b[1;33m\u001b[0m\u001b[0m\n",
      "\u001b[1;32m~\\anaconda3\\lib\\site-packages\\selenium\\webdriver\\remote\\webelement.py\u001b[0m in \u001b[0;36mfind_element\u001b[1;34m(self, by, value)\u001b[0m\n\u001b[0;32m    794\u001b[0m             \u001b[0mvalue\u001b[0m \u001b[1;33m=\u001b[0m \u001b[1;34m'[name=\"%s\"]'\u001b[0m \u001b[1;33m%\u001b[0m \u001b[0mvalue\u001b[0m\u001b[1;33m\u001b[0m\u001b[1;33m\u001b[0m\u001b[0m\n\u001b[0;32m    795\u001b[0m \u001b[1;33m\u001b[0m\u001b[0m\n\u001b[1;32m--> 796\u001b[1;33m         return self._execute(Command.FIND_CHILD_ELEMENT,\n\u001b[0m\u001b[0;32m    797\u001b[0m                              {\"using\": by, \"value\": value})['value']\n\u001b[0;32m    798\u001b[0m \u001b[1;33m\u001b[0m\u001b[0m\n",
      "\u001b[1;32m~\\anaconda3\\lib\\site-packages\\selenium\\webdriver\\remote\\webelement.py\u001b[0m in \u001b[0;36m_execute\u001b[1;34m(self, command, params)\u001b[0m\n\u001b[0;32m    771\u001b[0m             \u001b[0mparams\u001b[0m \u001b[1;33m=\u001b[0m \u001b[1;33m{\u001b[0m\u001b[1;33m}\u001b[0m\u001b[1;33m\u001b[0m\u001b[1;33m\u001b[0m\u001b[0m\n\u001b[0;32m    772\u001b[0m         \u001b[0mparams\u001b[0m\u001b[1;33m[\u001b[0m\u001b[1;34m'id'\u001b[0m\u001b[1;33m]\u001b[0m \u001b[1;33m=\u001b[0m \u001b[0mself\u001b[0m\u001b[1;33m.\u001b[0m\u001b[0m_id\u001b[0m\u001b[1;33m\u001b[0m\u001b[1;33m\u001b[0m\u001b[0m\n\u001b[1;32m--> 773\u001b[1;33m         \u001b[1;32mreturn\u001b[0m \u001b[0mself\u001b[0m\u001b[1;33m.\u001b[0m\u001b[0m_parent\u001b[0m\u001b[1;33m.\u001b[0m\u001b[0mexecute\u001b[0m\u001b[1;33m(\u001b[0m\u001b[0mcommand\u001b[0m\u001b[1;33m,\u001b[0m \u001b[0mparams\u001b[0m\u001b[1;33m)\u001b[0m\u001b[1;33m\u001b[0m\u001b[1;33m\u001b[0m\u001b[0m\n\u001b[0m\u001b[0;32m    774\u001b[0m \u001b[1;33m\u001b[0m\u001b[0m\n\u001b[0;32m    775\u001b[0m     \u001b[1;32mdef\u001b[0m \u001b[0mfind_element\u001b[0m\u001b[1;33m(\u001b[0m\u001b[0mself\u001b[0m\u001b[1;33m,\u001b[0m \u001b[0mby\u001b[0m\u001b[1;33m=\u001b[0m\u001b[0mBy\u001b[0m\u001b[1;33m.\u001b[0m\u001b[0mID\u001b[0m\u001b[1;33m,\u001b[0m \u001b[0mvalue\u001b[0m\u001b[1;33m=\u001b[0m\u001b[1;32mNone\u001b[0m\u001b[1;33m)\u001b[0m\u001b[1;33m:\u001b[0m\u001b[1;33m\u001b[0m\u001b[1;33m\u001b[0m\u001b[0m\n",
      "\u001b[1;32m~\\anaconda3\\lib\\site-packages\\selenium\\webdriver\\remote\\webdriver.py\u001b[0m in \u001b[0;36mexecute\u001b[1;34m(self, driver_command, params)\u001b[0m\n\u001b[0;32m    428\u001b[0m         \u001b[0mresponse\u001b[0m \u001b[1;33m=\u001b[0m \u001b[0mself\u001b[0m\u001b[1;33m.\u001b[0m\u001b[0mcommand_executor\u001b[0m\u001b[1;33m.\u001b[0m\u001b[0mexecute\u001b[0m\u001b[1;33m(\u001b[0m\u001b[0mdriver_command\u001b[0m\u001b[1;33m,\u001b[0m \u001b[0mparams\u001b[0m\u001b[1;33m)\u001b[0m\u001b[1;33m\u001b[0m\u001b[1;33m\u001b[0m\u001b[0m\n\u001b[0;32m    429\u001b[0m         \u001b[1;32mif\u001b[0m \u001b[0mresponse\u001b[0m\u001b[1;33m:\u001b[0m\u001b[1;33m\u001b[0m\u001b[1;33m\u001b[0m\u001b[0m\n\u001b[1;32m--> 430\u001b[1;33m             \u001b[0mself\u001b[0m\u001b[1;33m.\u001b[0m\u001b[0merror_handler\u001b[0m\u001b[1;33m.\u001b[0m\u001b[0mcheck_response\u001b[0m\u001b[1;33m(\u001b[0m\u001b[0mresponse\u001b[0m\u001b[1;33m)\u001b[0m\u001b[1;33m\u001b[0m\u001b[1;33m\u001b[0m\u001b[0m\n\u001b[0m\u001b[0;32m    431\u001b[0m             response['value'] = self._unwrap_value(\n\u001b[0;32m    432\u001b[0m                 response.get('value', None))\n",
      "\u001b[1;32m~\\anaconda3\\lib\\site-packages\\selenium\\webdriver\\remote\\errorhandler.py\u001b[0m in \u001b[0;36mcheck_response\u001b[1;34m(self, response)\u001b[0m\n\u001b[0;32m    245\u001b[0m                 \u001b[0malert_text\u001b[0m \u001b[1;33m=\u001b[0m \u001b[0mvalue\u001b[0m\u001b[1;33m[\u001b[0m\u001b[1;34m'alert'\u001b[0m\u001b[1;33m]\u001b[0m\u001b[1;33m.\u001b[0m\u001b[0mget\u001b[0m\u001b[1;33m(\u001b[0m\u001b[1;34m'text'\u001b[0m\u001b[1;33m)\u001b[0m\u001b[1;33m\u001b[0m\u001b[1;33m\u001b[0m\u001b[0m\n\u001b[0;32m    246\u001b[0m             \u001b[1;32mraise\u001b[0m \u001b[0mexception_class\u001b[0m\u001b[1;33m(\u001b[0m\u001b[0mmessage\u001b[0m\u001b[1;33m,\u001b[0m \u001b[0mscreen\u001b[0m\u001b[1;33m,\u001b[0m \u001b[0mstacktrace\u001b[0m\u001b[1;33m,\u001b[0m \u001b[0malert_text\u001b[0m\u001b[1;33m)\u001b[0m  \u001b[1;31m# type: ignore[call-arg]  # mypy is not smart enough here\u001b[0m\u001b[1;33m\u001b[0m\u001b[1;33m\u001b[0m\u001b[0m\n\u001b[1;32m--> 247\u001b[1;33m         \u001b[1;32mraise\u001b[0m \u001b[0mexception_class\u001b[0m\u001b[1;33m(\u001b[0m\u001b[0mmessage\u001b[0m\u001b[1;33m,\u001b[0m \u001b[0mscreen\u001b[0m\u001b[1;33m,\u001b[0m \u001b[0mstacktrace\u001b[0m\u001b[1;33m)\u001b[0m\u001b[1;33m\u001b[0m\u001b[1;33m\u001b[0m\u001b[0m\n\u001b[0m\u001b[0;32m    248\u001b[0m \u001b[1;33m\u001b[0m\u001b[0m\n\u001b[0;32m    249\u001b[0m     \u001b[1;32mdef\u001b[0m \u001b[0m_value_or_default\u001b[0m\u001b[1;33m(\u001b[0m\u001b[0mself\u001b[0m\u001b[1;33m,\u001b[0m \u001b[0mobj\u001b[0m\u001b[1;33m:\u001b[0m \u001b[0mMapping\u001b[0m\u001b[1;33m[\u001b[0m\u001b[0m_KT\u001b[0m\u001b[1;33m,\u001b[0m \u001b[0m_VT\u001b[0m\u001b[1;33m]\u001b[0m\u001b[1;33m,\u001b[0m \u001b[0mkey\u001b[0m\u001b[1;33m:\u001b[0m \u001b[0m_KT\u001b[0m\u001b[1;33m,\u001b[0m \u001b[0mdefault\u001b[0m\u001b[1;33m:\u001b[0m \u001b[0m_VT\u001b[0m\u001b[1;33m)\u001b[0m \u001b[1;33m->\u001b[0m \u001b[0m_VT\u001b[0m\u001b[1;33m:\u001b[0m\u001b[1;33m\u001b[0m\u001b[1;33m\u001b[0m\u001b[0m\n",
      "\u001b[1;31mStaleElementReferenceException\u001b[0m: Message: stale element reference: element is not attached to the page document\n  (Session info: chrome=102.0.5005.63)\nStacktrace:\nBacktrace:\n\tOrdinal0 [0x004DD953+2414931]\n\tOrdinal0 [0x0046F5E1+1963489]\n\tOrdinal0 [0x0035C6B8+837304]\n\tOrdinal0 [0x0035F0B4+848052]\n\tOrdinal0 [0x0035EF72+847730]\n\tOrdinal0 [0x0035F200+848384]\n\tOrdinal0 [0x00389215+1020437]\n\tOrdinal0 [0x0038979B+1021851]\n\tOrdinal0 [0x0037FCF1+982257]\n\tOrdinal0 [0x003A44E4+1131748]\n\tOrdinal0 [0x0037FC74+982132]\n\tOrdinal0 [0x003A46B4+1132212]\n\tOrdinal0 [0x003B4812+1198098]\n\tOrdinal0 [0x003A42B6+1131190]\n\tOrdinal0 [0x0037E860+976992]\n\tOrdinal0 [0x0037F756+980822]\n\tGetHandleVerifier [0x0074CC62+2510274]\n\tGetHandleVerifier [0x0073F760+2455744]\n\tGetHandleVerifier [0x0056EABA+551962]\n\tGetHandleVerifier [0x0056D916+547446]\n\tOrdinal0 [0x00475F3B+1990459]\n\tOrdinal0 [0x0047A898+2009240]\n\tOrdinal0 [0x0047A985+2009477]\n\tOrdinal0 [0x00483AD1+2046673]\n\tBaseThreadInitThunk [0x7675FA29+25]\n\tRtlGetAppContainerNamedObjectPath [0x77D77A9E+286]\n\tRtlGetAppContainerNamedObjectPath [0x77D77A6E+238]\n"
     ]
    }
   ],
   "source": [
    "driver.get(INITIAL_WEBSITE)\n",
    "close_popup(driver)\n",
    "menu_items = {}\n",
    "menu_items_ = driver.find_elements(by=By.CSS_SELECTOR, value=\"div.flyout-w a.itm\")\n",
    "for cat in menu_items_: \n",
    "    link = cat.get_attribute('href')\n",
    "    category_name = cat.find_element(by=By.CSS_SELECTOR, value='span').text\n",
    "    menu_items[category_name] = link\n",
    "    \n",
    "print(f\"Available categories : {len(menu_items)} \\n\" ) \n",
    "\n",
    "for (category_name, category_link) in menu_items.items():\n",
    "    print(f\"{category_name} -- {category_link} \" )\n",
    "    if category_link is not None :\n",
    "        last_page_scraped = False\n",
    "        next_page = category_link\n",
    "\n",
    "        while not last_page_scraped:\n",
    "            # go to a page to scrape articles\n",
    "            driver.get(next_page)\n",
    "            close_popup(driver)\n",
    "            # articles_ = driver.find_elements(by=By.CSS_SELECTOR, value='article.prd._fb.col.c-prd') # get article boxes\n",
    "            # articles = [process_article(article) for article in articles_]\n",
    "            articles = [ ]\n",
    "            for item in driver.find_elements(by=By.CSS_SELECTOR, value='article.prd._fb.col.c-prd'): \n",
    "                # articles.append(process_article(article))\n",
    "                name = item.find_element(by=By.CSS_SELECTOR, value='h3.name').text\n",
    "                price = item.find_element(by=By.CSS_SELECTOR, value='div.prc').text\n",
    "                img_link = item.find_element(by=By.CSS_SELECTOR, value='img.img').get_attribute('data-src')\n",
    "                descrption_link = item.find_element(by=By.CSS_SELECTOR, value='a.core').get_attribute('href')\n",
    "                try:\n",
    "                    old_price, decrease_percentage = item.find_element(by=By.CSS_SELECTOR, value='div.s-prc-w').text.split(\"\\n\")\n",
    "                except:\n",
    "                    old_price, decrease_percentage = '', ''\n",
    "                try:\n",
    "                    n_stars, n_votes = item.find_element(by=By.CSS_SELECTOR, value='div.rev').text.split(\"\\n\")\n",
    "                    # n_votes = int(n_votes.replace(\"(\", \"\").replace(\")\", \"\")) # clean value and convert to int \n",
    "                except:\n",
    "                    n_stars, n_votes = '', ''\n",
    "                try:\n",
    "                    item.find_element(by=By.CSS_SELECTOR, value='svg.ic.xprss')\n",
    "                    jumia_express = True\n",
    "                except:\n",
    "                    jumia_express = False\n",
    "\n",
    "                article_data = dict(name=name , price=price , descrption_link=descrption_link , img_link=img_link , jumia_express=jumia_express ,\n",
    "                               old_price=old_price , decrease_percentage=decrease_percentage ,n_stars=n_stars, n_votes=n_votes  )\n",
    "                print(article_data)\n",
    "            # articles = [process_article(article) ]\n",
    "            data[category_name] = articles \n",
    "            next_page_btn = driver.find_elements(by=By.CSS_SELECTOR, value='div.pg-w.-ptm.-pbxl a')[-2] \n",
    "\n",
    "            if next_page_btn.accessible_name not in ['Page suivante']:\n",
    "                last_page_scraped = True\n",
    "\n",
    "            # break\n",
    "\n",
    "        n_results_str = driver.find_element(by=By.CSS_SELECTOR, value='p.-gy5.-phs').text\n",
    "        print(f\"Available articles in this category : {n_results_str.split()[0]} \\n\")\n",
    "    \n",
    "    # break"
   ]
  },
  {
   "cell_type": "code",
   "execution_count": 13,
   "id": "7c5b7d29-b207-419b-b8e8-dbafc8aa7e73",
   "metadata": {},
   "outputs": [
    {
     "data": {
      "text/plain": [
       "48"
      ]
     },
     "execution_count": 13,
     "metadata": {},
     "output_type": "execute_result"
    }
   ],
   "source": [
    "len(driver.find_elements(by=By.CSS_SELECTOR, value='article.prd._fb.col.c-prd'))"
   ]
  },
  {
   "cell_type": "code",
   "execution_count": 17,
   "id": "25420037-d459-49c8-b8be-56106578fbb2",
   "metadata": {},
   "outputs": [
    {
     "name": "stdout",
     "output_type": "stream",
     "text": [
      "Samsung Galaxy A03 Core - 4G - 6.5\" - RAM 2Go - ROM 32Go - Caméra 13+2MP - 5000mAh- Noir\n",
      "48 900 FCFA\n"
     ]
    }
   ],
   "source": [
    "for i in driver.find_elements(by=By.CSS_SELECTOR, value='article.prd._fb.col.c-prd'):\n",
    "    i\n",
    "    print(i.find_element(by=By.CSS_SELECTOR, value='h3.name').text)\n",
    "    print(i.find_element(by=By.CSS_SELECTOR, value='div.prc').text)\n",
    "    break"
   ]
  },
  {
   "cell_type": "code",
   "execution_count": null,
   "id": "47471763-41d8-4d72-9273-b334f58f2526",
   "metadata": {},
   "outputs": [],
   "source": [
    "articles[0]"
   ]
  },
  {
   "cell_type": "code",
   "execution_count": null,
   "id": "6180d95f-4869-4467-bdfa-14285bf46978",
   "metadata": {},
   "outputs": [],
   "source": []
  },
  {
   "cell_type": "code",
   "execution_count": null,
   "id": "44f290ca-6eb5-4c55-a567-146a2199ebfe",
   "metadata": {
    "tags": []
   },
   "outputs": [],
   "source": [
    "list_of_dfs = []\n",
    "for category, articles in data:\n",
    "    df = pd.DataFrame(articles)\n",
    "    df.to_csv( os.path.join( \"data\", f\"{category}.csv\"), index=False  )\n",
    "    \n",
    "    df['main_category'] = category\n",
    "    list_of_dfs.append(df)\n",
    "    \n",
    "\n",
    "global_df = pd.concat( list_of_dfs, axis=0)\n",
    "global_df.to_csv( os.path.join( \"data\", f\"{category}.csv\"), index=False  )"
   ]
  },
  {
   "cell_type": "code",
   "execution_count": null,
   "id": "75f76f34-165b-4f60-8ecc-a93657c71ffc",
   "metadata": {},
   "outputs": [],
   "source": []
  },
  {
   "cell_type": "code",
   "execution_count": 11,
   "id": "94cb6691-0c01-4556-89aa-a7c4a3bdcbdd",
   "metadata": {},
   "outputs": [],
   "source": [
    "driver.close()"
   ]
  },
  {
   "cell_type": "code",
   "execution_count": null,
   "id": "1c748719-2680-4baa-bc4d-38c713d5419d",
   "metadata": {},
   "outputs": [],
   "source": []
  },
  {
   "cell_type": "code",
   "execution_count": null,
   "id": "e4877961-45b1-47f5-83ad-7b34054426a4",
   "metadata": {},
   "outputs": [],
   "source": []
  }
 ],
 "metadata": {
  "kernelspec": {
   "display_name": "Python 3 (ipykernel)",
   "language": "python",
   "name": "python3"
  },
  "language_info": {
   "codemirror_mode": {
    "name": "ipython",
    "version": 3
   },
   "file_extension": ".py",
   "mimetype": "text/x-python",
   "name": "python",
   "nbconvert_exporter": "python",
   "pygments_lexer": "ipython3",
   "version": "3.9.7"
  }
 },
 "nbformat": 4,
 "nbformat_minor": 5
}
