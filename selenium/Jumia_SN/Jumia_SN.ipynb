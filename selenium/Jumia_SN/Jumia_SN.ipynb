{
 "cells": [
  {
   "cell_type": "code",
   "execution_count": 1,
   "id": "46a386f4-6492-49c4-a3bf-ac35d8ee892d",
   "metadata": {},
   "outputs": [],
   "source": [
    "from selenium import webdriver\n",
    "from selenium.webdriver.support.ui import WebDriverWait\n",
    "from selenium.webdriver.chrome.service import Service\n",
    "from webdriver_manager.chrome import ChromeDriverManager\n",
    "from selenium.webdriver.chrome.options import Options\n",
    "from selenium.webdriver.common.by import By\n",
    "from selenium.webdriver.support import expected_conditions as EC\n",
    "import pandas as pd\n",
    "import os"
   ]
  },
  {
   "cell_type": "code",
   "execution_count": 2,
   "id": "ed01d195-ff9f-43a0-aaa1-c6dee3e9362f",
   "metadata": {},
   "outputs": [
    {
     "name": "stdout",
     "output_type": "stream",
     "text": [
      "\n"
     ]
    },
    {
     "name": "stderr",
     "output_type": "stream",
     "text": [
      "[WDM] - ====== WebDriver manager ======\n",
      "[WDM] - Current google-chrome version is 102.0.5005\n",
      "[WDM] - Get LATEST chromedriver version for 102.0.5005 google-chrome\n",
      "[WDM] - Driver [C:\\Users\\emman\\.wdm\\drivers\\chromedriver\\win32\\102.0.5005.61\\chromedriver.exe] found in cache\n"
     ]
    }
   ],
   "source": [
    "driver_options = Options()\n",
    "driver_options.add_argument(\"accept-language=en-US\")\n",
    "driver_options.add_argument('headless');\n",
    "# driver_options.add_argument('window-size=1200x600'); ##// optional\n",
    "\n",
    "s=Service(ChromeDriverManager().install())\n",
    "driver = webdriver.Chrome(service=s,options=driver_options)\n",
    "driver.maximize_window()\n"
   ]
  },
  {
   "cell_type": "code",
   "execution_count": 3,
   "id": "de477c49-f97d-44fe-adde-7033e422c5c5",
   "metadata": {},
   "outputs": [],
   "source": [
    "INITIAL_WEBSITE = \"https://www.jumia.sn/\"\n",
    "data = {}\n",
    "# go to the root page and get header/menu with its sub-items"
   ]
  },
  {
   "cell_type": "code",
   "execution_count": 4,
   "id": "8c9ef27e-1b27-482a-80bd-ebddec4150b2",
   "metadata": {},
   "outputs": [],
   "source": [
    "# Autres catégories -- None # issue to solve later"
   ]
  },
  {
   "cell_type": "code",
   "execution_count": 5,
   "id": "f835ec80-ab04-4280-83bd-658aaff12780",
   "metadata": {},
   "outputs": [],
   "source": [
    "def process_article(article):\n",
    "    \"\"\"retrive needed information from an article\"\"\"\n",
    "    try:\n",
    "        name = article.find_element(by=By.CSS_SELECTOR, value='h3.name').text\n",
    "        price = article.find_element(by=By.CSS_SELECTOR, value='div.prc').text\n",
    "        img_link = article.find_element(by=By.CSS_SELECTOR, value='img.img').get_attribute('data-src')\n",
    "        descrption_link = article.find_element(by=By.CSS_SELECTOR, value='a.core').get_attribute('href')\n",
    "        try:\n",
    "            old_price, decrease_percentage = article.find_element(by=By.CSS_SELECTOR, value='div.s-prc-w').text.split(\"\\n\")\n",
    "        except:\n",
    "            old_price, decrease_percentage = '', ''\n",
    "        try:\n",
    "            n_stars, n_votes = article.find_element(by=By.CSS_SELECTOR, value='div.rev').text.split(\"\\n\")\n",
    "            # n_votes = int(n_votes.replace(\"(\", \"\").replace(\")\", \"\")) # clean value and convert to int \n",
    "        except:\n",
    "            n_stars, n_votes = '', ''\n",
    "        try:\n",
    "            article.find_element(by=By.CSS_SELECTOR, value='svg.ic.xprss')\n",
    "            jumia_express = True\n",
    "        except:\n",
    "            jumia_express = False\n",
    "\n",
    "        article_data = dict(name=name , price=price , descrption_link=descrption_link , img_link=img_link , jumia_express=jumia_express ,\n",
    "                       old_price=old_price , decrease_percentage=decrease_percentage ,n_stars=n_stars, n_votes=n_votes  )\n",
    "    except:\n",
    "        article_data = None\n",
    "    return article_data"
   ]
  },
  {
   "cell_type": "code",
   "execution_count": null,
   "id": "38184442-59c1-41ca-9c27-b2efd9aa6524",
   "metadata": {},
   "outputs": [],
   "source": []
  },
  {
   "cell_type": "code",
   "execution_count": 6,
   "id": "5d1e1d5d-3651-466a-ad3f-43c6e01e6fff",
   "metadata": {},
   "outputs": [],
   "source": [
    "def close_popup(driver):\n",
    "    \"\"\"close pop up frames\"\"\"\n",
    "    try:\n",
    "        [btn.click() for btn in driver.find_elements(by=By.CSS_SELECTOR, value='button.cls')]\n",
    "    except:\n",
    "        pass"
   ]
  },
  {
   "cell_type": "code",
   "execution_count": null,
   "id": "76d3ecc2-6240-4584-9be3-151804446a8b",
   "metadata": {},
   "outputs": [],
   "source": []
  },
  {
   "cell_type": "code",
   "execution_count": 7,
   "id": "7ac67399-be25-40a9-a75b-7e39dbe61279",
   "metadata": {},
   "outputs": [
    {
     "name": "stdout",
     "output_type": "stream",
     "text": [
      "Available categories : 12 \n",
      "\n",
      "Téléphones & Tablettes -- https://www.jumia.sn/telephone-tablette/ \n",
      "Available articles in this category : 3490 \n",
      "\n",
      "Supermarché -- https://www.jumia.sn/epiceries/ \n",
      "Available articles in this category : 2353 \n",
      "\n",
      "Santé & Beauté -- https://www.jumia.sn/beaute-hygiene-sante/ \n",
      "Available articles in this category : 13417 \n",
      "\n",
      "Électronique -- https://www.jumia.sn/electronique/ \n",
      "Available articles in this category : 2932 \n",
      "\n",
      "Informatique -- https://www.jumia.sn/ordinateurs-accessoires-informatique/ \n",
      "Available articles in this category : 1430 \n",
      "\n",
      "Electroménager -- https://www.jumia.sn/maison-bureau-electromenager/ \n",
      "Available articles in this category : 750 \n",
      "\n",
      "Maison et bureau -- https://www.jumia.sn/maison-cuisine-jardin/ \n",
      "Available articles in this category : 10537 \n",
      "\n",
      "Mode -- https://www.jumia.sn/fashion-mode/ \n",
      "Available articles in this category : 10140 \n",
      "\n",
      "Produits pour bébés -- https://www.jumia.sn/bebe-puericulture/ \n",
      "Available articles in this category : 820 \n",
      "\n",
      "Articles de sport -- https://www.jumia.sn/sports-loisirs/ \n",
      "Available articles in this category : 5103 \n",
      "\n",
      "Jeux vidéos & Consoles -- https://www.jumia.sn/jeux-videos-consoles/ \n",
      "Available articles in this category : 281 \n",
      "\n",
      "Autres catégories -- None \n"
     ]
    }
   ],
   "source": [
    "driver.get(INITIAL_WEBSITE)\n",
    "close_popup(driver)\n",
    "menu_items = {}\n",
    "menu_items_ = driver.find_elements(by=By.CSS_SELECTOR, value=\"div.flyout-w a.itm\")\n",
    "for cat in menu_items_: \n",
    "    link = cat.get_attribute('href')\n",
    "    category_name = cat.find_element(by=By.CSS_SELECTOR, value='span').text\n",
    "    menu_items[category_name] = link\n",
    "    \n",
    "print(f\"Available categories : {len(menu_items)} \\n\" ) \n",
    "\n",
    "for (category_name, category_link) in menu_items.items():\n",
    "    print(f\"{category_name} -- {category_link} \" )\n",
    "    if category_link is not None :\n",
    "        last_page_scraped = False\n",
    "        next_page = category_link\n",
    "\n",
    "        while not last_page_scraped:\n",
    "            # go to a page to scrape articles\n",
    "            driver.get(next_page)\n",
    "            close_popup(driver)\n",
    "            articles_ = driver.find_elements(by=By.CSS_SELECTOR, value='article.prd._fb.col.c-prd') # get article boxes\n",
    "            articles = [ ]\n",
    "            for article in articles_:\n",
    "                article_data = process_article(article)\n",
    "                if article_data:\n",
    "                    articles.append(article_data)\n",
    "            data[category_name] = articles \n",
    "            next_page_btn = driver.find_elements(by=By.CSS_SELECTOR, value='div.pg-w.-ptm.-pbxl a')[-2] \n",
    "\n",
    "            if next_page_btn.accessible_name not in ['Page suivante']:\n",
    "                last_page_scraped = True\n",
    "            else:\n",
    "                next_page = next_page_btn.get_attribute(\"href\")\n",
    "\n",
    "            # break # uncomment if you just want to get first page articles\n",
    "\n",
    "        n_results_str = driver.find_element(by=By.CSS_SELECTOR, value='p.-gy5.-phs').text\n",
    "        print(f\"Available articles in this category : {n_results_str.split()[0]} \\n\")\n",
    "    \n",
    "    # break # uncomment if you just want to get first category articles"
   ]
  },
  {
   "cell_type": "code",
   "execution_count": null,
   "id": "6180d95f-4869-4467-bdfa-14285bf46978",
   "metadata": {},
   "outputs": [],
   "source": []
  },
  {
   "cell_type": "code",
   "execution_count": 8,
   "id": "44f290ca-6eb5-4c55-a567-146a2199ebfe",
   "metadata": {
    "tags": []
   },
   "outputs": [],
   "source": [
    "list_of_dfs = []\n",
    "for category, articles in data.items():\n",
    "    df = pd.DataFrame(articles)\n",
    "    df.to_csv( os.path.join( \"data\", f\"{category}.csv\"), index=False  )\n",
    "    \n",
    "    df['main_category'] = category\n",
    "    list_of_dfs.append(df)\n",
    "    \n",
    "\n",
    "global_df = pd.concat( list_of_dfs, axis=0)\n",
    "global_df.to_csv( os.path.join( \"data\", f\"GLOBAL.csv\"), index=False  )"
   ]
  },
  {
   "cell_type": "code",
   "execution_count": null,
   "id": "75f76f34-165b-4f60-8ecc-a93657c71ffc",
   "metadata": {},
   "outputs": [],
   "source": []
  },
  {
   "cell_type": "code",
   "execution_count": 9,
   "id": "94cb6691-0c01-4556-89aa-a7c4a3bdcbdd",
   "metadata": {},
   "outputs": [],
   "source": [
    "driver.close()"
   ]
  },
  {
   "cell_type": "code",
   "execution_count": null,
   "id": "bd1fe2f0-5c2d-48a2-aa24-d8a85bb9b010",
   "metadata": {},
   "outputs": [],
   "source": []
  }
 ],
 "metadata": {
  "kernelspec": {
   "display_name": "Python 3 (ipykernel)",
   "language": "python",
   "name": "python3"
  },
  "language_info": {
   "codemirror_mode": {
    "name": "ipython",
    "version": 3
   },
   "file_extension": ".py",
   "mimetype": "text/x-python",
   "name": "python",
   "nbconvert_exporter": "python",
   "pygments_lexer": "ipython3",
   "version": "3.9.7"
  }
 },
 "nbformat": 4,
 "nbformat_minor": 5
}
