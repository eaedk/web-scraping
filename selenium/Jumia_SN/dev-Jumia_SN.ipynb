{
 "cells": [
  {
   "cell_type": "code",
   "execution_count": 1,
   "id": "46a386f4-6492-49c4-a3bf-ac35d8ee892d",
   "metadata": {},
   "outputs": [],
   "source": [
    "from selenium import webdriver\n",
    "from selenium.webdriver.support.ui import WebDriverWait\n",
    "from selenium.webdriver.chrome.service import Service\n",
    "from webdriver_manager.chrome import ChromeDriverManager\n",
    "from selenium.webdriver.chrome.options import Options\n",
    "from selenium.webdriver import ActionChains\n",
    "from selenium.webdriver.common.by import By\n",
    "from selenium.webdriver.support import expected_conditions as EC\n",
    "import pandas as pd"
   ]
  },
  {
   "cell_type": "code",
   "execution_count": null,
   "id": "ed01d195-ff9f-43a0-aaa1-c6dee3e9362f",
   "metadata": {},
   "outputs": [
    {
     "name": "stdout",
     "output_type": "stream",
     "text": [
      "\n"
     ]
    },
    {
     "name": "stderr",
     "output_type": "stream",
     "text": [
      "[WDM] - ====== WebDriver manager ======\n",
      "[WDM] - Current google-chrome version is 102.0.5005\n",
      "[WDM] - Get LATEST chromedriver version for 102.0.5005 google-chrome\n",
      "[WDM] - Driver [C:\\Users\\emman\\.wdm\\drivers\\chromedriver\\win32\\102.0.5005.61\\chromedriver.exe] found in cache\n"
     ]
    }
   ],
   "source": [
    "driver_options = Options()\n",
    "driver_options.add_argument(\"accept-language=en-US\")\n",
    "\n",
    "s=Service(ChromeDriverManager().install())\n",
    "driver = webdriver.Chrome(service=s,options=driver_options)\n",
    "driver.maximize_window()\n",
    "\n",
    "actions = ActionChains(driver)"
   ]
  },
  {
   "cell_type": "code",
   "execution_count": null,
   "id": "9b3ee0a4-c4dd-4d3f-b3ef-896fc02f2436",
   "metadata": {},
   "outputs": [],
   "source": [
    "INITIAL_WEBSITE = \"https://www.jumia.sn/\"\n",
    "data = {}\n",
    "# go to the root page and get header/menu with its sub-items"
   ]
  },
  {
   "cell_type": "code",
   "execution_count": null,
   "id": "ac1ab878-42d4-448c-8473-85eccb3af355",
   "metadata": {},
   "outputs": [],
   "source": [
    "def process_article(article):\n",
    "    \"\"\"retrive needed information from an article\"\"\"\n",
    "    try:\n",
    "        name = article.find_element(by=By.CSS_SELECTOR, value='h3.name').text\n",
    "        price = article.find_element(by=By.CSS_SELECTOR, value='div.prc').text\n",
    "        img_link = article.find_element(by=By.CSS_SELECTOR, value='img.img').get_attribute('data-src')\n",
    "        descrption_link = article.find_element(by=By.CSS_SELECTOR, value='a.core').get_attribute('href')\n",
    "        try:\n",
    "            old_price, decrease_percentage = article.find_element(by=By.CSS_SELECTOR, value='div.s-prc-w').text.split(\"\\n\")\n",
    "        except:\n",
    "            old_price, decrease_percentage = '', ''\n",
    "        try:\n",
    "            n_stars, n_votes = article.find_element(by=By.CSS_SELECTOR, value='div.rev').text.split(\"\\n\")\n",
    "            # n_votes = int(n_votes.replace(\"(\", \"\").replace(\")\", \"\")) # clean value and convert to int \n",
    "        except:\n",
    "            n_stars, n_votes = '', ''\n",
    "        try:\n",
    "            article.find_element(by=By.CSS_SELECTOR, value='svg.ic.xprss')\n",
    "            jumia_express = True\n",
    "        except:\n",
    "            jumia_express = False\n",
    "\n",
    "        article_data = dict(name=name , price=price , descrption_link=descrption_link , img_link=img_link , jumia_express=jumia_express ,\n",
    "                       old_price=old_price , decrease_percentage=decrease_percentage ,n_stars=n_stars, n_votes=n_votes  )\n",
    "    except:\n",
    "        article_data = None\n",
    "    return article_data"
   ]
  },
  {
   "cell_type": "code",
   "execution_count": null,
   "id": "e68b5e92-445d-4d13-845f-dc1ab1bc7c41",
   "metadata": {},
   "outputs": [],
   "source": [
    "def close_popup(driver):\n",
    "    \"\"\"close pop up frames\"\"\"\n",
    "    try:\n",
    "        [btn.click() for btn in driver.find_elements(by=By.CSS_SELECTOR, value='button.cls')]\n",
    "    except:\n",
    "        pass"
   ]
  },
  {
   "cell_type": "code",
   "execution_count": null,
   "id": "3f67448b-3cde-43e7-ba20-c0b04c628c0f",
   "metadata": {},
   "outputs": [],
   "source": []
  },
  {
   "cell_type": "code",
   "execution_count": null,
   "id": "77c5d0b7-bd44-4fe3-a8ca-8c901712208c",
   "metadata": {},
   "outputs": [],
   "source": [
    "driver.get(INITIAL_WEBSITE)\n",
    "close_popup(driver)\n",
    "\n",
    "pages = []\n",
    "categories = driver.find_elements(by=By.CSS_SELECTOR, value='div.flyout-w > div > a.itm')\n",
    "for (i,category) in enumerate(categories):\n",
    "    actions.move_to_element(category).perform()\n",
    "    sub_menu = driver.find_elements(by=By.CSS_SELECTOR, value='div.flyout-w > div > div.sub')[i]\n",
    "    sub_menu_groups = sub_menu.find_elements(by=By.CSS_SELECTOR, value='div > div > div.cat')\n",
    "    # print(f\"category : {category.text} \\n\")\n",
    "    for sub_menu_group in sub_menu_groups:\n",
    "        sub_menu_group_name = sub_menu_group.find_element(by=By.CSS_SELECTOR, value='a.tit').text\n",
    "        # print(f\"sub-category: {sub_menu_group_name} \")\n",
    "        sub_menu_group_items = sub_menu_group.find_elements(by=By.CSS_SELECTOR, value='a.s-itm')\n",
    "        for item in sub_menu_group_items:\n",
    "            link = item.get_attribute('href')\n",
    "            if link and str(link).strip() != '':\n",
    "                if str(item.text).strip() != '':\n",
    "                    pages.append( { 'link': link, 'category':category.text, 'sub_category': sub_menu_group_name,\n",
    "                                   'section': item.text.lower(),} )\n",
    "                else:\n",
    "                    section = link[:-1].split('/')[-1].replace(\"-\", \" \").lower()\n",
    "                    pages.append( { 'link': link, 'category':category.text, 'sub_category': sub_menu_group_name,\n",
    "                                   'section': section,} )\n",
    "        #         print(f\"section : {item.text} , {link}   \") \n",
    "        # print('')\n",
    "    \n",
    "print(f\"Available sections : {len(pages)} \\n\" ) \n",
    "\n",
    "for page in pages:\n",
    "    category_name, category_link = page['section'], page['link']\n",
    "    print(f\"{category_name} -- {category_link} \" )\n",
    "    if category_link is not None :\n",
    "        last_page_scraped = False\n",
    "        next_page = category_link\n",
    "\n",
    "        while not last_page_scraped:\n",
    "            # go to a page to scrape articles\n",
    "            driver.get(next_page)\n",
    "            close_popup(driver)\n",
    "            articles_ = driver.find_elements(by=By.CSS_SELECTOR, value='article.prd._fb.col.c-prd') # get article boxes\n",
    "            articles = [ ]\n",
    "            for article in articles_:\n",
    "                article_data = process_article(article)\n",
    "                if article_data:\n",
    "                    articles.append(article_data)\n",
    "            data[category_name] = articles \n",
    "            next_page_btn = driver.find_elements(by=By.CSS_SELECTOR, value='div.pg-w.-ptm.-pbxl a')[-2] \n",
    "\n",
    "            if next_page_btn.accessible_name not in ['Page suivante']:\n",
    "                last_page_scraped = True\n",
    "            else:\n",
    "                next_page = next_page_btn.get_attribute(\"href\")\n",
    "\n",
    "            break # uncomment if you just want to get first page articles\n",
    "\n",
    "        n_results_str = driver.find_element(by=By.CSS_SELECTOR, value='p.-gy5.-phs').text\n",
    "        print(f\"Available articles in this category : {n_results_str.split()[0]} \\n\")\n",
    "    \n",
    "    # break # uncomment if you just want to get first category articles"
   ]
  },
  {
   "cell_type": "code",
   "execution_count": null,
   "id": "44f290ca-6eb5-4c55-a567-146a2199ebfe",
   "metadata": {
    "tags": []
   },
   "outputs": [],
   "source": [
    "list_of_dfs = []\n",
    "for section, articles in data.items():\n",
    "    df = pd.DataFrame(articles)\n",
    "    df.to_csv( os.path.join( \"data\", f\"section {category}.csv\"), index=False  )\n",
    "    \n",
    "    df['section'] = section\n",
    "    list_of_dfs.append(df)\n",
    "    \n",
    "\n",
    "global_df = pd.concat( list_of_dfs, axis=0)\n",
    "global_df.to_csv( os.path.join( \"data\", f\"GLOBAL_SECTION.csv\"), index=False  )"
   ]
  },
  {
   "cell_type": "code",
   "execution_count": null,
   "id": "75f76f34-165b-4f60-8ecc-a93657c71ffc",
   "metadata": {},
   "outputs": [],
   "source": []
  },
  {
   "cell_type": "code",
   "execution_count": null,
   "id": "790f02b1-dae8-41ea-abb6-e807d8761cd9",
   "metadata": {},
   "outputs": [],
   "source": []
  },
  {
   "cell_type": "code",
   "execution_count": null,
   "id": "b174bbfe-4bdb-48e7-aa1d-c4b32473ff69",
   "metadata": {},
   "outputs": [],
   "source": []
  },
  {
   "cell_type": "code",
   "execution_count": null,
   "id": "f6e9fa0f-a023-4822-97b7-e1d40be72f4f",
   "metadata": {},
   "outputs": [],
   "source": []
  },
  {
   "cell_type": "code",
   "execution_count": null,
   "id": "ec87946a-1aed-4681-8d3f-d3629a838f90",
   "metadata": {},
   "outputs": [],
   "source": []
  },
  {
   "cell_type": "code",
   "execution_count": null,
   "id": "bc05eb85-8df4-4cec-8b86-60c4595fe6d9",
   "metadata": {},
   "outputs": [],
   "source": []
  },
  {
   "cell_type": "code",
   "execution_count": null,
   "id": "f8f30a94-97e0-4aa1-a0c5-a4124a3c3f1b",
   "metadata": {},
   "outputs": [],
   "source": []
  }
 ],
 "metadata": {
  "kernelspec": {
   "display_name": "Python 3 (ipykernel)",
   "language": "python",
   "name": "python3"
  },
  "language_info": {
   "codemirror_mode": {
    "name": "ipython",
    "version": 3
   },
   "file_extension": ".py",
   "mimetype": "text/x-python",
   "name": "python",
   "nbconvert_exporter": "python",
   "pygments_lexer": "ipython3",
   "version": "3.9.7"
  }
 },
 "nbformat": 4,
 "nbformat_minor": 5
}
