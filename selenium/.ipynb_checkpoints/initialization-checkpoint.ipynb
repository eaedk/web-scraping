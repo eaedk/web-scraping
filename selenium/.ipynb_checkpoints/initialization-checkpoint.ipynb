{
 "cells": [
  {
   "cell_type": "markdown",
   "id": "ffb0f2b8-c640-479a-aa16-0a55c7238c22",
   "metadata": {},
   "source": [
    "[Official Doc](https://selenium-python.readthedocs.io/installation.html#installing-python-bindings-for-seleniumhttps://selenium-python.readthedocs.io/installation.html#installing-python-bindings-for-selenium)"
   ]
  },
  {
   "cell_type": "code",
   "execution_count": 5,
   "id": "a9d5456c-5753-4a9c-a4ba-af0a9e31a98a",
   "metadata": {},
   "outputs": [],
   "source": [
    "# install the package locally\n",
    "!pip install -q selenium webdriver-manager\n",
    "#Then test if everything works perfectly"
   ]
  },
  {
   "cell_type": "code",
   "execution_count": 3,
   "id": "3ae6257c-bdd1-4034-9f35-19a579667833",
   "metadata": {},
   "outputs": [
    {
     "name": "stdout",
     "output_type": "stream",
     "text": [
      "\n"
     ]
    },
    {
     "name": "stderr",
     "output_type": "stream",
     "text": [
      "[WDM] - ====== WebDriver manager ======\n",
      "[WDM] - Current google-chrome version is 102.0.5005\n",
      "[WDM] - Get LATEST chromedriver version for 102.0.5005 google-chrome\n",
      "[WDM] - Driver [C:\\Users\\emman\\.wdm\\drivers\\chromedriver\\win32\\102.0.5005.61\\chromedriver.exe] found in cache\n"
     ]
    }
   ],
   "source": [
    "from selenium import webdriver\n",
    "from selenium.webdriver.chrome.service import Service\n",
    "from webdriver_manager.chrome import ChromeDriverManager\n",
    "\n",
    "driver = webdriver.Chrome(service=Service(ChromeDriverManager().install()))\n",
    "driver.get(\"https://www.google.com\")\n",
    "driver.close()\n",
    "#it works let get started"
   ]
  }
 ],
 "metadata": {
  "kernelspec": {
   "display_name": "Python 3 (ipykernel)",
   "language": "python",
   "name": "python3"
  },
  "language_info": {
   "codemirror_mode": {
    "name": "ipython",
    "version": 3
   },
   "file_extension": ".py",
   "mimetype": "text/x-python",
   "name": "python",
   "nbconvert_exporter": "python",
   "pygments_lexer": "ipython3",
   "version": "3.9.7"
  }
 },
 "nbformat": 4,
 "nbformat_minor": 5
}
