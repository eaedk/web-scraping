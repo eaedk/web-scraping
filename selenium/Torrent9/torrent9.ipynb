{
 "cells": [
  {
   "cell_type": "code",
   "execution_count": 1,
   "id": "d3088a3b-c8d1-4182-99f3-514c5d6c43b2",
   "metadata": {},
   "outputs": [],
   "source": [
    "from selenium import webdriver\n",
    "from selenium.webdriver.support.ui import WebDriverWait\n",
    "from selenium.webdriver.chrome.service import Service\n",
    "from webdriver_manager.chrome import ChromeDriverManager\n",
    "from selenium.webdriver.chrome.options import Options\n",
    "from selenium.webdriver.common.by import By\n",
    "from selenium.webdriver.support import expected_conditions as EC\n",
    "import pandas as pd\n",
    "from difflib import SequenceMatcher\n",
    "import os\n",
    "# !pip install -q tqdm\n",
    "from tqdm.notebook import tqdm"
   ]
  },
  {
   "cell_type": "code",
   "execution_count": 2,
   "id": "ee2841e0-7d52-45a5-99f7-7cb6db48c4ba",
   "metadata": {},
   "outputs": [
    {
     "name": "stdout",
     "output_type": "stream",
     "text": [
      "\n"
     ]
    },
    {
     "name": "stderr",
     "output_type": "stream",
     "text": [
      "[WDM] - ====== WebDriver manager ======\n",
      "[WDM] - Current google-chrome version is 102.0.5005\n",
      "[WDM] - Get LATEST chromedriver version for 102.0.5005 google-chrome\n",
      "[WDM] - Driver [C:\\Users\\emman\\.wdm\\drivers\\chromedriver\\win32\\102.0.5005.61\\chromedriver.exe] found in cache\n"
     ]
    }
   ],
   "source": [
    "driver_options = Options()\n",
    "driver_options.add_argument(\"accept-language=en-US\")\n",
    "\n",
    "s=Service(ChromeDriverManager().install())\n",
    "driver = webdriver.Chrome(service=s,options=driver_options)\n",
    "driver.maximize_window()"
   ]
  },
  {
   "cell_type": "code",
   "execution_count": 3,
   "id": "a47b4ed6-15cb-4395-a519-8b298ad551cb",
   "metadata": {},
   "outputs": [],
   "source": [
    "INITIAL_WEBSITE = \"https://torrent9.to/\"\n",
    "data = {}"
   ]
  },
  {
   "cell_type": "code",
   "execution_count": 4,
   "id": "16c37fe6-55f1-4dc7-af36-c9f7837b1a66",
   "metadata": {},
   "outputs": [],
   "source": [
    "# driver.find_element(By.CLASS_NAME, 'nav navbar-nav')#.click()\n",
    "# element = driver.find_element(by=By.CLASS_NAME, value=\"header-top\")"
   ]
  },
  {
   "cell_type": "code",
   "execution_count": 5,
   "id": "671ac5e9-3de5-4e6e-8fbc-b6b0f4b6e580",
   "metadata": {},
   "outputs": [],
   "source": [
    "driver.get(INITIAL_WEBSITE)"
   ]
  },
  {
   "cell_type": "code",
   "execution_count": 6,
   "id": "02261f6d-4737-4fe3-9fa1-3bfce1241e47",
   "metadata": {},
   "outputs": [
    {
     "data": {
      "text/plain": [
       "[]"
      ]
     },
     "execution_count": 6,
     "metadata": {},
     "output_type": "execute_result"
    }
   ],
   "source": [
    "[cb.click() for cb in driver.find_elements(by=By.CSS_SELECTOR, value=\"dic.checkbox\")]\n",
    "[cb.click() for cb in driver.find_elements(by=By.CSS_SELECTOR, value=\"div.captcha\")]"
   ]
  },
  {
   "cell_type": "code",
   "execution_count": 7,
   "id": "155e6041-bc5e-40d8-843f-38731bc6f045",
   "metadata": {},
   "outputs": [
    {
     "data": {
      "application/vnd.jupyter.widget-view+json": {
       "model_id": "9b7e2c242950436e9c019991eb34f865",
       "version_major": 2,
       "version_minor": 0
      },
      "text/plain": [
       "0it [00:00, ?it/s]"
      ]
     },
     "metadata": {},
     "output_type": "display_data"
    }
   ],
   "source": [
    "header = driver.find_elements(by=By.CSS_SELECTOR, value=\"#bs-example-navbar-collapse-1 > ul a\")\n",
    "\n",
    "categories = header[:-1]\n",
    "categories = {i.text: i.get_attribute('href') for i in categories}\n",
    "\n",
    "\n",
    "for (category, link) in (pbar :=tqdm(categories.items())):\n",
    "    # print(f\"category {category} -- link: {link}\")\n",
    "    pbar.set_description(\"Processing category : %s\" % category)\n",
    "    next_page_link = link\n",
    "    \n",
    "    actual_page = 1\n",
    "    is_first_page = True\n",
    "    is_last_page_scraped = False\n",
    "    list_of_tables = []\n",
    "    \n",
    "    while not is_last_page_scraped:\n",
    "        driver.get(next_page_link)\n",
    "        # first page processing\n",
    "        if is_first_page:\n",
    "            # print(f\"first page processing\")\n",
    "            try:\n",
    "                second_page_link = driver.find_element(by=By.CSS_SELECTOR, value=\"#pagination-mian > nav > ul > li:nth-child(2) > a\").get_attribute('href')\n",
    "                last_page_btn = driver.find_element(by=By.CSS_SELECTOR, value=\"#pagination-mian > nav > ul > li:last-child > a\")\n",
    "                last_page_link, n_pages = last_page_btn.get_attribute('href'), int(last_page_btn.text)\n",
    "                match = SequenceMatcher(None, second_page_link, last_page_link).find_longest_match()\n",
    "                base_link = second_page_link[match.a:match.a + match.size]\n",
    "            except:\n",
    "                n_pages = 1\n",
    "            pbar_ = tqdm(total=n_pages, leave=False) # Progress bar of this category\n",
    "            is_first_page = False # change the boolean to no more do the processing for the next pages\n",
    "        # scrape content\n",
    "        pbar_.set_description(\"Scraping page %s\" % actual_page)\n",
    "        # print(\"Scraping in processing\")\n",
    "        table = driver.find_element(by=By.CSS_SELECTOR, value=\"body > section > div > div > div > div > div.row.cus-row > div.col-sm-12.cus-col.content-left-col > div.left-tab-section > div.table-responsive \")\n",
    "        df = pd.read_html(table.get_attribute('innerHTML'))[0]\n",
    "        a_tags = table.find_elements(by=By.CSS_SELECTOR, value=\"div.table-responsive > table > tbody > tr > td > a\")\n",
    "        links = [a.get_attribute('href') for a in a_tags]\n",
    "        df = pd.read_html(table.get_attribute('innerHTML'))[0]\n",
    "        df[\"link\"] = links\n",
    "        # df.insert(-1, \"link\", links )\n",
    "        list_of_tables.append(df)\n",
    "\n",
    "\n",
    "        # list_of_tables = []\n",
    "\n",
    "        # checking\n",
    "        if actual_page == n_pages :\n",
    "            is_last_page_scraped = True\n",
    "            # print(\"Last page scraped\")\n",
    "        else:\n",
    "            # prepare to move to the next page\n",
    "            actual_page += 1\n",
    "            next_page_link = base_link+ f\"{actual_page}\"\n",
    "            # print(f\"Let's go to the page '{actual_page}' : {next_page_link}\")\n",
    "        pbar_.update(1)\n",
    "\n",
    "        # print('')\n",
    "        # break\n",
    "    table_stack = pd.concat(list_of_tables, axis=0)\n",
    "    n_items = table_stack.shape[0]\n",
    "    table_stack.to_csv(os.path.join(\"data\", f\"{category}.csv\"), index=False)\n",
    "    del table_stack\n",
    "    del list_of_tables\n",
    "    pbar_.close()\n",
    "    # break\n",
    "    \n",
    "    "
   ]
  },
  {
   "cell_type": "code",
   "execution_count": null,
   "id": "168c242c-10f5-4ae6-ba7e-2700213c5daa",
   "metadata": {},
   "outputs": [],
   "source": []
  },
  {
   "cell_type": "code",
   "execution_count": 7,
   "id": "59c91793-28b6-4edb-b209-8da9a6d700a5",
   "metadata": {},
   "outputs": [],
   "source": [
    "# driver.get(INITIAL_WEBSITE)\n",
    "# header = driver.find_elements(by=By.CSS_SELECTOR, value=\"#bs-example-navbar-collapse-1 > ul a\")\n",
    "\n",
    "# for category in header:\n",
    "#     print(f\"category {category.text} -- link: {category.get_attribute('href')}\")\n",
    "\n",
    "#     # go to a page from navbar\n",
    "#     driver.get(category.get_attribute('href'))\n",
    "#     last_page = False\n",
    "#     list_of_tables = []\n",
    "\n",
    "#     while not last_page:\n",
    "#         table = driver.find_element(by=By.CSS_SELECTOR, value=\"body > section > div > div > div > div > div.row.cus-row > div.col-sm-12.cus-col.content-left-col > div.left-tab-section > div.table-responsive \")\n",
    "#         df = pd.read_html(table.get_attribute('innerHTML'))[0]\n",
    "#         a_tags = table.find_elements(by=By.CSS_SELECTOR, value=\"div.table-responsive > table > tbody > tr > td > a\")\n",
    "#         links = [a.get_attribute('href') for a in a_tags]\n",
    "#         df = pd.read_html(table.get_attribute('innerHTML'))[0]\n",
    "#         df[\"link\"] = links\n",
    "#         # df.insert(-1, \"link\", links )\n",
    "#         list_of_tables.append(df)\n",
    "\n",
    "#         page_bar = driver.find_element(by=By.CSS_SELECTOR, value=\"#pagination-mian > nav > ul\")\n",
    "#         pages = page_bar.find_elements(by=By.CSS_SELECTOR, value=\"li > a\")\n",
    "#         try:\n",
    "#             next_page = page_bar.find_element(by=By.CSS_SELECTOR, value=\"li.active + li\").find_element(by=By.CSS_SELECTOR, value=\"a\")\n",
    "#             next_page.click()\n",
    "#         except:\n",
    "#             # print(\"Last page\")\n",
    "#             last_page = True\n",
    "\n",
    "#         # break\n",
    "\n",
    "#     table_stack = pd.concat(list_of_tables, axis=0)\n",
    "#     n_items = table_stack.shape[0]\n",
    "#     # n_pages = int(page_bar.find_element(by=By.CSS_SELECTOR, value=\"li.active\").find_element(by=By.CSS_SELECTOR, value=\"a\").text)\n",
    "#     data[category] = {'n_items': n_items, 'df': table_stack, }\n",
    "#     # break"
   ]
  },
  {
   "cell_type": "code",
   "execution_count": 8,
   "id": "f5c191ce-8544-4df1-bfb9-853af7713cbe",
   "metadata": {},
   "outputs": [
    {
     "ename": "NameError",
     "evalue": "name 'table_stack' is not defined",
     "output_type": "error",
     "traceback": [
      "\u001b[1;31m---------------------------------------------------------------------------\u001b[0m",
      "\u001b[1;31mNameError\u001b[0m                                 Traceback (most recent call last)",
      "\u001b[1;32m~\\AppData\\Local\\Temp/ipykernel_568/986983312.py\u001b[0m in \u001b[0;36m<module>\u001b[1;34m\u001b[0m\n\u001b[1;32m----> 1\u001b[1;33m \u001b[0mtable_stack\u001b[0m\u001b[1;33m.\u001b[0m\u001b[0mhead\u001b[0m\u001b[1;33m(\u001b[0m\u001b[1;33m)\u001b[0m\u001b[1;33m\u001b[0m\u001b[1;33m\u001b[0m\u001b[0m\n\u001b[0m",
      "\u001b[1;31mNameError\u001b[0m: name 'table_stack' is not defined"
     ]
    }
   ],
   "source": [
    "table_stack.head()"
   ]
  },
  {
   "cell_type": "code",
   "execution_count": 24,
   "id": "3d609544-082d-4239-b8b6-8bae61299fba",
   "metadata": {},
   "outputs": [
    {
     "data": {
      "text/plain": [
       "(450, 6)"
      ]
     },
     "execution_count": 24,
     "metadata": {},
     "output_type": "execute_result"
    }
   ],
   "source": [
    "table_stack.shape"
   ]
  }
 ],
 "metadata": {
  "kernelspec": {
   "display_name": "Python 3 (ipykernel)",
   "language": "python",
   "name": "python3"
  },
  "language_info": {
   "codemirror_mode": {
    "name": "ipython",
    "version": 3
   },
   "file_extension": ".py",
   "mimetype": "text/x-python",
   "name": "python",
   "nbconvert_exporter": "python",
   "pygments_lexer": "ipython3",
   "version": "3.9.7"
  }
 },
 "nbformat": 4,
 "nbformat_minor": 5
}
