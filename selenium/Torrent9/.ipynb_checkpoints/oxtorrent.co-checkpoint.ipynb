{
 "cells": [
  {
   "cell_type": "code",
   "execution_count": 11,
   "id": "d3088a3b-c8d1-4182-99f3-514c5d6c43b2",
   "metadata": {},
   "outputs": [],
   "source": [
    "from selenium import webdriver\n",
    "from selenium.webdriver.support.ui import WebDriverWait\n",
    "from selenium.webdriver.chrome.service import Service\n",
    "from webdriver_manager.chrome import ChromeDriverManager\n",
    "from selenium.webdriver.chrome.options import Options\n",
    "from selenium.webdriver.common.by import By\n",
    "from selenium.webdriver.support import expected_conditions as EC\n",
    "import pandas as pd\n",
    "from difflib import SequenceMatcher\n",
    "import os\n",
    "# !pip install -q tqdm\n",
    "from tqdm.notebook import tqdm"
   ]
  },
  {
   "cell_type": "code",
   "execution_count": 12,
   "id": "ee2841e0-7d52-45a5-99f7-7cb6db48c4ba",
   "metadata": {},
   "outputs": [
    {
     "name": "stdout",
     "output_type": "stream",
     "text": [
      "\n"
     ]
    },
    {
     "name": "stderr",
     "output_type": "stream",
     "text": [
      "[WDM] - ====== WebDriver manager ======\n",
      "[WDM] - Current google-chrome version is 102.0.5005\n",
      "[WDM] - Get LATEST chromedriver version for 102.0.5005 google-chrome\n",
      "[WDM] - Driver [C:\\Users\\emman\\.wdm\\drivers\\chromedriver\\win32\\102.0.5005.61\\chromedriver.exe] found in cache\n"
     ]
    }
   ],
   "source": [
    "driver_options = Options()\n",
    "driver_options.add_argument(\"accept-language=en-US\")\n",
    "\n",
    "s=Service(ChromeDriverManager().install())\n",
    "driver = webdriver.Chrome(service=s,options=driver_options)\n",
    "driver.maximize_window()"
   ]
  },
  {
   "cell_type": "code",
   "execution_count": 18,
   "id": "a47b4ed6-15cb-4395-a519-8b298ad551cb",
   "metadata": {},
   "outputs": [],
   "source": [
    "INITIAL_WEBSITE = \"https://oxtorrent.co\""
   ]
  },
  {
   "cell_type": "code",
   "execution_count": 20,
   "id": "671ac5e9-3de5-4e6e-8fbc-b6b0f4b6e580",
   "metadata": {},
   "outputs": [],
   "source": [
    "driver.get(INITIAL_WEBSITE)"
   ]
  },
  {
   "cell_type": "code",
   "execution_count": 16,
   "id": "02261f6d-4737-4fe3-9fa1-3bfce1241e47",
   "metadata": {},
   "outputs": [
    {
     "data": {
      "text/plain": [
       "[]"
      ]
     },
     "execution_count": 16,
     "metadata": {},
     "output_type": "execute_result"
    }
   ],
   "source": [
    "[cb.click() for cb in driver.find_elements(by=By.CSS_SELECTOR, value=\"dic.checkbox\")]\n",
    "[cb.click() for cb in driver.find_elements(by=By.CSS_SELECTOR, value=\"div.captcha\")]"
   ]
  },
  {
   "cell_type": "code",
   "execution_count": 46,
   "id": "b80309d4-e221-4ad6-b030-8c915d1bb158",
   "metadata": {},
   "outputs": [
    {
     "data": {
      "application/vnd.jupyter.widget-view+json": {
       "model_id": "41ab820c0ff943c7a9539988d5ffd2a7",
       "version_major": 2,
       "version_minor": 0
      },
      "text/plain": [
       "  0%|          | 0/8 [00:00<?, ?it/s]"
      ]
     },
     "metadata": {},
     "output_type": "display_data"
    },
    {
     "data": {
      "application/vnd.jupyter.widget-view+json": {
       "model_id": "5cb79861487045c6b9a3da50a15d79ba",
       "version_major": 2,
       "version_minor": 0
      },
      "text/plain": [
       "  0%|          | 0/574 [00:00<?, ?it/s]"
      ]
     },
     "metadata": {},
     "output_type": "display_data"
    },
    {
     "data": {
      "application/vnd.jupyter.widget-view+json": {
       "model_id": "375ed345076746ffb22cbc41b4eef9d9",
       "version_major": 2,
       "version_minor": 0
      },
      "text/plain": [
       "  0%|          | 0/1036 [00:00<?, ?it/s]"
      ]
     },
     "metadata": {},
     "output_type": "display_data"
    },
    {
     "data": {
      "application/vnd.jupyter.widget-view+json": {
       "model_id": "b631a2e58839440b97cb5309cc52994d",
       "version_major": 2,
       "version_minor": 0
      },
      "text/plain": [
       "  0%|          | 0/86 [00:00<?, ?it/s]"
      ]
     },
     "metadata": {},
     "output_type": "display_data"
    },
    {
     "data": {
      "application/vnd.jupyter.widget-view+json": {
       "model_id": "d614d3ec0da14837bfd4ae07e4a1ae82",
       "version_major": 2,
       "version_minor": 0
      },
      "text/plain": [
       "  0%|          | 0/60 [00:00<?, ?it/s]"
      ]
     },
     "metadata": {},
     "output_type": "display_data"
    },
    {
     "data": {
      "application/vnd.jupyter.widget-view+json": {
       "model_id": "805ab1019e324d39b74421afc03a9602",
       "version_major": 2,
       "version_minor": 0
      },
      "text/plain": [
       "  0%|          | 0/26 [00:00<?, ?it/s]"
      ]
     },
     "metadata": {},
     "output_type": "display_data"
    },
    {
     "data": {
      "application/vnd.jupyter.widget-view+json": {
       "model_id": "a20e9ee6fd134202b0e613bcb42c4a37",
       "version_major": 2,
       "version_minor": 0
      },
      "text/plain": [
       "  0%|          | 0/24 [00:00<?, ?it/s]"
      ]
     },
     "metadata": {},
     "output_type": "display_data"
    },
    {
     "data": {
      "application/vnd.jupyter.widget-view+json": {
       "model_id": "7795af33c92b45a79607ed340ca9b706",
       "version_major": 2,
       "version_minor": 0
      },
      "text/plain": [
       "  0%|          | 0/25 [00:00<?, ?it/s]"
      ]
     },
     "metadata": {},
     "output_type": "display_data"
    },
    {
     "data": {
      "application/vnd.jupyter.widget-view+json": {
       "model_id": "",
       "version_major": 2,
       "version_minor": 0
      },
      "text/plain": [
       "  0%|          | 0/1 [00:00<?, ?it/s]"
      ]
     },
     "metadata": {},
     "output_type": "display_data"
    }
   ],
   "source": [
    "header = driver.find_elements(by=By.CSS_SELECTOR, value=\"ul.arbo a\")\n",
    "\n",
    "categories = header[1:]\n",
    "categories = {i.text: i.get_attribute('href') for i in categories}\n",
    "\n",
    "\n",
    "for (category, link) in (pbar :=tqdm(categories.items())):\n",
    "    # print(f\"category {category} -- link: {link}\")\n",
    "    pbar.set_description(\"Processing category : %s\" % category)\n",
    "    next_page_link = link\n",
    "    \n",
    "    actual_page = 1\n",
    "    is_first_page = True\n",
    "    is_last_page_scraped = False\n",
    "    list_of_tables = []\n",
    "    \n",
    "    while not is_last_page_scraped:\n",
    "        driver.get(next_page_link)\n",
    "        # first page processing\n",
    "        if is_first_page:\n",
    "            # print(f\"first page processing\")\n",
    "            try:\n",
    "                second_page_link = driver.find_element(by=By.CSS_SELECTOR, value=\"#contenu > div > div.main-wrap > ul > li:nth-child(2) > a\").get_attribute('href')\n",
    "                last_page_btn = driver.find_element(by=By.CSS_SELECTOR, value=\"#contenu > div > div.main-wrap > ul > li:last-child > a\")\n",
    "                last_page_link, n_pages = last_page_btn.get_attribute('href'), int(last_page_btn.text)\n",
    "                match = SequenceMatcher(None, second_page_link, last_page_link).find_longest_match()\n",
    "                base_link = second_page_link[match.a:match.a + match.size]\n",
    "            except:\n",
    "                n_pages = 1\n",
    "            pbar_ = tqdm(total=n_pages, leave=False) # Progress bar of this category\n",
    "            is_first_page = False # change the boolean to no more do the processing for the next pages\n",
    "        # scrape content\n",
    "        pbar_.set_description(\"Scraping page %s\" % actual_page)\n",
    "        # print(\"Scraping in processing\")\n",
    "        table = driver.find_element(by=By.CSS_SELECTOR, value=\"#contenu > div > div.main-wrap \")\n",
    "        a_tags = table.find_elements(by=By.CSS_SELECTOR, value=\"table > tbody > tr > td > a\")\n",
    "        links = [a.get_attribute('href') for a in a_tags]\n",
    "        columns=['torrent name', 'size', 'Seed', 'Leech' ]\n",
    "        df = pd.read_html(table.get_attribute('innerHTML'), )[0]\n",
    "        df.rename(columns={ df.columns.to_list()[i] : columns[i]for i in range(len(df.columns) )}, inplace=True)\n",
    "        df[\"link\"] = links\n",
    "        list_of_tables.append(df)\n",
    "\n",
    "        # checking\n",
    "        if actual_page == n_pages :\n",
    "            is_last_page_scraped = True\n",
    "            # print(\"Last page scraped\")\n",
    "        else:\n",
    "            # prepare to move to the next page\n",
    "            actual_page += 1\n",
    "            next_page_link = base_link+ f\"{actual_page}\"\n",
    "            # print(f\"Let's go to the page '{actual_page}' : {next_page_link}\")\n",
    "        pbar_.update(1)\n",
    "        # print('')\n",
    "        # break\n",
    "    table_stack = pd.concat(list_of_tables, axis=0)\n",
    "    n_items = table_stack.shape[0]\n",
    "    table_stack.to_csv(os.path.join(\"data\", f\"{category}.csv\"), index=False)\n",
    "    del table_stack\n",
    "    del list_of_tables\n",
    "    pbar_.close()\n",
    "    # break\n",
    "    \n",
    "    "
   ]
  },
  {
   "cell_type": "code",
   "execution_count": 47,
   "id": "f5c191ce-8544-4df1-bfb9-853af7713cbe",
   "metadata": {},
   "outputs": [
    {
     "data": {
      "text/html": [
       "<div>\n",
       "<style scoped>\n",
       "    .dataframe tbody tr th:only-of-type {\n",
       "        vertical-align: middle;\n",
       "    }\n",
       "\n",
       "    .dataframe tbody tr th {\n",
       "        vertical-align: top;\n",
       "    }\n",
       "\n",
       "    .dataframe thead th {\n",
       "        text-align: right;\n",
       "    }\n",
       "</style>\n",
       "<table border=\"1\" class=\"dataframe\">\n",
       "  <thead>\n",
       "    <tr style=\"text-align: right;\">\n",
       "      <th></th>\n",
       "      <th>torrent name</th>\n",
       "      <th>size</th>\n",
       "      <th>Seed</th>\n",
       "      <th>Leech</th>\n",
       "      <th>link</th>\n",
       "    </tr>\n",
       "  </thead>\n",
       "  <tbody>\n",
       "    <tr>\n",
       "      <th>0</th>\n",
       "      <td>One Shot FRENCH DVDRIP 2022</td>\n",
       "      <td>695.3 MB</td>\n",
       "      <td>124</td>\n",
       "      <td>316</td>\n",
       "      <td>https://www.oxtorrent.co/torrent/87182/one-sho...</td>\n",
       "    </tr>\n",
       "    <tr>\n",
       "      <th>1</th>\n",
       "      <td>Uncharted FRENCH DVDRIP 2022</td>\n",
       "      <td>692.2 MB</td>\n",
       "      <td>2083</td>\n",
       "      <td>954</td>\n",
       "      <td>https://www.oxtorrent.co/torrent/90367/unchart...</td>\n",
       "    </tr>\n",
       "    <tr>\n",
       "      <th>2</th>\n",
       "      <td>Spider-Man: No Way Home FRENCH DVDRIP 2021</td>\n",
       "      <td>1.4 GB</td>\n",
       "      <td>2003</td>\n",
       "      <td>364</td>\n",
       "      <td>https://www.oxtorrent.co/torrent/89219/spider-...</td>\n",
       "    </tr>\n",
       "    <tr>\n",
       "      <th>3</th>\n",
       "      <td>Uncharted TRUEFRENCH WEBRIP 2022</td>\n",
       "      <td>693.8 MB</td>\n",
       "      <td>1931</td>\n",
       "      <td>250</td>\n",
       "      <td>https://www.oxtorrent.co/torrent/90324/unchart...</td>\n",
       "    </tr>\n",
       "    <tr>\n",
       "      <th>4</th>\n",
       "      <td>The Batman TRUEFRENCH WEBRIP 2022</td>\n",
       "      <td>1.4 GB</td>\n",
       "      <td>1805</td>\n",
       "      <td>364</td>\n",
       "      <td>https://www.oxtorrent.co/torrent/90197/the-bat...</td>\n",
       "    </tr>\n",
       "  </tbody>\n",
       "</table>\n",
       "</div>"
      ],
      "text/plain": [
       "                                 torrent name      size  Seed  Leech  \\\n",
       "0                 One Shot FRENCH DVDRIP 2022  695.3 MB   124    316   \n",
       "1                Uncharted FRENCH DVDRIP 2022  692.2 MB  2083    954   \n",
       "2  Spider-Man: No Way Home FRENCH DVDRIP 2021    1.4 GB  2003    364   \n",
       "3            Uncharted TRUEFRENCH WEBRIP 2022  693.8 MB  1931    250   \n",
       "4           The Batman TRUEFRENCH WEBRIP 2022    1.4 GB  1805    364   \n",
       "\n",
       "                                                link  \n",
       "0  https://www.oxtorrent.co/torrent/87182/one-sho...  \n",
       "1  https://www.oxtorrent.co/torrent/90367/unchart...  \n",
       "2  https://www.oxtorrent.co/torrent/89219/spider-...  \n",
       "3  https://www.oxtorrent.co/torrent/90324/unchart...  \n",
       "4  https://www.oxtorrent.co/torrent/90197/the-bat...  "
      ]
     },
     "execution_count": 47,
     "metadata": {},
     "output_type": "execute_result"
    }
   ],
   "source": [
    "df.head()"
   ]
  },
  {
   "cell_type": "code",
   "execution_count": 48,
   "id": "3d609544-082d-4239-b8b6-8bae61299fba",
   "metadata": {},
   "outputs": [
    {
     "data": {
      "text/plain": [
       "(45, 5)"
      ]
     },
     "execution_count": 48,
     "metadata": {},
     "output_type": "execute_result"
    }
   ],
   "source": [
    "df.shape"
   ]
  },
  {
   "cell_type": "code",
   "execution_count": null,
   "id": "08f6bc53-9108-4f6b-9313-6503a44b223c",
   "metadata": {},
   "outputs": [],
   "source": []
  }
 ],
 "metadata": {
  "kernelspec": {
   "display_name": "Python 3 (ipykernel)",
   "language": "python",
   "name": "python3"
  },
  "language_info": {
   "codemirror_mode": {
    "name": "ipython",
    "version": 3
   },
   "file_extension": ".py",
   "mimetype": "text/x-python",
   "name": "python",
   "nbconvert_exporter": "python",
   "pygments_lexer": "ipython3",
   "version": "3.9.7"
  }
 },
 "nbformat": 4,
 "nbformat_minor": 5
}
