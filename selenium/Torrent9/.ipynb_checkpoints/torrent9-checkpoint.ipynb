{
 "cells": [
  {
   "cell_type": "code",
   "execution_count": 1,
   "id": "d3088a3b-c8d1-4182-99f3-514c5d6c43b2",
   "metadata": {},
   "outputs": [],
   "source": [
    "from selenium import webdriver\n",
    "from selenium.webdriver.support.ui import WebDriverWait\n",
    "from selenium.webdriver.chrome.service import Service\n",
    "from webdriver_manager.chrome import ChromeDriverManager\n",
    "from selenium.webdriver.chrome.options import Options\n",
    "from selenium.webdriver.common.by import By\n",
    "from selenium.webdriver.support import expected_conditions as EC\n",
    "import pandas as pd\n",
    "from difflib import SequenceMatcher\n",
    "import os\n",
    "# !pip install -q tqdm\n",
    "from tqdm.notebook import tqdm"
   ]
  },
  {
   "cell_type": "code",
   "execution_count": 2,
   "id": "ee2841e0-7d52-45a5-99f7-7cb6db48c4ba",
   "metadata": {},
   "outputs": [
    {
     "name": "stdout",
     "output_type": "stream",
     "text": [
      "\n"
     ]
    },
    {
     "name": "stderr",
     "output_type": "stream",
     "text": [
      "[WDM] - ====== WebDriver manager ======\n",
      "[WDM] - Current google-chrome version is 102.0.5005\n",
      "[WDM] - Get LATEST chromedriver version for 102.0.5005 google-chrome\n",
      "[WDM] - Driver [C:\\Users\\emman\\.wdm\\drivers\\chromedriver\\win32\\102.0.5005.61\\chromedriver.exe] found in cache\n"
     ]
    }
   ],
   "source": [
    "driver_options = Options()\n",
    "driver_options.add_argument(\"accept-language=en-US\")\n",
    "\n",
    "s=Service(ChromeDriverManager().install())\n",
    "driver = webdriver.Chrome(service=s,options=driver_options)\n",
    "driver.maximize_window()"
   ]
  },
  {
   "cell_type": "code",
   "execution_count": 3,
   "id": "a47b4ed6-15cb-4395-a519-8b298ad551cb",
   "metadata": {},
   "outputs": [],
   "source": [
    "INITIAL_WEBSITE = \"https://torrent9.re/\"# \"https://torrent9.to/\"\n",
    "data = {}"
   ]
  },
  {
   "cell_type": "code",
   "execution_count": 4,
   "id": "16c37fe6-55f1-4dc7-af36-c9f7837b1a66",
   "metadata": {},
   "outputs": [],
   "source": [
    "# driver.find_element(By.CLASS_NAME, 'nav navbar-nav')#.click()\n",
    "# element = driver.find_element(by=By.CLASS_NAME, value=\"header-top\")"
   ]
  },
  {
   "cell_type": "code",
   "execution_count": null,
   "id": "671ac5e9-3de5-4e6e-8fbc-b6b0f4b6e580",
   "metadata": {},
   "outputs": [],
   "source": [
    "driver.get(INITIAL_WEBSITE)"
   ]
  },
  {
   "cell_type": "code",
   "execution_count": null,
   "id": "02261f6d-4737-4fe3-9fa1-3bfce1241e47",
   "metadata": {},
   "outputs": [
    {
     "data": {
      "text/plain": [
       "[]"
      ]
     },
     "execution_count": 6,
     "metadata": {},
     "output_type": "execute_result"
    }
   ],
   "source": [
    "[cb.click() for cb in driver.find_elements(by=By.CSS_SELECTOR, value=\"dic.checkbox\")]\n",
    "[cb.click() for cb in driver.find_elements(by=By.CSS_SELECTOR, value=\"div.captcha\")]"
   ]
  },
  {
   "cell_type": "code",
   "execution_count": null,
   "id": "155e6041-bc5e-40d8-843f-38731bc6f045",
   "metadata": {},
   "outputs": [
    {
     "data": {
      "application/vnd.jupyter.widget-view+json": {
       "model_id": "7d22511b986b48bdaa321b54a679c768",
       "version_major": 2,
       "version_minor": 0
      },
      "text/plain": [
       "  0%|          | 0/8 [00:00<?, ?it/s]"
      ]
     },
     "metadata": {},
     "output_type": "display_data"
    },
    {
     "data": {
      "application/vnd.jupyter.widget-view+json": {
       "model_id": "72e796dbdabc4ff9afe32b64143ef747",
       "version_major": 2,
       "version_minor": 0
      },
      "text/plain": [
       "  0%|          | 0/1 [00:00<?, ?it/s]"
      ]
     },
     "metadata": {},
     "output_type": "display_data"
    },
    {
     "ename": "NoSuchElementException",
     "evalue": "Message: no such element: Unable to locate element: {\"method\":\"css selector\",\"selector\":\"body > section > div > div > div > div > div.row.cus-row > div.col-sm-12.cus-col.content-left-col > div.left-tab-section > div.table-responsive \"}\n  (Session info: chrome=102.0.5005.63)\nStacktrace:\nBacktrace:\n\tOrdinal0 [0x0087D953+2414931]\n\tOrdinal0 [0x0080F5E1+1963489]\n\tOrdinal0 [0x006FC6B8+837304]\n\tOrdinal0 [0x00729500+1021184]\n\tOrdinal0 [0x0072979B+1021851]\n\tOrdinal0 [0x00756502+1205506]\n\tOrdinal0 [0x007444E4+1131748]\n\tOrdinal0 [0x00754812+1198098]\n\tOrdinal0 [0x007442B6+1131190]\n\tOrdinal0 [0x0071E860+976992]\n\tOrdinal0 [0x0071F756+980822]\n\tGetHandleVerifier [0x00AECC62+2510274]\n\tGetHandleVerifier [0x00ADF760+2455744]\n\tGetHandleVerifier [0x0090EABA+551962]\n\tGetHandleVerifier [0x0090D916+547446]\n\tOrdinal0 [0x00815F3B+1990459]\n\tOrdinal0 [0x0081A898+2009240]\n\tOrdinal0 [0x0081A985+2009477]\n\tOrdinal0 [0x00823AD1+2046673]\n\tBaseThreadInitThunk [0x7666FA29+25]\n\tRtlGetAppContainerNamedObjectPath [0x77E87A9E+286]\n\tRtlGetAppContainerNamedObjectPath [0x77E87A6E+238]\n",
     "output_type": "error",
     "traceback": [
      "\u001b[1;31m---------------------------------------------------------------------------\u001b[0m",
      "\u001b[1;31mNoSuchElementException\u001b[0m                    Traceback (most recent call last)",
      "\u001b[1;32m~\\AppData\\Local\\Temp/ipykernel_3100/2548240532.py\u001b[0m in \u001b[0;36m<module>\u001b[1;34m\u001b[0m\n\u001b[0;32m     33\u001b[0m         \u001b[0mpbar_\u001b[0m\u001b[1;33m.\u001b[0m\u001b[0mset_description\u001b[0m\u001b[1;33m(\u001b[0m\u001b[1;34m\"Scraping page %s\"\u001b[0m \u001b[1;33m%\u001b[0m \u001b[0mactual_page\u001b[0m\u001b[1;33m)\u001b[0m\u001b[1;33m\u001b[0m\u001b[1;33m\u001b[0m\u001b[0m\n\u001b[0;32m     34\u001b[0m         \u001b[1;31m# print(\"Scraping in processing\")\u001b[0m\u001b[1;33m\u001b[0m\u001b[1;33m\u001b[0m\u001b[0m\n\u001b[1;32m---> 35\u001b[1;33m         \u001b[0mtable\u001b[0m \u001b[1;33m=\u001b[0m \u001b[0mdriver\u001b[0m\u001b[1;33m.\u001b[0m\u001b[0mfind_element\u001b[0m\u001b[1;33m(\u001b[0m\u001b[0mby\u001b[0m\u001b[1;33m=\u001b[0m\u001b[0mBy\u001b[0m\u001b[1;33m.\u001b[0m\u001b[0mCSS_SELECTOR\u001b[0m\u001b[1;33m,\u001b[0m \u001b[0mvalue\u001b[0m\u001b[1;33m=\u001b[0m\u001b[1;34m\"body > section > div > div > div > div > div.row.cus-row > div.col-sm-12.cus-col.content-left-col > div.left-tab-section > div.table-responsive \"\u001b[0m\u001b[1;33m)\u001b[0m\u001b[1;33m\u001b[0m\u001b[1;33m\u001b[0m\u001b[0m\n\u001b[0m\u001b[0;32m     36\u001b[0m         \u001b[0mdf\u001b[0m \u001b[1;33m=\u001b[0m \u001b[0mpd\u001b[0m\u001b[1;33m.\u001b[0m\u001b[0mread_html\u001b[0m\u001b[1;33m(\u001b[0m\u001b[0mtable\u001b[0m\u001b[1;33m.\u001b[0m\u001b[0mget_attribute\u001b[0m\u001b[1;33m(\u001b[0m\u001b[1;34m'innerHTML'\u001b[0m\u001b[1;33m)\u001b[0m\u001b[1;33m)\u001b[0m\u001b[1;33m[\u001b[0m\u001b[1;36m0\u001b[0m\u001b[1;33m]\u001b[0m\u001b[1;33m\u001b[0m\u001b[1;33m\u001b[0m\u001b[0m\n\u001b[0;32m     37\u001b[0m         \u001b[0ma_tags\u001b[0m \u001b[1;33m=\u001b[0m \u001b[0mtable\u001b[0m\u001b[1;33m.\u001b[0m\u001b[0mfind_elements\u001b[0m\u001b[1;33m(\u001b[0m\u001b[0mby\u001b[0m\u001b[1;33m=\u001b[0m\u001b[0mBy\u001b[0m\u001b[1;33m.\u001b[0m\u001b[0mCSS_SELECTOR\u001b[0m\u001b[1;33m,\u001b[0m \u001b[0mvalue\u001b[0m\u001b[1;33m=\u001b[0m\u001b[1;34m\"div.table-responsive > table > tbody > tr > td > a\"\u001b[0m\u001b[1;33m)\u001b[0m\u001b[1;33m\u001b[0m\u001b[1;33m\u001b[0m\u001b[0m\n",
      "\u001b[1;32m~\\anaconda3\\lib\\site-packages\\selenium\\webdriver\\remote\\webdriver.py\u001b[0m in \u001b[0;36mfind_element\u001b[1;34m(self, by, value)\u001b[0m\n\u001b[0;32m   1249\u001b[0m             \u001b[0mvalue\u001b[0m \u001b[1;33m=\u001b[0m \u001b[1;34m'[name=\"%s\"]'\u001b[0m \u001b[1;33m%\u001b[0m \u001b[0mvalue\u001b[0m\u001b[1;33m\u001b[0m\u001b[1;33m\u001b[0m\u001b[0m\n\u001b[0;32m   1250\u001b[0m \u001b[1;33m\u001b[0m\u001b[0m\n\u001b[1;32m-> 1251\u001b[1;33m         return self.execute(Command.FIND_ELEMENT, {\n\u001b[0m\u001b[0;32m   1252\u001b[0m             \u001b[1;34m'using'\u001b[0m\u001b[1;33m:\u001b[0m \u001b[0mby\u001b[0m\u001b[1;33m,\u001b[0m\u001b[1;33m\u001b[0m\u001b[1;33m\u001b[0m\u001b[0m\n\u001b[0;32m   1253\u001b[0m             'value': value})['value']\n",
      "\u001b[1;32m~\\anaconda3\\lib\\site-packages\\selenium\\webdriver\\remote\\webdriver.py\u001b[0m in \u001b[0;36mexecute\u001b[1;34m(self, driver_command, params)\u001b[0m\n\u001b[0;32m    428\u001b[0m         \u001b[0mresponse\u001b[0m \u001b[1;33m=\u001b[0m \u001b[0mself\u001b[0m\u001b[1;33m.\u001b[0m\u001b[0mcommand_executor\u001b[0m\u001b[1;33m.\u001b[0m\u001b[0mexecute\u001b[0m\u001b[1;33m(\u001b[0m\u001b[0mdriver_command\u001b[0m\u001b[1;33m,\u001b[0m \u001b[0mparams\u001b[0m\u001b[1;33m)\u001b[0m\u001b[1;33m\u001b[0m\u001b[1;33m\u001b[0m\u001b[0m\n\u001b[0;32m    429\u001b[0m         \u001b[1;32mif\u001b[0m \u001b[0mresponse\u001b[0m\u001b[1;33m:\u001b[0m\u001b[1;33m\u001b[0m\u001b[1;33m\u001b[0m\u001b[0m\n\u001b[1;32m--> 430\u001b[1;33m             \u001b[0mself\u001b[0m\u001b[1;33m.\u001b[0m\u001b[0merror_handler\u001b[0m\u001b[1;33m.\u001b[0m\u001b[0mcheck_response\u001b[0m\u001b[1;33m(\u001b[0m\u001b[0mresponse\u001b[0m\u001b[1;33m)\u001b[0m\u001b[1;33m\u001b[0m\u001b[1;33m\u001b[0m\u001b[0m\n\u001b[0m\u001b[0;32m    431\u001b[0m             response['value'] = self._unwrap_value(\n\u001b[0;32m    432\u001b[0m                 response.get('value', None))\n",
      "\u001b[1;32m~\\anaconda3\\lib\\site-packages\\selenium\\webdriver\\remote\\errorhandler.py\u001b[0m in \u001b[0;36mcheck_response\u001b[1;34m(self, response)\u001b[0m\n\u001b[0;32m    245\u001b[0m                 \u001b[0malert_text\u001b[0m \u001b[1;33m=\u001b[0m \u001b[0mvalue\u001b[0m\u001b[1;33m[\u001b[0m\u001b[1;34m'alert'\u001b[0m\u001b[1;33m]\u001b[0m\u001b[1;33m.\u001b[0m\u001b[0mget\u001b[0m\u001b[1;33m(\u001b[0m\u001b[1;34m'text'\u001b[0m\u001b[1;33m)\u001b[0m\u001b[1;33m\u001b[0m\u001b[1;33m\u001b[0m\u001b[0m\n\u001b[0;32m    246\u001b[0m             \u001b[1;32mraise\u001b[0m \u001b[0mexception_class\u001b[0m\u001b[1;33m(\u001b[0m\u001b[0mmessage\u001b[0m\u001b[1;33m,\u001b[0m \u001b[0mscreen\u001b[0m\u001b[1;33m,\u001b[0m \u001b[0mstacktrace\u001b[0m\u001b[1;33m,\u001b[0m \u001b[0malert_text\u001b[0m\u001b[1;33m)\u001b[0m  \u001b[1;31m# type: ignore[call-arg]  # mypy is not smart enough here\u001b[0m\u001b[1;33m\u001b[0m\u001b[1;33m\u001b[0m\u001b[0m\n\u001b[1;32m--> 247\u001b[1;33m         \u001b[1;32mraise\u001b[0m \u001b[0mexception_class\u001b[0m\u001b[1;33m(\u001b[0m\u001b[0mmessage\u001b[0m\u001b[1;33m,\u001b[0m \u001b[0mscreen\u001b[0m\u001b[1;33m,\u001b[0m \u001b[0mstacktrace\u001b[0m\u001b[1;33m)\u001b[0m\u001b[1;33m\u001b[0m\u001b[1;33m\u001b[0m\u001b[0m\n\u001b[0m\u001b[0;32m    248\u001b[0m \u001b[1;33m\u001b[0m\u001b[0m\n\u001b[0;32m    249\u001b[0m     \u001b[1;32mdef\u001b[0m \u001b[0m_value_or_default\u001b[0m\u001b[1;33m(\u001b[0m\u001b[0mself\u001b[0m\u001b[1;33m,\u001b[0m \u001b[0mobj\u001b[0m\u001b[1;33m:\u001b[0m \u001b[0mMapping\u001b[0m\u001b[1;33m[\u001b[0m\u001b[0m_KT\u001b[0m\u001b[1;33m,\u001b[0m \u001b[0m_VT\u001b[0m\u001b[1;33m]\u001b[0m\u001b[1;33m,\u001b[0m \u001b[0mkey\u001b[0m\u001b[1;33m:\u001b[0m \u001b[0m_KT\u001b[0m\u001b[1;33m,\u001b[0m \u001b[0mdefault\u001b[0m\u001b[1;33m:\u001b[0m \u001b[0m_VT\u001b[0m\u001b[1;33m)\u001b[0m \u001b[1;33m->\u001b[0m \u001b[0m_VT\u001b[0m\u001b[1;33m:\u001b[0m\u001b[1;33m\u001b[0m\u001b[1;33m\u001b[0m\u001b[0m\n",
      "\u001b[1;31mNoSuchElementException\u001b[0m: Message: no such element: Unable to locate element: {\"method\":\"css selector\",\"selector\":\"body > section > div > div > div > div > div.row.cus-row > div.col-sm-12.cus-col.content-left-col > div.left-tab-section > div.table-responsive \"}\n  (Session info: chrome=102.0.5005.63)\nStacktrace:\nBacktrace:\n\tOrdinal0 [0x0087D953+2414931]\n\tOrdinal0 [0x0080F5E1+1963489]\n\tOrdinal0 [0x006FC6B8+837304]\n\tOrdinal0 [0x00729500+1021184]\n\tOrdinal0 [0x0072979B+1021851]\n\tOrdinal0 [0x00756502+1205506]\n\tOrdinal0 [0x007444E4+1131748]\n\tOrdinal0 [0x00754812+1198098]\n\tOrdinal0 [0x007442B6+1131190]\n\tOrdinal0 [0x0071E860+976992]\n\tOrdinal0 [0x0071F756+980822]\n\tGetHandleVerifier [0x00AECC62+2510274]\n\tGetHandleVerifier [0x00ADF760+2455744]\n\tGetHandleVerifier [0x0090EABA+551962]\n\tGetHandleVerifier [0x0090D916+547446]\n\tOrdinal0 [0x00815F3B+1990459]\n\tOrdinal0 [0x0081A898+2009240]\n\tOrdinal0 [0x0081A985+2009477]\n\tOrdinal0 [0x00823AD1+2046673]\n\tBaseThreadInitThunk [0x7666FA29+25]\n\tRtlGetAppContainerNamedObjectPath [0x77E87A9E+286]\n\tRtlGetAppContainerNamedObjectPath [0x77E87A6E+238]\n"
     ]
    }
   ],
   "source": [
    "header = driver.find_elements(by=By.CSS_SELECTOR, value=\"#bs-example-navbar-collapse-1 > ul a\")\n",
    "\n",
    "categories = header[:-1]\n",
    "categories = {i.text: i.get_attribute('href') for i in categories}\n",
    "\n",
    "\n",
    "for (category, link) in (pbar :=tqdm(categories.items())):\n",
    "    # print(f\"category {category} -- link: {link}\")\n",
    "    pbar.set_description(\"Processing category : %s\" % category)\n",
    "    next_page_link = link\n",
    "    \n",
    "    actual_page = 1\n",
    "    is_first_page = True\n",
    "    is_last_page_scraped = False\n",
    "    list_of_tables = []\n",
    "    \n",
    "    while not is_last_page_scraped:\n",
    "        driver.get(next_page_link)\n",
    "        # first page processing\n",
    "        if is_first_page:\n",
    "            # print(f\"first page processing\")\n",
    "            try:\n",
    "                second_page_link = driver.find_element(by=By.CSS_SELECTOR, value=\"#pagination-mian > nav > ul > li:nth-child(2) > a\").get_attribute('href')\n",
    "                last_page_btn = driver.find_element(by=By.CSS_SELECTOR, value=\"#pagination-mian > nav > ul > li:last-child > a\")\n",
    "                last_page_link, n_pages = last_page_btn.get_attribute('href'), int(last_page_btn.text)\n",
    "                match = SequenceMatcher(None, second_page_link, last_page_link).find_longest_match()\n",
    "                base_link = second_page_link[match.a:match.a + match.size]\n",
    "            except:\n",
    "                n_pages = 1\n",
    "            pbar_ = tqdm(total=n_pages, leave=False) # Progress bar of this category\n",
    "            is_first_page = False # change the boolean to no more do the processing for the next pages\n",
    "        # scrape content\n",
    "        pbar_.set_description(\"Scraping page %s\" % actual_page)\n",
    "        # print(\"Scraping in processing\")\n",
    "        table = driver.find_element(by=By.CSS_SELECTOR, value=\"body > section > div > div > div > div > div.row.cus-row > div.col-sm-12.cus-col.content-left-col > div.left-tab-section > div.table-responsive \")\n",
    "        df = pd.read_html(table.get_attribute('innerHTML'))[0]\n",
    "        a_tags = table.find_elements(by=By.CSS_SELECTOR, value=\"div.table-responsive > table > tbody > tr > td > a\")\n",
    "        links = [a.get_attribute('href') for a in a_tags]\n",
    "        df = pd.read_html(table.get_attribute('innerHTML'))[0]\n",
    "        df[\"link\"] = links\n",
    "        list_of_tables.append(df)\n",
    "\n",
    "        # checking\n",
    "        if actual_page == n_pages :\n",
    "            is_last_page_scraped = True\n",
    "            # print(\"Last page scraped\")\n",
    "        else:\n",
    "            # prepare to move to the next page\n",
    "            actual_page += 1\n",
    "            next_page_link = base_link+ f\"{actual_page}\"\n",
    "            # print(f\"Let's go to the page '{actual_page}' : {next_page_link}\")\n",
    "        pbar_.update(1)\n",
    "        # print('')\n",
    "        # break\n",
    "    table_stack = pd.concat(list_of_tables, axis=0)\n",
    "    n_items = table_stack.shape[0]\n",
    "    table_stack.to_csv(os.path.join(\"data\", f\"{category}.csv\"), index=False)\n",
    "    del table_stack\n",
    "    del list_of_tables\n",
    "    pbar_.close()\n",
    "    # break\n",
    "    \n",
    "    "
   ]
  },
  {
   "cell_type": "code",
   "execution_count": null,
   "id": "168c242c-10f5-4ae6-ba7e-2700213c5daa",
   "metadata": {},
   "outputs": [],
   "source": []
  },
  {
   "cell_type": "code",
   "execution_count": 7,
   "id": "59c91793-28b6-4edb-b209-8da9a6d700a5",
   "metadata": {},
   "outputs": [],
   "source": [
    "# driver.get(INITIAL_WEBSITE)\n",
    "# header = driver.find_elements(by=By.CSS_SELECTOR, value=\"#bs-example-navbar-collapse-1 > ul a\")\n",
    "\n",
    "# for category in header:\n",
    "#     print(f\"category {category.text} -- link: {category.get_attribute('href')}\")\n",
    "\n",
    "#     # go to a page from navbar\n",
    "#     driver.get(category.get_attribute('href'))\n",
    "#     last_page = False\n",
    "#     list_of_tables = []\n",
    "\n",
    "#     while not last_page:\n",
    "#         table = driver.find_element(by=By.CSS_SELECTOR, value=\"body > section > div > div > div > div > div.row.cus-row > div.col-sm-12.cus-col.content-left-col > div.left-tab-section > div.table-responsive \")\n",
    "#         df = pd.read_html(table.get_attribute('innerHTML'))[0]\n",
    "#         a_tags = table.find_elements(by=By.CSS_SELECTOR, value=\"div.table-responsive > table > tbody > tr > td > a\")\n",
    "#         links = [a.get_attribute('href') for a in a_tags]\n",
    "#         df = pd.read_html(table.get_attribute('innerHTML'))[0]\n",
    "#         df[\"link\"] = links\n",
    "#         # df.insert(-1, \"link\", links )\n",
    "#         list_of_tables.append(df)\n",
    "\n",
    "#         page_bar = driver.find_element(by=By.CSS_SELECTOR, value=\"#pagination-mian > nav > ul\")\n",
    "#         pages = page_bar.find_elements(by=By.CSS_SELECTOR, value=\"li > a\")\n",
    "#         try:\n",
    "#             next_page = page_bar.find_element(by=By.CSS_SELECTOR, value=\"li.active + li\").find_element(by=By.CSS_SELECTOR, value=\"a\")\n",
    "#             next_page.click()\n",
    "#         except:\n",
    "#             # print(\"Last page\")\n",
    "#             last_page = True\n",
    "\n",
    "#         # break\n",
    "\n",
    "#     table_stack = pd.concat(list_of_tables, axis=0)\n",
    "#     n_items = table_stack.shape[0]\n",
    "#     # n_pages = int(page_bar.find_element(by=By.CSS_SELECTOR, value=\"li.active\").find_element(by=By.CSS_SELECTOR, value=\"a\").text)\n",
    "#     data[category] = {'n_items': n_items, 'df': table_stack, }\n",
    "#     # break"
   ]
  },
  {
   "cell_type": "code",
   "execution_count": null,
   "id": "f5c191ce-8544-4df1-bfb9-853af7713cbe",
   "metadata": {},
   "outputs": [],
   "source": [
    "df.head()"
   ]
  },
  {
   "cell_type": "code",
   "execution_count": 24,
   "id": "3d609544-082d-4239-b8b6-8bae61299fba",
   "metadata": {},
   "outputs": [
    {
     "data": {
      "text/plain": [
       "(450, 6)"
      ]
     },
     "execution_count": 24,
     "metadata": {},
     "output_type": "execute_result"
    }
   ],
   "source": [
    "df.shape"
   ]
  },
  {
   "cell_type": "code",
   "execution_count": null,
   "id": "1a0fd211-37e1-4f46-aa08-c151367d6419",
   "metadata": {},
   "outputs": [],
   "source": []
  },
  {
   "cell_type": "code",
   "execution_count": null,
   "id": "87c5de8c-e1e6-4c3d-a5ac-3fb363db74dd",
   "metadata": {},
   "outputs": [],
   "source": []
  }
 ],
 "metadata": {
  "kernelspec": {
   "display_name": "Python 3 (ipykernel)",
   "language": "python",
   "name": "python3"
  },
  "language_info": {
   "codemirror_mode": {
    "name": "ipython",
    "version": 3
   },
   "file_extension": ".py",
   "mimetype": "text/x-python",
   "name": "python",
   "nbconvert_exporter": "python",
   "pygments_lexer": "ipython3",
   "version": "3.9.7"
  }
 },
 "nbformat": 4,
 "nbformat_minor": 5
}
